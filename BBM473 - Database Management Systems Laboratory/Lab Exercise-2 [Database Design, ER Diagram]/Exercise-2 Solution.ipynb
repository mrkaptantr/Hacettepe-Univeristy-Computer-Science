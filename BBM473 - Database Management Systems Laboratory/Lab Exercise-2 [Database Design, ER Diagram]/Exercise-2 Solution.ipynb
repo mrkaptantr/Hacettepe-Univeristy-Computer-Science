{
  "cells": [
    {
      "cell_type": "markdown",
      "metadata": {
        "id": "2zmxHEmpvFqI"
      },
      "source": [
        "## Exercise 2: Database Design, ER Diagram\n",
        "------------\n",
        "\n",
        "In this assignment, you are supposed to design a database schema and implement it on a relational database management system."
      ]
    },
    {
      "cell_type": "markdown",
      "metadata": {
        "id": "QmMfTK1bvFqK"
      },
      "source": [
        "Task #1\n",
        "-----------\n",
        "\n",
        "Draw the Entity Relationship (“ER”) Diagram for the database described below:"
      ]
    },
    {
      "cell_type": "markdown",
      "metadata": {
        "id": "ERcUhqjUvFqL"
      },
      "source": [
        ":This database archives and rents movies to its customers online. The records of customers, movies, and rentals are stored on an information system.\n",
        "\n",
        "A customer, who must be 18 years or older, creates his record online with ID, name, contact info and birthdate. He can register up to 5 digital devices with unique IDs for his/her own use. \n",
        "\n",
        "A digital device is either a smart phone, tablet, smart TV or computer and it must belong to a unique customer.\n",
        "\n",
        "A customer can search movies in the database based on name, director, and cast. When a customer decides to rent one or more movies online, s/he first pays for them via an online payment method (e.g. PayPal, iDeal, credit card, ...). \n",
        "\n",
        "Afterwards, the customer is able to download rental(s) to one of his/her registered device(s) and play the movie(s).\n",
        "There is no other way to run movies. The customer is allowed for 90 consecutive days, starting with the rental date, to play the movie.\n",
        "\n",
        "During this period, statistics about each play of the rental by that customer on his/her specific device is recorded. This data is uploaded automatically to the database system at the end of rental period for analysis."
      ]
    },
    {
      "cell_type": "markdown",
      "metadata": {
        "id": "GrTFG06_vFqM"
      },
      "source": [
        "Task #2\n",
        "-----------\n",
        "\n",
        "Write SQL query/queries to generate the designed database."
      ]
    },
    {
      "cell_type": "code",
      "source": [
        "%load_ext sql\n",
        "%sql sqlite://"
      ],
      "metadata": {
        "colab": {
          "base_uri": "https://localhost:8080/",
          "height": 36
        },
        "id": "I5y-rzAa4zLi",
        "outputId": "e79ac529-5b09-4e04-a104-e52fd2503b5b"
      },
      "execution_count": null,
      "outputs": [
        {
          "output_type": "execute_result",
          "data": {
            "application/vnd.google.colaboratory.intrinsic+json": {
              "type": "string"
            },
            "text/plain": [
              "'Connected: @None'"
            ]
          },
          "metadata": {},
          "execution_count": 22
        }
      ]
    },
    {
      "cell_type": "code",
      "execution_count": null,
      "metadata": {
        "colab": {
          "base_uri": "https://localhost:8080/"
        },
        "id": "61fPKQbuvFqN",
        "outputId": "9e77db9c-d617-4b49-c237-f7997fba5fe6"
      },
      "outputs": [
        {
          "output_type": "stream",
          "name": "stdout",
          "text": [
            " * sqlite://\n",
            "Done.\n",
            "Done.\n",
            "Done.\n",
            "Done.\n",
            "Done.\n",
            "Done.\n",
            "Done.\n",
            "Done.\n"
          ]
        },
        {
          "output_type": "execute_result",
          "data": {
            "text/plain": [
              "[]"
            ]
          },
          "metadata": {},
          "execution_count": 88
        }
      ],
      "source": [
        "%%sql\n",
        "drop table device;\n",
        "create table device(\n",
        "  device_id INTEGER primary key NOT NULL, \n",
        "    -- Device ID's originality will be checked here, so no need to check it at customer table.\n",
        "  customer_id INTEGER,type varchar(9) NOT NULL, \n",
        "  device_type varchar(11),\n",
        "  unique (device_id), \n",
        "  unique (customer_id)\n",
        ");\n",
        "\n",
        "drop table customer;\n",
        "CREATE TABLE customer (\n",
        "  customerID      INTEGER primary key NOT NULL,\n",
        "  name            varchar(25),\n",
        "  contact_info    varchar(30),\n",
        "  birthdate       date,\n",
        "  -- CHECK((2022 - EXTRACT (year from birthdate)) > 17) NOT NULL\n",
        "  -- CHECK(DATEDIFF(year, birthdate, getdate() > 17) NOT NULL,\n",
        "  -- (extract (year from birthdate))- (extract(year from date()))>17) NOT NULL,\n",
        "  -- These comment lines above, are about different ways to checking age>17 condition but unfortunately i wasn't able to perform them.\n",
        "  device1_id      INTEGER,\n",
        "  device2_id      INTEGER,\n",
        "  device3_id      INTEGER,\n",
        "  device4_id      INTEGER,\n",
        "  device5_id      INTEGER\n",
        ");\n",
        "\n",
        "drop table movies;\n",
        "CREATE TABLE movies(\n",
        "  movieID         int primary key NOT NULL,\n",
        "  name            varchar(25),\n",
        "  director        varchar(25),\n",
        "  cast_info       varchar(50)\n",
        ");\n",
        " \n",
        "drop table rental;\n",
        "CREATE TABLE rental (\n",
        "  paymentID       INTEGER primary key NOT NULL,\n",
        "  payment_method  varchar(25),\n",
        "  rental_date     date,\n",
        "  -- Rental date is required for checking 90 dates.\n",
        "  movie_id        INTEGER,\n",
        "  device_id       INTEGER,\n",
        "  -- In order to make analyze, we need device_id but we can find it with using customer_id. \n",
        "  customer_id     INTEGER\n",
        ");\n",
        "\n"
      ]
    },
    {
      "cell_type": "code",
      "source": [],
      "metadata": {
        "id": "81XH7s2GwQZ4"
      },
      "execution_count": null,
      "outputs": []
    }
  ],
  "metadata": {
    "kernelspec": {
      "display_name": "Python 2",
      "language": "python",
      "name": "python2"
    },
    "language_info": {
      "codemirror_mode": {
        "name": "ipython",
        "version": 2
      },
      "file_extension": ".py",
      "mimetype": "text/x-python",
      "name": "python",
      "nbconvert_exporter": "python",
      "pygments_lexer": "ipython2",
      "version": "2.7.13"
    },
    "colab": {
      "provenance": []
    }
  },
  "nbformat": 4,
  "nbformat_minor": 0
}