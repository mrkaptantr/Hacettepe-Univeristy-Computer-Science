{
  "cells": [
    {
      "cell_type": "markdown",
      "metadata": {
        "id": "BBGB2mI8eY-H"
      },
      "source": [
        "**BBM473 Database Laboratory (Spring 2022)**\n",
        "\n",
        "\n",
        "Exercise 6: Indexes\n",
        "===========\n",
        "\n",
        "Let's play with the [consumer complaint database](https://catalog.data.gov/dataset/consumer-complaint-database) from data.gov"
      ]
    },
    {
      "cell_type": "code",
      "execution_count": null,
      "metadata": {
        "colab": {
          "base_uri": "https://localhost:8080/"
        },
        "id": "bq9ff3I1-tyZ",
        "outputId": "f741e60f-4fbf-40ef-b992-9e68e2aa52f4"
      },
      "outputs": [
        {
          "output_type": "stream",
          "name": "stdout",
          "text": [
            "--2022-04-06 13:05:40--  https://github.com/alibtasdemir/Exercise6/raw/main/complaint.db\n",
            "Resolving github.com (github.com)... 140.82.121.4\n",
            "Connecting to github.com (github.com)|140.82.121.4|:443... connected.\n",
            "HTTP request sent, awaiting response... 302 Found\n",
            "Location: https://raw.githubusercontent.com/alibtasdemir/Exercise6/main/complaint.db [following]\n",
            "--2022-04-06 13:05:40--  https://raw.githubusercontent.com/alibtasdemir/Exercise6/main/complaint.db\n",
            "Resolving raw.githubusercontent.com (raw.githubusercontent.com)... 185.199.108.133, 185.199.109.133, 185.199.110.133, ...\n",
            "Connecting to raw.githubusercontent.com (raw.githubusercontent.com)|185.199.108.133|:443... connected.\n",
            "HTTP request sent, awaiting response... 200 OK\n",
            "Length: 22255616 (21M) [application/octet-stream]\n",
            "Saving to: ‘complaint.db’\n",
            "\n",
            "complaint.db        100%[===================>]  21.22M  --.-KB/s    in 0.07s   \n",
            "\n",
            "2022-04-06 13:05:42 (291 MB/s) - ‘complaint.db’ saved [22255616/22255616]\n",
            "\n"
          ]
        }
      ],
      "source": [
        "# IF YOU ARE RUNNING ON COLAB\n",
        "# DOWNLOAD THE DATABASE\n",
        "# ELSE MAKE SURE YOUR DATABASE \n",
        "# FILE IS IN THE SAME DIRECTORY \n",
        "# WITH YOUR NOTEBOOK FILE\n",
        "\n",
        "!wget https://github.com/alibtasdemir/Exercise6/raw/main/complaint.db"
      ]
    },
    {
      "cell_type": "markdown",
      "metadata": {
        "id": "TmCZDspU-tyZ"
      },
      "source": [
        "Activate sql function and connect to the database"
      ]
    },
    {
      "cell_type": "code",
      "execution_count": null,
      "metadata": {
        "colab": {
          "base_uri": "https://localhost:8080/"
        },
        "id": "N5SQVCkbeY-N",
        "outputId": "d84380eb-5b77-49d3-ce2e-93372cdc23a1"
      },
      "outputs": [
        {
          "output_type": "stream",
          "name": "stdout",
          "text": [
            "The sql extension is already loaded. To reload it, use:\n",
            "  %reload_ext sql\n",
            " * sqlite:///complaint.db\n",
            "Done.\n",
            " * sqlite:///complaint.db\n",
            "Done.\n",
            " * sqlite:///complaint.db\n",
            "Done.\n"
          ]
        },
        {
          "output_type": "execute_result",
          "data": {
            "text/plain": [
              "[]"
            ]
          },
          "metadata": {},
          "execution_count": 90
        }
      ],
      "source": [
        "%load_ext sql\n",
        "%sql sqlite:///complaint.db\n",
        "import time\n",
        "%sql drop index if exists state_product_index;\n",
        "%sql drop index if exists state_index;\n",
        "%sql analyze"
      ]
    },
    {
      "cell_type": "markdown",
      "metadata": {
        "id": "AYoxYmE7-tya"
      },
      "source": [
        "Number of records in the database. (It should be 79468)"
      ]
    },
    {
      "cell_type": "code",
      "execution_count": null,
      "metadata": {
        "colab": {
          "base_uri": "https://localhost:8080/",
          "height": 95
        },
        "id": "aSNDR3bgeY-O",
        "outputId": "6288a36d-db61-4c1e-804b-e9b3213e0d35"
      },
      "outputs": [
        {
          "output_type": "stream",
          "name": "stdout",
          "text": [
            " * sqlite:///complaint.db\n",
            "Done.\n"
          ]
        },
        {
          "output_type": "execute_result",
          "data": {
            "text/plain": [
              "[(79468,)]"
            ],
            "text/html": [
              "<table>\n",
              "    <thead>\n",
              "        <tr>\n",
              "            <th>count(*)</th>\n",
              "        </tr>\n",
              "    </thead>\n",
              "    <tbody>\n",
              "        <tr>\n",
              "            <td>79468</td>\n",
              "        </tr>\n",
              "    </tbody>\n",
              "</table>"
            ]
          },
          "metadata": {},
          "execution_count": 84
        }
      ],
      "source": [
        "%sql select count(*) from complaints;"
      ]
    },
    {
      "cell_type": "markdown",
      "metadata": {
        "id": "fyh22JE2-tya"
      },
      "source": [
        "Take a look into the database"
      ]
    },
    {
      "cell_type": "code",
      "execution_count": null,
      "metadata": {
        "colab": {
          "base_uri": "https://localhost:8080/",
          "height": 321
        },
        "id": "aS-QiOfJeY-P",
        "outputId": "6c8fc7f0-48ed-4ebe-f34a-1e9606b69b84"
      },
      "outputs": [
        {
          "output_type": "stream",
          "name": "stdout",
          "text": [
            " * sqlite:///complaint.db\n",
            "Done.\n"
          ]
        },
        {
          "output_type": "execute_result",
          "data": {
            "text/plain": [
              "[('12/30/2015', 'Mortgage', 'Other mortgage', 'Loan servicing, payments, escrow account', '', '', 'Company chooses not to provide a public response', 'U.S. Bancorp', 'TN', '38138', '', 'N/A', 'Referral', '01/05/2016', 'Closed with explanation', 'Yes'),\n",
              " ('12/12/2015', 'Mortgage', 'Other mortgage', 'Loan modification,collection,foreclosure', '', '', 'Company chooses not to provide a public response', 'Citibank', 'NY', '13021', '', 'N/A', 'Referral', '12/23/2015', 'Closed with explanation', 'Yes'),\n",
              " ('12/02/2015', 'Mortgage', 'Other mortgage', 'Loan modification,collection,foreclosure', '', '', '', 'Nationstar Mortgage', 'MI', '49102', '', 'N/A', 'Referral', '12/17/2015', 'Closed with explanation', 'Yes'),\n",
              " ('12/02/2015', 'Bank account or service', 'Other bank product/service', 'Account opening, closing, or management', '', '', 'Company chooses not to provide a public response', 'Wells Fargo & Company', '', '', '', 'N/A', 'Referral', '12/07/2015', 'Closed with explanation', 'Yes'),\n",
              " ('12/22/2015', 'Mortgage', 'Conventional fixed mortgage', 'Loan servicing, payments, escrow account', '', '', '', 'Nationstar Mortgage', 'FL', '33484', 'Older American', 'Consent not provided', 'Web', '01/06/2016', 'Closed with explanation', 'Yes')]"
            ],
            "text/html": [
              "<table>\n",
              "    <thead>\n",
              "        <tr>\n",
              "            <th>Date_received</th>\n",
              "            <th>Product</th>\n",
              "            <th>Subproduct</th>\n",
              "            <th>Issue</th>\n",
              "            <th>Subissue</th>\n",
              "            <th>Consumer_narrative</th>\n",
              "            <th>Company_public_response</th>\n",
              "            <th>Company</th>\n",
              "            <th>State</th>\n",
              "            <th>ZIP_code</th>\n",
              "            <th>Submitted_via</th>\n",
              "            <th>Date_sent_to_company</th>\n",
              "            <th>Company_response</th>\n",
              "            <th>Timely_response</th>\n",
              "            <th>Consumer_disputed</th>\n",
              "            <th>Complaint_ID</th>\n",
              "        </tr>\n",
              "    </thead>\n",
              "    <tbody>\n",
              "        <tr>\n",
              "            <td>12/30/2015</td>\n",
              "            <td>Mortgage</td>\n",
              "            <td>Other mortgage</td>\n",
              "            <td>Loan servicing, payments, escrow account</td>\n",
              "            <td></td>\n",
              "            <td></td>\n",
              "            <td>Company chooses not to provide a public response</td>\n",
              "            <td>U.S. Bancorp</td>\n",
              "            <td>TN</td>\n",
              "            <td>38138</td>\n",
              "            <td></td>\n",
              "            <td>N/A</td>\n",
              "            <td>Referral</td>\n",
              "            <td>01/05/2016</td>\n",
              "            <td>Closed with explanation</td>\n",
              "            <td>Yes</td>\n",
              "        </tr>\n",
              "        <tr>\n",
              "            <td>12/12/2015</td>\n",
              "            <td>Mortgage</td>\n",
              "            <td>Other mortgage</td>\n",
              "            <td>Loan modification,collection,foreclosure</td>\n",
              "            <td></td>\n",
              "            <td></td>\n",
              "            <td>Company chooses not to provide a public response</td>\n",
              "            <td>Citibank</td>\n",
              "            <td>NY</td>\n",
              "            <td>13021</td>\n",
              "            <td></td>\n",
              "            <td>N/A</td>\n",
              "            <td>Referral</td>\n",
              "            <td>12/23/2015</td>\n",
              "            <td>Closed with explanation</td>\n",
              "            <td>Yes</td>\n",
              "        </tr>\n",
              "        <tr>\n",
              "            <td>12/02/2015</td>\n",
              "            <td>Mortgage</td>\n",
              "            <td>Other mortgage</td>\n",
              "            <td>Loan modification,collection,foreclosure</td>\n",
              "            <td></td>\n",
              "            <td></td>\n",
              "            <td></td>\n",
              "            <td>Nationstar Mortgage</td>\n",
              "            <td>MI</td>\n",
              "            <td>49102</td>\n",
              "            <td></td>\n",
              "            <td>N/A</td>\n",
              "            <td>Referral</td>\n",
              "            <td>12/17/2015</td>\n",
              "            <td>Closed with explanation</td>\n",
              "            <td>Yes</td>\n",
              "        </tr>\n",
              "        <tr>\n",
              "            <td>12/02/2015</td>\n",
              "            <td>Bank account or service</td>\n",
              "            <td>Other bank product/service</td>\n",
              "            <td>Account opening, closing, or management</td>\n",
              "            <td></td>\n",
              "            <td></td>\n",
              "            <td>Company chooses not to provide a public response</td>\n",
              "            <td>Wells Fargo &amp; Company</td>\n",
              "            <td></td>\n",
              "            <td></td>\n",
              "            <td></td>\n",
              "            <td>N/A</td>\n",
              "            <td>Referral</td>\n",
              "            <td>12/07/2015</td>\n",
              "            <td>Closed with explanation</td>\n",
              "            <td>Yes</td>\n",
              "        </tr>\n",
              "        <tr>\n",
              "            <td>12/22/2015</td>\n",
              "            <td>Mortgage</td>\n",
              "            <td>Conventional fixed mortgage</td>\n",
              "            <td>Loan servicing, payments, escrow account</td>\n",
              "            <td></td>\n",
              "            <td></td>\n",
              "            <td></td>\n",
              "            <td>Nationstar Mortgage</td>\n",
              "            <td>FL</td>\n",
              "            <td>33484</td>\n",
              "            <td>Older American</td>\n",
              "            <td>Consent not provided</td>\n",
              "            <td>Web</td>\n",
              "            <td>01/06/2016</td>\n",
              "            <td>Closed with explanation</td>\n",
              "            <td>Yes</td>\n",
              "        </tr>\n",
              "    </tbody>\n",
              "</table>"
            ]
          },
          "metadata": {},
          "execution_count": 85
        }
      ],
      "source": [
        "%sql select * from complaints limit 5;"
      ]
    },
    {
      "cell_type": "markdown",
      "metadata": {
        "id": "L3lmKI7zeY-P"
      },
      "source": [
        "### Task 1: Query without an index (40 pts.)\n",
        "\n",
        "First, let's start off by writing a query to find the **counts of the top 5 Product, State pairs** in the complaints database (return the product and state as well as the count).  Use the single-line syntax for simple timing so we can see how long the query takes:"
      ]
    },
    {
      "cell_type": "code",
      "execution_count": null,
      "metadata": {
        "colab": {
          "base_uri": "https://localhost:8080/",
          "height": 214
        },
        "id": "zrwD6y62eY-Q",
        "outputId": "fcfde089-ae53-4986-dd26-b520fc9c4ee4"
      },
      "outputs": [
        {
          "output_type": "stream",
          "name": "stdout",
          "text": [
            " * sqlite:///complaint.db\n",
            "Done.\n",
            "CPU times: user 18.8 ms, sys: 3.16 ms, total: 22 ms\n",
            "Wall time: 22.4 ms\n"
          ]
        },
        {
          "output_type": "execute_result",
          "data": {
            "text/plain": [
              "[(None, None, 13451),\n",
              " ('Mortgage', 'CA', 3891),\n",
              " ('Mortgage', 'FL', 2343),\n",
              " ('Debt collection', None, 1654),\n",
              " ('Mortgage', None, 1427)]"
            ],
            "text/html": [
              "<table>\n",
              "    <thead>\n",
              "        <tr>\n",
              "            <th>Product</th>\n",
              "            <th>State</th>\n",
              "            <th>count</th>\n",
              "        </tr>\n",
              "    </thead>\n",
              "    <tbody>\n",
              "        <tr>\n",
              "            <td>None</td>\n",
              "            <td>None</td>\n",
              "            <td>13451</td>\n",
              "        </tr>\n",
              "        <tr>\n",
              "            <td>Mortgage</td>\n",
              "            <td>CA</td>\n",
              "            <td>3891</td>\n",
              "        </tr>\n",
              "        <tr>\n",
              "            <td>Mortgage</td>\n",
              "            <td>FL</td>\n",
              "            <td>2343</td>\n",
              "        </tr>\n",
              "        <tr>\n",
              "            <td>Debt collection</td>\n",
              "            <td>None</td>\n",
              "            <td>1654</td>\n",
              "        </tr>\n",
              "        <tr>\n",
              "            <td>Mortgage</td>\n",
              "            <td>None</td>\n",
              "            <td>1427</td>\n",
              "        </tr>\n",
              "    </tbody>\n",
              "</table>"
            ]
          },
          "metadata": {},
          "execution_count": 88
        }
      ],
      "source": [
        "%time %sql SELECT product, state, count(*) AS count FROM complaints GROUP BY product, state ORDER BY count DESC LIMIT 5;"
      ]
    },
    {
      "cell_type": "markdown",
      "metadata": {
        "id": "-IT9D3eFeY-Q"
      },
      "source": [
        "### Task 2: Single search key index (30 pts.)\n",
        "\n",
        "Now create a _single-key_ index such that the above query is faster!  The syntax to create an index in SQL is:\n",
        "> DROP INDEX IF EXISTS index_name;\n",
        "> CREATE INDEX index_name ON table(attributes);"
      ]
    },
    {
      "cell_type": "code",
      "execution_count": null,
      "metadata": {
        "id": "vO5O703ieY-S",
        "colab": {
          "base_uri": "https://localhost:8080/"
        },
        "outputId": "ca78d439-197b-4ad7-ee48-6c3ad5efcf7e"
      },
      "outputs": [
        {
          "output_type": "stream",
          "name": "stdout",
          "text": [
            " * sqlite:///complaint.db\n",
            "Done.\n",
            "Done.\n"
          ]
        },
        {
          "output_type": "execute_result",
          "data": {
            "text/plain": [
              "[]"
            ]
          },
          "metadata": {},
          "execution_count": 70
        }
      ],
      "source": [
        "%%sql\n",
        "DROP INDEX IF EXISTS state_index;\n",
        "CREATE INDEX state_index ON complaints(state);"
      ]
    },
    {
      "cell_type": "code",
      "execution_count": null,
      "metadata": {
        "id": "oiG2WVAOeY-T",
        "colab": {
          "base_uri": "https://localhost:8080/",
          "height": 214
        },
        "outputId": "e4fd0894-a44f-4681-95c6-13ae41785ad9"
      },
      "outputs": [
        {
          "output_type": "stream",
          "name": "stdout",
          "text": [
            " * sqlite:///complaint.db\n",
            "Done.\n",
            "CPU times: user 20.4 ms, sys: 1.85 ms, total: 22.3 ms\n",
            "Wall time: 23 ms\n"
          ]
        },
        {
          "output_type": "execute_result",
          "data": {
            "text/plain": [
              "[(None, None, 13451),\n",
              " ('Mortgage', 'CA', 3891),\n",
              " ('Mortgage', 'FL', 2343),\n",
              " ('Debt collection', None, 1654),\n",
              " ('Mortgage', None, 1427)]"
            ],
            "text/html": [
              "<table>\n",
              "    <thead>\n",
              "        <tr>\n",
              "            <th>Product</th>\n",
              "            <th>State</th>\n",
              "            <th>count</th>\n",
              "        </tr>\n",
              "    </thead>\n",
              "    <tbody>\n",
              "        <tr>\n",
              "            <td>None</td>\n",
              "            <td>None</td>\n",
              "            <td>13451</td>\n",
              "        </tr>\n",
              "        <tr>\n",
              "            <td>Mortgage</td>\n",
              "            <td>CA</td>\n",
              "            <td>3891</td>\n",
              "        </tr>\n",
              "        <tr>\n",
              "            <td>Mortgage</td>\n",
              "            <td>FL</td>\n",
              "            <td>2343</td>\n",
              "        </tr>\n",
              "        <tr>\n",
              "            <td>Debt collection</td>\n",
              "            <td>None</td>\n",
              "            <td>1654</td>\n",
              "        </tr>\n",
              "        <tr>\n",
              "            <td>Mortgage</td>\n",
              "            <td>None</td>\n",
              "            <td>1427</td>\n",
              "        </tr>\n",
              "    </tbody>\n",
              "</table>"
            ]
          },
          "metadata": {},
          "execution_count": 80
        }
      ],
      "source": [
        "%time %sql SELECT product, state, count(*) AS count FROM complaints GROUP BY product, state ORDER BY count DESC LIMIT 5;"
      ]
    },
    {
      "cell_type": "markdown",
      "metadata": {
        "id": "rORLhp4aeY-T"
      },
      "source": [
        "### Task 3 (a) (15 pts.):\n",
        "\n",
        "Now, create a _covering_ index for the query and then see how long it takes to run!"
      ]
    },
    {
      "cell_type": "code",
      "execution_count": null,
      "metadata": {
        "id": "QVCQDwspeY-U",
        "colab": {
          "base_uri": "https://localhost:8080/"
        },
        "outputId": "f90d9941-9468-464b-b7a1-5f8b20b87048"
      },
      "outputs": [
        {
          "output_type": "stream",
          "name": "stdout",
          "text": [
            " * sqlite:///complaint.db\n",
            "Done.\n",
            "Done.\n"
          ]
        },
        {
          "output_type": "execute_result",
          "data": {
            "text/plain": [
              "[]"
            ]
          },
          "metadata": {},
          "execution_count": 72
        }
      ],
      "source": [
        "%%sql \n",
        "DROP INDEX IF EXISTS state_product_index;\n",
        "CREATE INDEX state_product_index ON complaints(product, state);"
      ]
    },
    {
      "cell_type": "code",
      "execution_count": null,
      "metadata": {
        "id": "kUQSBJuieY-U",
        "colab": {
          "base_uri": "https://localhost:8080/",
          "height": 214
        },
        "outputId": "34e9778f-a4a0-4485-eb48-c9cc6cb678e5"
      },
      "outputs": [
        {
          "output_type": "stream",
          "name": "stdout",
          "text": [
            " * sqlite:///complaint.db\n",
            "Done.\n",
            "CPU times: user 18.8 ms, sys: 1.87 ms, total: 20.7 ms\n",
            "Wall time: 24.1 ms\n"
          ]
        },
        {
          "output_type": "execute_result",
          "data": {
            "text/plain": [
              "[(None, None, 13451),\n",
              " ('Mortgage', 'CA', 3891),\n",
              " ('Mortgage', 'FL', 2343),\n",
              " ('Debt collection', None, 1654),\n",
              " ('Mortgage', None, 1427)]"
            ],
            "text/html": [
              "<table>\n",
              "    <thead>\n",
              "        <tr>\n",
              "            <th>Product</th>\n",
              "            <th>State</th>\n",
              "            <th>count</th>\n",
              "        </tr>\n",
              "    </thead>\n",
              "    <tbody>\n",
              "        <tr>\n",
              "            <td>None</td>\n",
              "            <td>None</td>\n",
              "            <td>13451</td>\n",
              "        </tr>\n",
              "        <tr>\n",
              "            <td>Mortgage</td>\n",
              "            <td>CA</td>\n",
              "            <td>3891</td>\n",
              "        </tr>\n",
              "        <tr>\n",
              "            <td>Mortgage</td>\n",
              "            <td>FL</td>\n",
              "            <td>2343</td>\n",
              "        </tr>\n",
              "        <tr>\n",
              "            <td>Debt collection</td>\n",
              "            <td>None</td>\n",
              "            <td>1654</td>\n",
              "        </tr>\n",
              "        <tr>\n",
              "            <td>Mortgage</td>\n",
              "            <td>None</td>\n",
              "            <td>1427</td>\n",
              "        </tr>\n",
              "    </tbody>\n",
              "</table>"
            ]
          },
          "metadata": {},
          "execution_count": 77
        }
      ],
      "source": [
        "%time %sql SELECT product, state, count(*) AS count FROM complaints GROUP BY product, state ORDER BY count DESC LIMIT 5;"
      ]
    },
    {
      "cell_type": "markdown",
      "metadata": {
        "id": "xAjiKTf7eY-V"
      },
      "source": [
        "### Task 3 (b) (15 pts.):\n",
        "\n",
        "Use EXPLAIN to see if sqlite used/recognized your covering index.  EXPLAIN is an operator that tells SQL to explain its query plan... we'll look into this in more depth later.  For now, the syntax is:\n",
        "> EXPLAIN QUERY PLAN your_query_here;"
      ]
    },
    {
      "cell_type": "code",
      "execution_count": null,
      "metadata": {
        "id": "Q2IYuZ6MeY-V",
        "colab": {
          "base_uri": "https://localhost:8080/",
          "height": 116
        },
        "outputId": "b7210c94-1e93-469c-945c-f4d8ded1f4fb"
      },
      "outputs": [
        {
          "output_type": "stream",
          "name": "stdout",
          "text": [
            " * sqlite:///complaint.db\n",
            "Done.\n"
          ]
        },
        {
          "output_type": "execute_result",
          "data": {
            "text/plain": [
              "[(0, 0, 0, 'SCAN TABLE complaints USING COVERING INDEX state_product_index'),\n",
              " (0, 0, 0, 'USE TEMP B-TREE FOR ORDER BY')]"
            ],
            "text/html": [
              "<table>\n",
              "    <thead>\n",
              "        <tr>\n",
              "            <th>selectid</th>\n",
              "            <th>order</th>\n",
              "            <th>from</th>\n",
              "            <th>detail</th>\n",
              "        </tr>\n",
              "    </thead>\n",
              "    <tbody>\n",
              "        <tr>\n",
              "            <td>0</td>\n",
              "            <td>0</td>\n",
              "            <td>0</td>\n",
              "            <td>SCAN TABLE complaints USING COVERING INDEX state_product_index</td>\n",
              "        </tr>\n",
              "        <tr>\n",
              "            <td>0</td>\n",
              "            <td>0</td>\n",
              "            <td>0</td>\n",
              "            <td>USE TEMP B-TREE FOR ORDER BY</td>\n",
              "        </tr>\n",
              "    </tbody>\n",
              "</table>"
            ]
          },
          "metadata": {},
          "execution_count": 81
        }
      ],
      "source": [
        "%%sql\n",
        "EXPLAIN QUERY PLAN\n",
        "SELECT product, state, count(*) AS c\n",
        "FROM complaints\n",
        "GROUP BY product, state ORDER BY c DESC LIMIT 5;"
      ]
    }
  ],
  "metadata": {
    "colab": {
      "provenance": []
    },
    "kernelspec": {
      "display_name": "Python 3",
      "language": "python",
      "name": "python3"
    },
    "language_info": {
      "codemirror_mode": {
        "name": "ipython",
        "version": 3
      },
      "file_extension": ".py",
      "mimetype": "text/x-python",
      "name": "python",
      "nbconvert_exporter": "python",
      "pygments_lexer": "ipython3",
      "version": "3.10.0"
    }
  },
  "nbformat": 4,
  "nbformat_minor": 0
}