{
 "cells": [
  {
   "cell_type": "markdown",
   "metadata": {},
   "source": [
    "Imports\n",
    "==========="
   ]
  },
  {
   "cell_type": "code",
   "execution_count": 1,
   "metadata": {},
   "outputs": [],
   "source": [
    "from sklearn.metrics.cluster import rand_score\n",
    "from sklearn.metrics import confusion_matrix\n",
    "import findspark\n",
    "findspark.init('C:\\spark-3.2.1-bin-hadoop3.2')\n",
    "findspark.find()\n",
    "from pyspark.ml.linalg import Vector\n",
    "from pyspark.ml.feature import VectorAssembler\n",
    "import pandas as pd\n",
    "import matplotlib.pyplot as plt\n",
    "from pyspark.ml.clustering import KMeans\n",
    "from pyspark.ml.evaluation import ClusteringEvaluator\n",
    "from pyspark.sql import SparkSession \n",
    "spark = SparkSession.builder\\\n",
    "    .appName(\"Word Counts\")\\\n",
    "    .getOrCreate()\n",
    "from pyspark.ml.tuning import CrossValidator, ParamGridBuilder, CrossValidatorModel\n",
    "from pyspark.ml.classification import RandomForestClassifier\n",
    "from pyspark.ml.evaluation import MulticlassClassificationEvaluator"
   ]
  },
  {
   "cell_type": "markdown",
   "metadata": {},
   "source": [
    "TASK1\n",
    "=============="
   ]
  },
  {
   "cell_type": "code",
   "execution_count": 2,
   "metadata": {},
   "outputs": [
    {
     "data": {
      "text/plain": [
       "[('BBM469', 1),\n",
       " ('Intensive', 1),\n",
       " ('Applications', 1),\n",
       " ('Laboratory', 1),\n",
       " ('Assignment', 3),\n",
       " ('Machine', 1),\n",
       " ('Spark', 9),\n",
       " ('Date', 2),\n",
       " ('04/04/2022', 1),\n",
       " ('Due', 1),\n",
       " ('Instructor', 1),\n",
       " ('Erdogan', 1),\n",
       " ('of', 11),\n",
       " ('The', 4),\n",
       " ('this', 4),\n",
       " ('is', 4),\n",
       " ('make', 1),\n",
       " ('basics', 1),\n",
       " ('Apache', 4),\n",
       " ('machine', 2),\n",
       " ('learning', 1),\n",
       " ('using', 2),\n",
       " ('general-purpose', 1),\n",
       " ('It', 2),\n",
       " ('provides', 1),\n",
       " ('high-level', 1),\n",
       " ('APIs', 1),\n",
       " ('in', 4),\n",
       " ('Java,', 1),\n",
       " ('Scala,', 1),\n",
       " ('R', 1),\n",
       " ('programming', 1),\n",
       " ('languages,', 1),\n",
       " ('an', 1),\n",
       " ('optimized', 1),\n",
       " ('engine', 1),\n",
       " ('supports', 2),\n",
       " ('execution', 1),\n",
       " ('set', 1),\n",
       " ('tools', 1),\n",
       " ('SQL', 2),\n",
       " ('processing,', 2),\n",
       " ('MLlib', 1),\n",
       " ('learning,', 1),\n",
       " ('GraphX', 1),\n",
       " ('graph', 1),\n",
       " ('(https://spark.apache.org/docs/latest/).', 1),\n",
       " ('provide', 2),\n",
       " ('basic', 1),\n",
       " ('tutorials', 1),\n",
       " ('installation', 1),\n",
       " ('usage', 1),\n",
       " ('may', 2),\n",
       " ('use', 3),\n",
       " ('environments', 1),\n",
       " ('install', 2),\n",
       " ('c45677de0', 1),\n",
       " ('Useful', 1),\n",
       " ('e-learning', 1),\n",
       " ('1', 1),\n",
       " ('experiment', 2),\n",
       " ('design', 2),\n",
       " ('Spark.', 2),\n",
       " ('1.', 1),\n",
       " ('dataset.', 5),\n",
       " ('Piazza.', 2),\n",
       " ('Use', 2),\n",
       " ('template', 1),\n",
       " ('3.', 1),\n",
       " ('Choose', 1),\n",
       " ('Kmedoids,', 1),\n",
       " ('classification', 2),\n",
       " ('(naïve', 1),\n",
       " ('SVM,', 1),\n",
       " ('Random', 1),\n",
       " ('Forest,', 1),\n",
       " ('etc.).', 1),\n",
       " ('Import', 2),\n",
       " ('organize', 1),\n",
       " ('(OD).', 1),\n",
       " ('5.', 1),\n",
       " ('Normalize', 1),\n",
       " ('Do', 2),\n",
       " ('change', 1),\n",
       " ('Cluster', 2),\n",
       " ('OD', 1),\n",
       " ('class', 4),\n",
       " ('size', 2),\n",
       " ('step', 2),\n",
       " ('(set', 2),\n",
       " ('Present', 2),\n",
       " ('results', 3),\n",
       " ('9.', 1),\n",
       " ('Split', 2),\n",
       " ('datasets', 2),\n",
       " ('into', 1),\n",
       " ('training', 2),\n",
       " ('test', 3),\n",
       " ('sets', 1),\n",
       " ('(make', 1),\n",
       " ('these', 1),\n",
       " ('steps', 1),\n",
       " ('parametric).', 1),\n",
       " ('ND,', 1),\n",
       " ('OD,', 1),\n",
       " ('COD,', 1),\n",
       " ('Classify', 1),\n",
       " ('model', 1),\n",
       " ('plots', 1),\n",
       " ('relation', 1),\n",
       " ('two', 2),\n",
       " ('axes,', 1),\n",
       " ('clusters/classes).', 1),\n",
       " ('confusion', 1),\n",
       " ('matrix).', 1),\n",
       " ('sub-experiment', 1),\n",
       " ('Tasks', 1),\n",
       " ('projects', 1),\n",
       " ('online', 2),\n",
       " ('during', 1),\n",
       " ('hours.', 1),\n",
       " ('Task-1:', 1),\n",
       " ('Then', 1),\n",
       " ('(if', 1),\n",
       " ('run', 1),\n",
       " ('“Word', 1),\n",
       " ('Count”', 1),\n",
       " ('(%20).', 1),\n",
       " ('Task-2:', 1),\n",
       " ('training,', 1),\n",
       " ('(%10)', 2),\n",
       " ('Clustering', 1),\n",
       " ('(%20)', 2),\n",
       " ('Report:', 1),\n",
       " ('source', 2),\n",
       " ('files', 1),\n",
       " ('before', 1),\n",
       " ('presentation.', 1),\n",
       " ('Report', 1),\n",
       " ('details', 1),\n",
       " ('Piazza', 2),\n",
       " ('page', 1),\n",
       " ('(%15)', 1),\n",
       " ('REMARKS:', 1),\n",
       " ('Submission', 1),\n",
       " ('format:', 1),\n",
       " ('▪', 2),\n",
       " ('src.zip', 1),\n",
       " ('report.pdf', 1),\n",
       " ('match', 1),\n",
       " ('format', 1),\n",
       " ('10', 1),\n",
       " ('point', 1),\n",
       " ('penalty', 1),\n",
       " ('applied', 1),\n",
       " ('submissions.', 1),\n",
       " ('(https://submit.cs.hacettepe.edu.tr/)', 1),\n",
       " ('deadline', 1),\n",
       " ('other', 1),\n",
       " ('(such', 1),\n",
       " ('as', 1),\n",
       " ('CD', 1),\n",
       " ('email)', 1),\n",
       " ('via', 1),\n",
       " ('e-mail', 1),\n",
       " ('related', 1),\n",
       " ('must', 1),\n",
       " ('work.', 1),\n",
       " ('very', 1),\n",
       " ('similar', 1),\n",
       " ('assignments', 1),\n",
       " ('are', 2),\n",
       " ('both', 1),\n",
       " ('punished.', 1),\n",
       " ('General', 1),\n",
       " ('discussion', 1),\n",
       " ('allowed,', 1),\n",
       " ('but', 1),\n",
       " ('codes.', 1),\n",
       " ('ask', 1),\n",
       " ('questions', 1),\n",
       " ('group', 2),\n",
       " ('everything', 1),\n",
       " ('piazza.com/hacettepe.edu.tr/spring2022/bbm469/home', 1),\n",
       " ('-', 1),\n",
       " ('Data', 1),\n",
       " ('3', 2),\n",
       " (':', 4),\n",
       " ('Learning', 1),\n",
       " ('with', 9),\n",
       " ('Issued', 1),\n",
       " ('18/04/2022', 1),\n",
       " ('Dr.', 1),\n",
       " ('Tugba', 1),\n",
       " ('Gurgen', 1),\n",
       " ('Aim', 1),\n",
       " ('the', 42),\n",
       " ('aim', 1),\n",
       " ('assignment', 5),\n",
       " ('to', 11),\n",
       " ('you', 8),\n",
       " ('familiar', 1),\n",
       " ('and', 27),\n",
       " ('methods', 2),\n",
       " ('Environment.', 1),\n",
       " ('Background', 1),\n",
       " ('information', 1),\n",
       " ('a', 5),\n",
       " ('fast', 1),\n",
       " ('cluster', 1),\n",
       " ('computing', 1),\n",
       " ('framework.', 1),\n",
       " ('Python,', 1),\n",
       " ('that', 1),\n",
       " ('general', 1),\n",
       " ('graphs.', 1),\n",
       " ('also', 1),\n",
       " ('rich', 1),\n",
       " ('higher-level', 1),\n",
       " ('including', 1),\n",
       " ('for', 8),\n",
       " ('structured', 1),\n",
       " ('data', 1),\n",
       " ('Streaming', 1),\n",
       " ('We', 1),\n",
       " ('some', 1),\n",
       " ('system.', 2),\n",
       " ('You', 6),\n",
       " ('ready-made', 1),\n",
       " ('virtual', 1),\n",
       " ('(Sandboxes).', 1),\n",
       " ('●', 18),\n",
       " ('http://hortonworks.com/products/hortonworks-sandbox/#install', 1),\n",
       " ('Or,', 1),\n",
       " ('system', 2),\n",
       " ('on', 2),\n",
       " ('your', 6),\n",
       " ('operating', 1),\n",
       " ('https://medium.com/@GalarnykMichael/install-spark-on-ubuntu-pyspark-231',\n",
       "  1),\n",
       " ('Links', 1),\n",
       " ('notebooks', 1),\n",
       " ('tutorials.', 1),\n",
       " ('https://github.com/tirthajyoti/Spark-with-Python', 1),\n",
       " ('https://github.com/jadianes/spark-py-notebooks', 1),\n",
       " ('https://www.datacamp.com/community/tutorials/apache-spark-tutorial-machin',\n",
       "  1),\n",
       " ('https://www.tutorialspoint.com/apache_spark/', 1),\n",
       " ('Your', 2),\n",
       " ('In', 3),\n",
       " ('assignment,', 1),\n",
       " ('will', 13),\n",
       " ('implement', 3),\n",
       " ('provided', 2),\n",
       " ('second', 3),\n",
       " ('(Clustering', 1),\n",
       " ('Classification', 2),\n",
       " ('Python)', 1),\n",
       " ('Download', 1),\n",
       " ('dataset', 11),\n",
       " ('be', 8),\n",
       " ('shared', 2),\n",
       " ('through', 3),\n",
       " ('2.', 1),\n",
       " ('file', 2),\n",
       " ('which', 1),\n",
       " ('clustering', 2),\n",
       " ('method', 3),\n",
       " ('(Kmeans,', 1),\n",
       " ('etc),', 1),\n",
       " ('Bayes,', 1),\n",
       " ('4.', 1),\n",
       " ('clustering/classification', 1),\n",
       " ('min-max', 1),\n",
       " ('standardization,', 1),\n",
       " ('create', 3),\n",
       " ('normalized', 1),\n",
       " ('(ND).', 1),\n",
       " ('not', 2),\n",
       " ('original', 3),\n",
       " ('6.', 1),\n",
       " ('according', 2),\n",
       " ('from', 3),\n",
       " ('2', 3),\n",
       " ('k', 2),\n",
       " ('size)', 2),\n",
       " ('COD', 1),\n",
       " ('7.', 1),\n",
       " ('ND', 1),\n",
       " ('CND', 2),\n",
       " ('8.', 1),\n",
       " ('same', 1),\n",
       " ('proportion', 1),\n",
       " ('samples.', 1),\n",
       " ('10.', 1),\n",
       " ('trained', 1),\n",
       " ('11.', 1),\n",
       " ('scatter', 1),\n",
       " ('show', 1),\n",
       " ('between', 1),\n",
       " ('features', 2),\n",
       " ('clusters/classes', 1),\n",
       " ('(You', 1),\n",
       " ('values', 1),\n",
       " ('12.', 1),\n",
       " ('each', 2),\n",
       " ('(classification', 1),\n",
       " ('accuracy,', 1),\n",
       " ('discuss', 1),\n",
       " ('report', 2),\n",
       " ('graphs', 1),\n",
       " ('comments.', 1),\n",
       " ('Grading', 1),\n",
       " ('present', 1),\n",
       " ('laboratory', 1),\n",
       " ('first', 1),\n",
       " ('task,', 2),\n",
       " ('wish),', 1),\n",
       " ('examine,', 1),\n",
       " ('application', 1),\n",
       " ('necessary', 1),\n",
       " ('documents.', 1),\n",
       " ('dataset,', 1),\n",
       " ('split', 1),\n",
       " ('Normalization', 1),\n",
       " ('Visualization', 1),\n",
       " ('(%5)', 1),\n",
       " ('submit', 3),\n",
       " ('o', 1),\n",
       " ('Assignment3_groupnumber', 1),\n",
       " ('<folder>', 1),\n",
       " ('submission', 3),\n",
       " ('should', 1),\n",
       " ('above.', 1),\n",
       " ('mismatched', 1),\n",
       " ('experiments.', 1),\n",
       " ('23:59.', 1),\n",
       " ('No', 1),\n",
       " ('or', 3),\n",
       " ('accepted.', 1),\n",
       " ('any', 1),\n",
       " ('assignment.', 1),\n",
       " ('original,', 1),\n",
       " ('INDIVIDUAL', 1),\n",
       " ('Duplicate', 1),\n",
       " ('going', 1),\n",
       " ('problem', 1),\n",
       " ('DO', 1),\n",
       " ('NOT', 1),\n",
       " ('SHARE', 1),\n",
       " ('answers,', 1),\n",
       " ('algorithms,', 1),\n",
       " ('can', 1),\n",
       " ('course’s', 1),\n",
       " ('supposed', 1),\n",
       " ('aware', 1),\n",
       " ('discussed', 1)]"
      ]
     },
     "execution_count": 2,
     "metadata": {},
     "output_type": "execute_result"
    }
   ],
   "source": [
    "sc=spark.sparkContext\n",
    "text=sc.textFile(\"text.txt\")\n",
    "text=text.flatMap(lambda x:x.split(\" \"))\\\n",
    ".map(lambda x: (x,1))\\\n",
    ".reduceByKey(lambda x,y: x+y)\n",
    "text.collect()"
   ]
  },
  {
   "cell_type": "markdown",
   "metadata": {},
   "source": [
    "TASK2\n",
    "===\n"
   ]
  },
  {
   "cell_type": "markdown",
   "metadata": {},
   "source": [
    "Creation of dataFrames with float values and adding ClassInt column\n",
    "====="
   ]
  },
  {
   "cell_type": "markdown",
   "metadata": {},
   "source": [
    "Since data doesn't have any NA values we didn't handle that. We created \"ClassInt\" column which is transformation of \"Class\" column to integer values.Shuffled the dataFrame and created OD and ND below."
   ]
  },
  {
   "cell_type": "code",
   "execution_count": 3,
   "metadata": {},
   "outputs": [],
   "source": [
    "df=spark.read.csv(\"Data.csv\",inferSchema=True , header=True)\n",
    "df.toPandas().isna().sum()\n",
    "df=df.toPandas()\n",
    "df['ClassInt']=pd.factorize(df.Class)[0]\n",
    "df=df.sample(frac=1)\n",
    "df=spark.createDataFrame(df)\n",
    "OD=df\n",
    "ND=(df.toPandas().iloc[:,:-2].astype(\"float64\")-df.toPandas().iloc[:,:-2].astype(\"float64\").min())/(df.toPandas().iloc[:,:-2].astype(\"float64\").max()-df.toPandas().iloc[:,:-2].astype(\"float64\").min())\n",
    "ND['Class']=OD.toPandas().iloc[:,-2]\n",
    "ND['ClassInt']=OD.toPandas().iloc[:,-1].astype(\"float64\")\n",
    "ND=spark.createDataFrame(ND)"
   ]
  },
  {
   "cell_type": "markdown",
   "metadata": {},
   "source": [
    "We can see which Class converted into which integer below."
   ]
  },
  {
   "cell_type": "code",
   "execution_count": 4,
   "metadata": {},
   "outputs": [
    {
     "name": "stdout",
     "output_type": "stream",
     "text": [
      "+--------+-----+\n",
      "|   Class|count|\n",
      "+--------+-----+\n",
      "|    CALI| 1630|\n",
      "|   SEKER| 2027|\n",
      "|    SIRA| 2636|\n",
      "|   HOROZ| 1928|\n",
      "|  BOMBAY|  522|\n",
      "|BARBUNYA| 1322|\n",
      "|DERMASON| 3546|\n",
      "+--------+-----+\n",
      "\n",
      "+--------+-----+\n",
      "|ClassInt|count|\n",
      "+--------+-----+\n",
      "|       0| 2027|\n",
      "|       6| 3546|\n",
      "|       5| 2636|\n",
      "|       1| 1322|\n",
      "|       3| 1630|\n",
      "|       2|  522|\n",
      "|       4| 1928|\n",
      "+--------+-----+\n",
      "\n"
     ]
    }
   ],
   "source": [
    "OD.groupBy(\"Class\").count().show()\n",
    "OD.groupBy(\"ClassInt\").count().show()"
   ]
  },
  {
   "cell_type": "markdown",
   "metadata": {},
   "source": [
    "Adding \"features\" column to work with Clustering and Classification models"
   ]
  },
  {
   "cell_type": "code",
   "execution_count": 5,
   "metadata": {},
   "outputs": [],
   "source": [
    "input_cols=['Area', 'Perimeter', 'MajorAxisLength', 'MinorAxisLength', 'AspectRation', 'Eccentricity', 'ConvexArea', 'EquivDiameter', 'Extent', 'Solidity', 'roundness', 'Compactness', 'ShapeFactor1', 'ShapeFactor2', 'ShapeFactor3', 'ShapeFactor4']\n",
    "vec_assembler=VectorAssembler(inputCols=input_cols,outputCol=\"features\")\n",
    "OD=vec_assembler.transform(OD)\n",
    "ND=vec_assembler.transform(ND)"
   ]
  },
  {
   "cell_type": "markdown",
   "metadata": {},
   "source": [
    "Implementation of Kmeans clustering\n",
    "==="
   ]
  },
  {
   "cell_type": "code",
   "execution_count": 6,
   "metadata": {},
   "outputs": [],
   "source": [
    "kmeans = KMeans(featuresCol=\"features\", k=7)\n",
    "model=kmeans.fit(OD)\n",
    "predictions_od=model.transform(OD)\n",
    "model=kmeans.fit(ND)\n",
    "predictions_nd=model.transform(ND)"
   ]
  },
  {
   "cell_type": "code",
   "execution_count": 8,
   "metadata": {
    "scrolled": true
   },
   "outputs": [
    {
     "name": "stdout",
     "output_type": "stream",
     "text": [
      "Rand score of the normalized data = 0.8893623717385952\n",
      "Rand score of the organized data = 0.8056870088921357\n"
     ]
    }
   ],
   "source": [
    "print(\"Rand score of the normalized data = {}\".format(rand_score(predictions_nd.select(\"prediction\").toPandas().iloc[:,0],predictions_nd.select(\"Class\").toPandas().iloc[:,0])))\n",
    "print(\"Rand score of the organized data = {}\".format(rand_score(predictions_od.select(\"prediction\").toPandas().iloc[:,0],predictions_od.select(\"Class\").toPandas().iloc[:,0])))\n"
   ]
  },
  {
   "cell_type": "markdown",
   "metadata": {},
   "source": [
    "Graphs of clustering.\n",
    "==============="
   ]
  },
  {
   "cell_type": "code",
   "execution_count": 9,
   "metadata": {},
   "outputs": [
    {
     "data": {
      "image/png": "[encoded data removed]",
      "text/plain": [
       "<Figure size 432x288 with 1 Axes>"
      ]
     },
     "metadata": {
      "needs_background": "light"
     },
     "output_type": "display_data"
    },
    {
     "name": "stdout",
     "output_type": "stream",
     "text": [
      "None\n"
     ]
    },
    {
     "data": {
      "image/png": "[encoded data removed]",
      "text/plain": [
       "<Figure size 432x288 with 1 Axes>"
      ]
     },
     "metadata": {
      "needs_background": "light"
     },
     "output_type": "display_data"
    },
    {
     "name": "stdout",
     "output_type": "stream",
     "text": [
      "None\n"
     ]
    }
   ],
   "source": [
    "normalized_organized=predictions_nd.toPandas()\n",
    "filtered_label0=normalized_organized[normalized_organized['prediction']==0]\n",
    "filtered_label1=normalized_organized[normalized_organized['prediction']==1]\n",
    "filtered_label2=normalized_organized[normalized_organized['prediction']==2]\n",
    "filtered_label3=normalized_organized[normalized_organized['prediction']==3]\n",
    "filtered_label4=normalized_organized[normalized_organized['prediction']==4]\n",
    "filtered_label5=normalized_organized[normalized_organized['prediction']==5]\n",
    "filtered_label6=normalized_organized[normalized_organized['prediction']==6]\n",
    "filtered_label7=normalized_organized[normalized_organized['prediction']==7]\n",
    "plt.scatter(filtered_label0.iloc[:,3] , filtered_label0.iloc[:,4] , color = 'red')\n",
    "plt.scatter(filtered_label1.iloc[:,3] , filtered_label1.iloc[:,4] , color = 'black')\n",
    "plt.scatter(filtered_label2.iloc[:,3] , filtered_label2.iloc[:,4] , color = 'yellow')\n",
    "plt.scatter(filtered_label3.iloc[:,3] , filtered_label3.iloc[:,4] , color = 'green')\n",
    "plt.scatter(filtered_label4.iloc[:,3] , filtered_label4.iloc[:,4] , color = 'purple')\n",
    "plt.scatter(filtered_label5.iloc[:,3] , filtered_label5.iloc[:,4] , color = 'blue')\n",
    "plt.scatter(filtered_label6.iloc[:,3] , filtered_label6.iloc[:,4] , color = 'gray')\n",
    "plt.xlabel(\"MinorAxisLength\")\n",
    "plt.ylabel(\"AspectRation\")\n",
    "plt.title(\"Normalized data\")\n",
    "print(plt.show())\n",
    "normalized_organized=predictions_od.toPandas()\n",
    "filtered_label0=normalized_organized[normalized_organized['prediction']==0]\n",
    "filtered_label1=normalized_organized[normalized_organized['prediction']==1]\n",
    "filtered_label2=normalized_organized[normalized_organized['prediction']==2]\n",
    "filtered_label3=normalized_organized[normalized_organized['prediction']==3]\n",
    "filtered_label4=normalized_organized[normalized_organized['prediction']==4]\n",
    "filtered_label5=normalized_organized[normalized_organized['prediction']==5]\n",
    "filtered_label6=normalized_organized[normalized_organized['prediction']==6]\n",
    "filtered_label7=normalized_organized[normalized_organized['prediction']==7]\n",
    "plt.scatter(filtered_label0.iloc[:,3] , filtered_label0.iloc[:,4] , color = 'red')\n",
    "plt.scatter(filtered_label1.iloc[:,3] , filtered_label1.iloc[:,4] , color = 'black')\n",
    "plt.scatter(filtered_label2.iloc[:,3] , filtered_label2.iloc[:,4] , color = 'yellow')\n",
    "plt.scatter(filtered_label3.iloc[:,3] , filtered_label3.iloc[:,4] , color = 'green')\n",
    "plt.scatter(filtered_label4.iloc[:,3] , filtered_label4.iloc[:,4] , color = 'purple')\n",
    "plt.scatter(filtered_label5.iloc[:,3] , filtered_label5.iloc[:,4] , color = 'blue')\n",
    "plt.scatter(filtered_label6.iloc[:,3] , filtered_label6.iloc[:,4] , color = 'gray')\n",
    "plt.xlabel(\"MinorAxisLength\")\n",
    "plt.ylabel(\"AspectRation\")\n",
    "plt.title(\"Organized data\")\n",
    "print(plt.show())"
   ]
  },
  {
   "cell_type": "markdown",
   "metadata": {},
   "source": [
    "Prepared datasets for Classification"
   ]
  },
  {
   "cell_type": "code",
   "execution_count": 10,
   "metadata": {},
   "outputs": [],
   "source": [
    "CND=ND.select(\"features\",\"ClassInt\")\n",
    "COD=OD.select(\"features\",\"ClassInt\")"
   ]
  },
  {
   "cell_type": "code",
   "execution_count": null,
   "metadata": {},
   "outputs": [],
   "source": [
    "Created our classifier below. We chose RandomForestClassifier"
   ]
  },
  {
   "cell_type": "code",
   "execution_count": 11,
   "metadata": {},
   "outputs": [],
   "source": [
    "classifier=RandomForestClassifier(labelCol=\"ClassInt\")"
   ]
  },
  {
   "cell_type": "markdown",
   "metadata": {},
   "source": [
    "In this function we implement classification with k-fold cross validation. Function prints the result metrics. "
   ]
  },
  {
   "cell_type": "code",
   "execution_count": 12,
   "metadata": {},
   "outputs": [],
   "source": [
    "def kfold(k,data,classifier,whichData):\n",
    "    crossval= CrossValidator(estimator=classifier,estimatorParamMaps= ParamGridBuilder().addGrid(classifier.maxDepth, [ 10]).build(), evaluator=MulticlassClassificationEvaluator(labelCol=\"ClassInt\"),numFolds=k)\n",
    "    cvModel=crossval.fit(data)\n",
    "    prediction = cvModel.transform(data)\n",
    "    accuracy=MulticlassClassificationEvaluator(labelCol=\"ClassInt\",metricName=\"accuracy\").evaluate(prediction)\n",
    "    f1=MulticlassClassificationEvaluator(labelCol=\"ClassInt\",metricName=\"f1\").evaluate(prediction)\n",
    "    weightedRecall=MulticlassClassificationEvaluator(labelCol=\"ClassInt\",metricName=\"weightedRecall\").evaluate(prediction)\n",
    "    weightedPrecision=MulticlassClassificationEvaluator(labelCol=\"ClassInt\",metricName=\"weightedPrecision\").evaluate(prediction)\n",
    "    print(\"F1 of the {} data with {} folds = {} \".format( whichData, k, f1))\n",
    "    print(\"Weighted Recall of the {} data with {} folds = {} \".format( whichData, k, weightedRecall))\n",
    "    print(\"Weighted Precision of the {} data with {} folds = {} \".format( whichData, k, weightedPrecision))\n",
    "    print(\"Accuracy of the {} data with {} folds = {} \".format( whichData, k, accuracy))\n",
    "    print(\"Confusion Matrix of the {} data with {} folds = \\n{}\".format(whichData, k, confusion_matrix(prediction.toPandas().iloc[:,1],prediction.toPandas().iloc[:,4])))"
   ]
  },
  {
   "cell_type": "code",
   "execution_count": 13,
   "metadata": {},
   "outputs": [
    {
     "name": "stdout",
     "output_type": "stream",
     "text": [
      "F1 of the organized data with 3 folds = 0.9467628539909032 \n",
      "Weighted Recall of the organized data with 3 folds = 0.9466607890676659 \n",
      "Weighted Precision of the organized data with 3 folds = 0.947145482219875 \n",
      "Accuracy of the organized data with 3 folds = 0.9466607890676658 \n",
      "Confusion Matrix of the organized data with 3 folds = \n",
      "[[1952    4    0    1    0   47   23]\n",
      " [   5 1198    0   87    3   29    0]\n",
      " [   0    0  519    3    0    0    0]\n",
      " [   1   43    0 1555   18   13    0]\n",
      " [   0    7    0   20 1849   42   10]\n",
      " [  12    1    0    4   19 2421  179]\n",
      " [  19    0    0    0    1  135 3391]]\n"
     ]
    }
   ],
   "source": [
    "kfold(3,COD,classifier,\"organized\")"
   ]
  },
  {
   "cell_type": "code",
   "execution_count": 14,
   "metadata": {},
   "outputs": [
    {
     "name": "stdout",
     "output_type": "stream",
     "text": [
      "F1 of the normalized data with 3 folds = 0.9467628539909032 \n",
      "Weighted Recall of the normalized data with 3 folds = 0.9466607890676659 \n",
      "Weighted Precision of the normalized data with 3 folds = 0.947145482219875 \n",
      "Accuracy of the normalized data with 3 folds = 0.9466607890676658 \n",
      "Confusion Matrix of the normalized data with 3 folds = \n",
      "[[1952    4    0    1    0   47   23]\n",
      " [   5 1198    0   87    3   29    0]\n",
      " [   0    0  519    3    0    0    0]\n",
      " [   1   43    0 1555   18   13    0]\n",
      " [   0    7    0   20 1849   42   10]\n",
      " [  12    1    0    4   19 2421  179]\n",
      " [  19    0    0    0    1  135 3391]]\n"
     ]
    }
   ],
   "source": [
    "kfold(3,CND,classifier,\"normalized\")"
   ]
  },
  {
   "cell_type": "code",
   "execution_count": null,
   "metadata": {},
   "outputs": [],
   "source": []
  },
  {
   "cell_type": "code",
   "execution_count": null,
   "metadata": {},
   "outputs": [],
   "source": []
  }
 ],
 "metadata": {
  "kernelspec": {
   "display_name": "Python 3",
   "language": "python",
   "name": "python3"
  },
  "language_info": {
   "codemirror_mode": {
    "name": "ipython",
    "version": 3
   },
   "file_extension": ".py",
   "mimetype": "text/x-python",
   "name": "python",
   "nbconvert_exporter": "python",
   "pygments_lexer": "ipython3",
   "version": "3.7.6"
  }
 },
 "nbformat": 4,
 "nbformat_minor": 4
}
