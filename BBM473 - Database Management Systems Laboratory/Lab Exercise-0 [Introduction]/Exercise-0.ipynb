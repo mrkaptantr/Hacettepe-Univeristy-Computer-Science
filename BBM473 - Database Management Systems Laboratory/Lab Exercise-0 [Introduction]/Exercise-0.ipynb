{
  "cells": [
    {
      "cell_type": "markdown",
      "metadata": {
        "id": "ennfDCvrGx7Y"
      },
      "source": [
        "**BBM473 Database Laboratory (Spring 2022)**\n",
        "\n",
        "\n",
        "\n",
        "Exercise 0: Introduction\n",
        "---------------------\n",
        "\n",
        "Let us warm up!\n",
        "\n",
        "**Note: DO NOT PANIC** \n",
        "* Don't worry if you get (a) a big red-highlighted warning or (b) a note that the extension has already been loaded!  As long as your SQL commands work, it's loaded properly!\n",
        "\n",
        "* If you don't understand all the SQL queries... very soon, you will!"
      ]
    },
    {
      "cell_type": "code",
      "execution_count": 1,
      "metadata": {
        "id": "DDd0LNRsGx7d"
      },
      "outputs": [],
      "source": [
        "%load_ext sql"
      ]
    },
    {
      "cell_type": "code",
      "execution_count": 2,
      "metadata": {
        "colab": {
          "base_uri": "https://localhost:8080/"
        },
        "id": "gUTvgceMGx7g",
        "outputId": "b989c4c5-4c5d-4f56-cffb-14be5b3c68e2"
      },
      "outputs": [
        {
          "output_type": "stream",
          "name": "stdout",
          "text": [
            "dataset_1.db  sample_data\n"
          ]
        }
      ],
      "source": [
        "!ls"
      ]
    },
    {
      "cell_type": "markdown",
      "metadata": {
        "id": "2RWoMFeIGx7g"
      },
      "source": [
        "Next, we'll load an SQLite database stored as a file as follows:\n",
        "\n",
        "**NOTE: We load a file below (here, \"dataset_1.db\", which must be in the same directory as the notebook. You'll use this file throughout the next few lectures. Make sure to download it from the webpage!!**"
      ]
    },
    {
      "cell_type": "code",
      "execution_count": 3,
      "metadata": {
        "colab": {
          "base_uri": "https://localhost:8080/",
          "height": 35
        },
        "id": "7RvMW5GQGx7h",
        "outputId": "0c83a009-861a-45fe-ca3e-fbea299c5f32"
      },
      "outputs": [
        {
          "output_type": "execute_result",
          "data": {
            "text/plain": [
              "'Connected: @dataset_1.db'"
            ],
            "application/vnd.google.colaboratory.intrinsic+json": {
              "type": "string"
            }
          },
          "metadata": {},
          "execution_count": 3
        }
      ],
      "source": [
        "%sql sqlite:///dataset_1.db"
      ]
    },
    {
      "cell_type": "markdown",
      "metadata": {
        "id": "ku1IgHj9Gx7i"
      },
      "source": [
        "Lets look at one table from the US National Oceanic and Atmospheric Administration (NOAA) Rainfall dataset- `precipitation_full`- having the following schema:\n",
        "\n",
        "> * `state_code`\n",
        "> * `station_id`\n",
        "> * `year`\n",
        "> * `month`\n",
        "> * `day`\n",
        "> * `hour`\n",
        "> * `precipitation`\n",
        "> * `flag_1`\n",
        "> * `flag_2`\n",
        "\n",
        "Each tuple in this table describes one hour of rainfall (`precipitation`- in hundredths of an inch) at one station (`station_id`) in one state (`state_code`).  Note that tuples with `hour=25` record the total rainfall for that day, and that we can ignore the values of attributes `flag_1` and `flag_2` for now.\n",
        "\n",
        "Let's take a look at some sample rows of the table via SQL queries."
      ]
    },
    {
      "cell_type": "markdown",
      "metadata": {
        "id": "3STHDhYxGx7j"
      },
      "source": [
        "Note that you can also load an empty in-memory database using:\n",
        "\n",
        "``%sql sqlite://``\n",
        "\n",
        "Now let's try out some queries!  (Don't worry, if you're new to SQL, we'll go over all the syntax in more depth next lecture)\n",
        "\n",
        "**`%sql` is used for single line SQL commands:**"
      ]
    },
    {
      "cell_type": "code",
      "execution_count": 4,
      "metadata": {
        "colab": {
          "base_uri": "https://localhost:8080/",
          "height": 139
        },
        "id": "m8-_QRGmGx7j",
        "outputId": "9f2f9a2a-31e0-4af3-b313-ef6c7fb65198"
      },
      "outputs": [
        {
          "output_type": "stream",
          "name": "stdout",
          "text": [
            " * sqlite:///dataset_1.db\n",
            "Done.\n"
          ]
        },
        {
          "output_type": "execute_result",
          "data": {
            "text/plain": [
              "[(1, 807, 2013, 9, 1, 1, None, '[', ''),\n",
              " (1, 807, 2013, 9, 1, 25, 0, 'I', ''),\n",
              " (1, 807, 2013, 9, 30, 24, None, ']', '')]"
            ],
            "text/html": [
              "<table>\n",
              "    <thead>\n",
              "        <tr>\n",
              "            <th>state_code</th>\n",
              "            <th>station_id</th>\n",
              "            <th>year</th>\n",
              "            <th>month</th>\n",
              "            <th>day</th>\n",
              "            <th>hour</th>\n",
              "            <th>precipitation</th>\n",
              "            <th>flag_1</th>\n",
              "            <th>flag_2</th>\n",
              "        </tr>\n",
              "    </thead>\n",
              "    <tbody>\n",
              "        <tr>\n",
              "            <td>1</td>\n",
              "            <td>807</td>\n",
              "            <td>2013</td>\n",
              "            <td>9</td>\n",
              "            <td>1</td>\n",
              "            <td>1</td>\n",
              "            <td>None</td>\n",
              "            <td>[</td>\n",
              "            <td></td>\n",
              "        </tr>\n",
              "        <tr>\n",
              "            <td>1</td>\n",
              "            <td>807</td>\n",
              "            <td>2013</td>\n",
              "            <td>9</td>\n",
              "            <td>1</td>\n",
              "            <td>25</td>\n",
              "            <td>0</td>\n",
              "            <td>I</td>\n",
              "            <td></td>\n",
              "        </tr>\n",
              "        <tr>\n",
              "            <td>1</td>\n",
              "            <td>807</td>\n",
              "            <td>2013</td>\n",
              "            <td>9</td>\n",
              "            <td>30</td>\n",
              "            <td>24</td>\n",
              "            <td>None</td>\n",
              "            <td>]</td>\n",
              "            <td></td>\n",
              "        </tr>\n",
              "    </tbody>\n",
              "</table>"
            ]
          },
          "metadata": {},
          "execution_count": 4
        }
      ],
      "source": [
        "%%sql \n",
        "SELECT * FROM precipitation_full LIMIT 3;"
      ]
    },
    {
      "cell_type": "code",
      "execution_count": 5,
      "metadata": {
        "colab": {
          "base_uri": "https://localhost:8080/",
          "height": 289
        },
        "id": "9JsF4dl-NRj2",
        "outputId": "8c7a74f4-3350-4de3-e06e-8ea28fd33a66"
      },
      "outputs": [
        {
          "output_type": "stream",
          "name": "stdout",
          "text": [
            " * sqlite:///dataset_1.db\n",
            "Done.\n"
          ]
        },
        {
          "output_type": "execute_result",
          "data": {
            "text/plain": [
              "[('precipitation_full',),\n",
              " ('states',),\n",
              " ('precipitation',),\n",
              " ('A',),\n",
              " ('B',),\n",
              " ('streets',),\n",
              " ('franchise',),\n",
              " ('store',),\n",
              " ('bagel',),\n",
              " ('purchase',)]"
            ],
            "text/html": [
              "<table>\n",
              "    <thead>\n",
              "        <tr>\n",
              "            <th>name</th>\n",
              "        </tr>\n",
              "    </thead>\n",
              "    <tbody>\n",
              "        <tr>\n",
              "            <td>precipitation_full</td>\n",
              "        </tr>\n",
              "        <tr>\n",
              "            <td>states</td>\n",
              "        </tr>\n",
              "        <tr>\n",
              "            <td>precipitation</td>\n",
              "        </tr>\n",
              "        <tr>\n",
              "            <td>A</td>\n",
              "        </tr>\n",
              "        <tr>\n",
              "            <td>B</td>\n",
              "        </tr>\n",
              "        <tr>\n",
              "            <td>streets</td>\n",
              "        </tr>\n",
              "        <tr>\n",
              "            <td>franchise</td>\n",
              "        </tr>\n",
              "        <tr>\n",
              "            <td>store</td>\n",
              "        </tr>\n",
              "        <tr>\n",
              "            <td>bagel</td>\n",
              "        </tr>\n",
              "        <tr>\n",
              "            <td>purchase</td>\n",
              "        </tr>\n",
              "    </tbody>\n",
              "</table>"
            ]
          },
          "metadata": {},
          "execution_count": 5
        }
      ],
      "source": [
        "%sql SELECT name FROM sqlite_master WHERE type ='table' AND name NOT LIKE 'sqlite_%';"
      ]
    },
    {
      "cell_type": "code",
      "execution_count": 6,
      "metadata": {
        "colab": {
          "base_uri": "https://localhost:8080/",
          "height": 96
        },
        "id": "eWoJDQLLGx7l",
        "outputId": "0454e9ce-6a38-49ba-8f34-3a193679b3e1"
      },
      "outputs": [
        {
          "output_type": "stream",
          "name": "stdout",
          "text": [
            " * sqlite:///dataset_1.db\n",
            "Done.\n"
          ]
        },
        {
          "output_type": "execute_result",
          "data": {
            "text/plain": [
              "[(74251,)]"
            ],
            "text/html": [
              "<table>\n",
              "    <thead>\n",
              "        <tr>\n",
              "            <th>COUNT(*)</th>\n",
              "        </tr>\n",
              "    </thead>\n",
              "    <tbody>\n",
              "        <tr>\n",
              "            <td>74251</td>\n",
              "        </tr>\n",
              "    </tbody>\n",
              "</table>"
            ]
          },
          "metadata": {},
          "execution_count": 6
        }
      ],
      "source": [
        "%%sql \n",
        "SELECT COUNT(*) FROM precipitation_full;"
      ]
    },
    {
      "cell_type": "code",
      "execution_count": 7,
      "metadata": {
        "id": "3Fzoemi3Gx7l",
        "colab": {
          "base_uri": "https://localhost:8080/",
          "height": 1000
        },
        "outputId": "5c2b3cd3-b963-4727-9843-8f2eed9f5035"
      },
      "outputs": [
        {
          "output_type": "stream",
          "name": "stdout",
          "text": [
            " * sqlite:///dataset_1.db\n",
            "Done.\n"
          ]
        },
        {
          "output_type": "execute_result",
          "data": {
            "text/plain": [
              "[(4, None, 4, 'CA'),\n",
              " (4, None, 4, 'CA'),\n",
              " (4, None, 4, 'CA'),\n",
              " (4, None, 4, 'CA'),\n",
              " (4, None, 4, 'CA'),\n",
              " (4, None, 4, 'CA'),\n",
              " (4, None, 4, 'CA'),\n",
              " (4, None, 4, 'CA'),\n",
              " (4, None, 4, 'CA'),\n",
              " (4, None, 4, 'CA'),\n",
              " (4, None, 4, 'CA'),\n",
              " (4, None, 4, 'CA'),\n",
              " (4, None, 4, 'CA'),\n",
              " (4, None, 4, 'CA'),\n",
              " (4, None, 4, 'CA'),\n",
              " (4, None, 4, 'CA'),\n",
              " (4, None, 4, 'CA'),\n",
              " (4, None, 4, 'CA'),\n",
              " (4, None, 4, 'CA'),\n",
              " (4, None, 4, 'CA'),\n",
              " (4, None, 4, 'CA'),\n",
              " (4, None, 4, 'CA'),\n",
              " (4, None, 4, 'CA'),\n",
              " (4, None, 4, 'CA'),\n",
              " (4, None, 4, 'CA'),\n",
              " (4, None, 4, 'CA'),\n",
              " (4, None, 4, 'CA'),\n",
              " (4, None, 4, 'CA'),\n",
              " (4, None, 4, 'CA'),\n",
              " (4, None, 4, 'CA'),\n",
              " (4, None, 4, 'CA'),\n",
              " (4, None, 4, 'CA'),\n",
              " (4, None, 4, 'CA'),\n",
              " (4, None, 4, 'CA'),\n",
              " (4, None, 4, 'CA'),\n",
              " (4, None, 4, 'CA'),\n",
              " (4, None, 4, 'CA'),\n",
              " (4, None, 4, 'CA'),\n",
              " (4, None, 4, 'CA'),\n",
              " (4, None, 4, 'CA'),\n",
              " (4, None, 4, 'CA'),\n",
              " (4, None, 4, 'CA'),\n",
              " (4, None, 4, 'CA'),\n",
              " (4, None, 4, 'CA'),\n",
              " (4, None, 4, 'CA'),\n",
              " (4, None, 4, 'CA'),\n",
              " (4, None, 4, 'CA'),\n",
              " (4, None, 4, 'CA'),\n",
              " (4, None, 4, 'CA'),\n",
              " (4, None, 4, 'CA'),\n",
              " (4, 0, 4, 'CA'),\n",
              " (4, 0, 4, 'CA'),\n",
              " (4, 0, 4, 'CA'),\n",
              " (4, 0, 4, 'CA'),\n",
              " (4, 0, 4, 'CA'),\n",
              " (4, 0, 4, 'CA'),\n",
              " (4, 0, 4, 'CA'),\n",
              " (4, 0, 4, 'CA'),\n",
              " (4, 0, 4, 'CA'),\n",
              " (4, 0, 4, 'CA'),\n",
              " (4, 0, 4, 'CA'),\n",
              " (4, 0, 4, 'CA'),\n",
              " (4, 0, 4, 'CA'),\n",
              " (4, 0, 4, 'CA'),\n",
              " (4, 0, 4, 'CA'),\n",
              " (4, 0, 4, 'CA'),\n",
              " (4, 0, 4, 'CA'),\n",
              " (4, 0, 4, 'CA'),\n",
              " (4, 0, 4, 'CA'),\n",
              " (4, 0, 4, 'CA'),\n",
              " (4, 0, 4, 'CA'),\n",
              " (4, 0, 4, 'CA'),\n",
              " (4, 0, 4, 'CA'),\n",
              " (4, 0, 4, 'CA'),\n",
              " (4, 0, 4, 'CA'),\n",
              " (4, 0, 4, 'CA'),\n",
              " (4, 0, 4, 'CA'),\n",
              " (4, 0, 4, 'CA'),\n",
              " (4, 0, 4, 'CA'),\n",
              " (4, 0, 4, 'CA'),\n",
              " (4, 0, 4, 'CA'),\n",
              " (4, 0, 4, 'CA'),\n",
              " (4, 0, 4, 'CA'),\n",
              " (4, 0, 4, 'CA'),\n",
              " (4, 0, 4, 'CA'),\n",
              " (4, 0, 4, 'CA'),\n",
              " (4, 0, 4, 'CA'),\n",
              " (4, 0, 4, 'CA'),\n",
              " (4, 0, 4, 'CA'),\n",
              " (4, 0, 4, 'CA'),\n",
              " (4, 0, 4, 'CA'),\n",
              " (4, 0, 4, 'CA'),\n",
              " (4, 0, 4, 'CA'),\n",
              " (4, 0, 4, 'CA'),\n",
              " (4, 0, 4, 'CA'),\n",
              " (4, 0, 4, 'CA'),\n",
              " (4, 0, 4, 'CA'),\n",
              " (4, 0, 4, 'CA'),\n",
              " (4, 0, 4, 'CA'),\n",
              " (4, 0, 4, 'CA')]"
            ],
            "text/html": [
              "<table>\n",
              "    <thead>\n",
              "        <tr>\n",
              "            <th>state_code</th>\n",
              "            <th>precipitation</th>\n",
              "            <th>code</th>\n",
              "            <th>abbrev</th>\n",
              "        </tr>\n",
              "    </thead>\n",
              "    <tbody>\n",
              "        <tr>\n",
              "            <td>4</td>\n",
              "            <td>None</td>\n",
              "            <td>4</td>\n",
              "            <td>CA</td>\n",
              "        </tr>\n",
              "        <tr>\n",
              "            <td>4</td>\n",
              "            <td>None</td>\n",
              "            <td>4</td>\n",
              "            <td>CA</td>\n",
              "        </tr>\n",
              "        <tr>\n",
              "            <td>4</td>\n",
              "            <td>None</td>\n",
              "            <td>4</td>\n",
              "            <td>CA</td>\n",
              "        </tr>\n",
              "        <tr>\n",
              "            <td>4</td>\n",
              "            <td>None</td>\n",
              "            <td>4</td>\n",
              "            <td>CA</td>\n",
              "        </tr>\n",
              "        <tr>\n",
              "            <td>4</td>\n",
              "            <td>None</td>\n",
              "            <td>4</td>\n",
              "            <td>CA</td>\n",
              "        </tr>\n",
              "        <tr>\n",
              "            <td>4</td>\n",
              "            <td>None</td>\n",
              "            <td>4</td>\n",
              "            <td>CA</td>\n",
              "        </tr>\n",
              "        <tr>\n",
              "            <td>4</td>\n",
              "            <td>None</td>\n",
              "            <td>4</td>\n",
              "            <td>CA</td>\n",
              "        </tr>\n",
              "        <tr>\n",
              "            <td>4</td>\n",
              "            <td>None</td>\n",
              "            <td>4</td>\n",
              "            <td>CA</td>\n",
              "        </tr>\n",
              "        <tr>\n",
              "            <td>4</td>\n",
              "            <td>None</td>\n",
              "            <td>4</td>\n",
              "            <td>CA</td>\n",
              "        </tr>\n",
              "        <tr>\n",
              "            <td>4</td>\n",
              "            <td>None</td>\n",
              "            <td>4</td>\n",
              "            <td>CA</td>\n",
              "        </tr>\n",
              "        <tr>\n",
              "            <td>4</td>\n",
              "            <td>None</td>\n",
              "            <td>4</td>\n",
              "            <td>CA</td>\n",
              "        </tr>\n",
              "        <tr>\n",
              "            <td>4</td>\n",
              "            <td>None</td>\n",
              "            <td>4</td>\n",
              "            <td>CA</td>\n",
              "        </tr>\n",
              "        <tr>\n",
              "            <td>4</td>\n",
              "            <td>None</td>\n",
              "            <td>4</td>\n",
              "            <td>CA</td>\n",
              "        </tr>\n",
              "        <tr>\n",
              "            <td>4</td>\n",
              "            <td>None</td>\n",
              "            <td>4</td>\n",
              "            <td>CA</td>\n",
              "        </tr>\n",
              "        <tr>\n",
              "            <td>4</td>\n",
              "            <td>None</td>\n",
              "            <td>4</td>\n",
              "            <td>CA</td>\n",
              "        </tr>\n",
              "        <tr>\n",
              "            <td>4</td>\n",
              "            <td>None</td>\n",
              "            <td>4</td>\n",
              "            <td>CA</td>\n",
              "        </tr>\n",
              "        <tr>\n",
              "            <td>4</td>\n",
              "            <td>None</td>\n",
              "            <td>4</td>\n",
              "            <td>CA</td>\n",
              "        </tr>\n",
              "        <tr>\n",
              "            <td>4</td>\n",
              "            <td>None</td>\n",
              "            <td>4</td>\n",
              "            <td>CA</td>\n",
              "        </tr>\n",
              "        <tr>\n",
              "            <td>4</td>\n",
              "            <td>None</td>\n",
              "            <td>4</td>\n",
              "            <td>CA</td>\n",
              "        </tr>\n",
              "        <tr>\n",
              "            <td>4</td>\n",
              "            <td>None</td>\n",
              "            <td>4</td>\n",
              "            <td>CA</td>\n",
              "        </tr>\n",
              "        <tr>\n",
              "            <td>4</td>\n",
              "            <td>None</td>\n",
              "            <td>4</td>\n",
              "            <td>CA</td>\n",
              "        </tr>\n",
              "        <tr>\n",
              "            <td>4</td>\n",
              "            <td>None</td>\n",
              "            <td>4</td>\n",
              "            <td>CA</td>\n",
              "        </tr>\n",
              "        <tr>\n",
              "            <td>4</td>\n",
              "            <td>None</td>\n",
              "            <td>4</td>\n",
              "            <td>CA</td>\n",
              "        </tr>\n",
              "        <tr>\n",
              "            <td>4</td>\n",
              "            <td>None</td>\n",
              "            <td>4</td>\n",
              "            <td>CA</td>\n",
              "        </tr>\n",
              "        <tr>\n",
              "            <td>4</td>\n",
              "            <td>None</td>\n",
              "            <td>4</td>\n",
              "            <td>CA</td>\n",
              "        </tr>\n",
              "        <tr>\n",
              "            <td>4</td>\n",
              "            <td>None</td>\n",
              "            <td>4</td>\n",
              "            <td>CA</td>\n",
              "        </tr>\n",
              "        <tr>\n",
              "            <td>4</td>\n",
              "            <td>None</td>\n",
              "            <td>4</td>\n",
              "            <td>CA</td>\n",
              "        </tr>\n",
              "        <tr>\n",
              "            <td>4</td>\n",
              "            <td>None</td>\n",
              "            <td>4</td>\n",
              "            <td>CA</td>\n",
              "        </tr>\n",
              "        <tr>\n",
              "            <td>4</td>\n",
              "            <td>None</td>\n",
              "            <td>4</td>\n",
              "            <td>CA</td>\n",
              "        </tr>\n",
              "        <tr>\n",
              "            <td>4</td>\n",
              "            <td>None</td>\n",
              "            <td>4</td>\n",
              "            <td>CA</td>\n",
              "        </tr>\n",
              "        <tr>\n",
              "            <td>4</td>\n",
              "            <td>None</td>\n",
              "            <td>4</td>\n",
              "            <td>CA</td>\n",
              "        </tr>\n",
              "        <tr>\n",
              "            <td>4</td>\n",
              "            <td>None</td>\n",
              "            <td>4</td>\n",
              "            <td>CA</td>\n",
              "        </tr>\n",
              "        <tr>\n",
              "            <td>4</td>\n",
              "            <td>None</td>\n",
              "            <td>4</td>\n",
              "            <td>CA</td>\n",
              "        </tr>\n",
              "        <tr>\n",
              "            <td>4</td>\n",
              "            <td>None</td>\n",
              "            <td>4</td>\n",
              "            <td>CA</td>\n",
              "        </tr>\n",
              "        <tr>\n",
              "            <td>4</td>\n",
              "            <td>None</td>\n",
              "            <td>4</td>\n",
              "            <td>CA</td>\n",
              "        </tr>\n",
              "        <tr>\n",
              "            <td>4</td>\n",
              "            <td>None</td>\n",
              "            <td>4</td>\n",
              "            <td>CA</td>\n",
              "        </tr>\n",
              "        <tr>\n",
              "            <td>4</td>\n",
              "            <td>None</td>\n",
              "            <td>4</td>\n",
              "            <td>CA</td>\n",
              "        </tr>\n",
              "        <tr>\n",
              "            <td>4</td>\n",
              "            <td>None</td>\n",
              "            <td>4</td>\n",
              "            <td>CA</td>\n",
              "        </tr>\n",
              "        <tr>\n",
              "            <td>4</td>\n",
              "            <td>None</td>\n",
              "            <td>4</td>\n",
              "            <td>CA</td>\n",
              "        </tr>\n",
              "        <tr>\n",
              "            <td>4</td>\n",
              "            <td>None</td>\n",
              "            <td>4</td>\n",
              "            <td>CA</td>\n",
              "        </tr>\n",
              "        <tr>\n",
              "            <td>4</td>\n",
              "            <td>None</td>\n",
              "            <td>4</td>\n",
              "            <td>CA</td>\n",
              "        </tr>\n",
              "        <tr>\n",
              "            <td>4</td>\n",
              "            <td>None</td>\n",
              "            <td>4</td>\n",
              "            <td>CA</td>\n",
              "        </tr>\n",
              "        <tr>\n",
              "            <td>4</td>\n",
              "            <td>None</td>\n",
              "            <td>4</td>\n",
              "            <td>CA</td>\n",
              "        </tr>\n",
              "        <tr>\n",
              "            <td>4</td>\n",
              "            <td>None</td>\n",
              "            <td>4</td>\n",
              "            <td>CA</td>\n",
              "        </tr>\n",
              "        <tr>\n",
              "            <td>4</td>\n",
              "            <td>None</td>\n",
              "            <td>4</td>\n",
              "            <td>CA</td>\n",
              "        </tr>\n",
              "        <tr>\n",
              "            <td>4</td>\n",
              "            <td>None</td>\n",
              "            <td>4</td>\n",
              "            <td>CA</td>\n",
              "        </tr>\n",
              "        <tr>\n",
              "            <td>4</td>\n",
              "            <td>None</td>\n",
              "            <td>4</td>\n",
              "            <td>CA</td>\n",
              "        </tr>\n",
              "        <tr>\n",
              "            <td>4</td>\n",
              "            <td>None</td>\n",
              "            <td>4</td>\n",
              "            <td>CA</td>\n",
              "        </tr>\n",
              "        <tr>\n",
              "            <td>4</td>\n",
              "            <td>None</td>\n",
              "            <td>4</td>\n",
              "            <td>CA</td>\n",
              "        </tr>\n",
              "        <tr>\n",
              "            <td>4</td>\n",
              "            <td>None</td>\n",
              "            <td>4</td>\n",
              "            <td>CA</td>\n",
              "        </tr>\n",
              "        <tr>\n",
              "            <td>4</td>\n",
              "            <td>0</td>\n",
              "            <td>4</td>\n",
              "            <td>CA</td>\n",
              "        </tr>\n",
              "        <tr>\n",
              "            <td>4</td>\n",
              "            <td>0</td>\n",
              "            <td>4</td>\n",
              "            <td>CA</td>\n",
              "        </tr>\n",
              "        <tr>\n",
              "            <td>4</td>\n",
              "            <td>0</td>\n",
              "            <td>4</td>\n",
              "            <td>CA</td>\n",
              "        </tr>\n",
              "        <tr>\n",
              "            <td>4</td>\n",
              "            <td>0</td>\n",
              "            <td>4</td>\n",
              "            <td>CA</td>\n",
              "        </tr>\n",
              "        <tr>\n",
              "            <td>4</td>\n",
              "            <td>0</td>\n",
              "            <td>4</td>\n",
              "            <td>CA</td>\n",
              "        </tr>\n",
              "        <tr>\n",
              "            <td>4</td>\n",
              "            <td>0</td>\n",
              "            <td>4</td>\n",
              "            <td>CA</td>\n",
              "        </tr>\n",
              "        <tr>\n",
              "            <td>4</td>\n",
              "            <td>0</td>\n",
              "            <td>4</td>\n",
              "            <td>CA</td>\n",
              "        </tr>\n",
              "        <tr>\n",
              "            <td>4</td>\n",
              "            <td>0</td>\n",
              "            <td>4</td>\n",
              "            <td>CA</td>\n",
              "        </tr>\n",
              "        <tr>\n",
              "            <td>4</td>\n",
              "            <td>0</td>\n",
              "            <td>4</td>\n",
              "            <td>CA</td>\n",
              "        </tr>\n",
              "        <tr>\n",
              "            <td>4</td>\n",
              "            <td>0</td>\n",
              "            <td>4</td>\n",
              "            <td>CA</td>\n",
              "        </tr>\n",
              "        <tr>\n",
              "            <td>4</td>\n",
              "            <td>0</td>\n",
              "            <td>4</td>\n",
              "            <td>CA</td>\n",
              "        </tr>\n",
              "        <tr>\n",
              "            <td>4</td>\n",
              "            <td>0</td>\n",
              "            <td>4</td>\n",
              "            <td>CA</td>\n",
              "        </tr>\n",
              "        <tr>\n",
              "            <td>4</td>\n",
              "            <td>0</td>\n",
              "            <td>4</td>\n",
              "            <td>CA</td>\n",
              "        </tr>\n",
              "        <tr>\n",
              "            <td>4</td>\n",
              "            <td>0</td>\n",
              "            <td>4</td>\n",
              "            <td>CA</td>\n",
              "        </tr>\n",
              "        <tr>\n",
              "            <td>4</td>\n",
              "            <td>0</td>\n",
              "            <td>4</td>\n",
              "            <td>CA</td>\n",
              "        </tr>\n",
              "        <tr>\n",
              "            <td>4</td>\n",
              "            <td>0</td>\n",
              "            <td>4</td>\n",
              "            <td>CA</td>\n",
              "        </tr>\n",
              "        <tr>\n",
              "            <td>4</td>\n",
              "            <td>0</td>\n",
              "            <td>4</td>\n",
              "            <td>CA</td>\n",
              "        </tr>\n",
              "        <tr>\n",
              "            <td>4</td>\n",
              "            <td>0</td>\n",
              "            <td>4</td>\n",
              "            <td>CA</td>\n",
              "        </tr>\n",
              "        <tr>\n",
              "            <td>4</td>\n",
              "            <td>0</td>\n",
              "            <td>4</td>\n",
              "            <td>CA</td>\n",
              "        </tr>\n",
              "        <tr>\n",
              "            <td>4</td>\n",
              "            <td>0</td>\n",
              "            <td>4</td>\n",
              "            <td>CA</td>\n",
              "        </tr>\n",
              "        <tr>\n",
              "            <td>4</td>\n",
              "            <td>0</td>\n",
              "            <td>4</td>\n",
              "            <td>CA</td>\n",
              "        </tr>\n",
              "        <tr>\n",
              "            <td>4</td>\n",
              "            <td>0</td>\n",
              "            <td>4</td>\n",
              "            <td>CA</td>\n",
              "        </tr>\n",
              "        <tr>\n",
              "            <td>4</td>\n",
              "            <td>0</td>\n",
              "            <td>4</td>\n",
              "            <td>CA</td>\n",
              "        </tr>\n",
              "        <tr>\n",
              "            <td>4</td>\n",
              "            <td>0</td>\n",
              "            <td>4</td>\n",
              "            <td>CA</td>\n",
              "        </tr>\n",
              "        <tr>\n",
              "            <td>4</td>\n",
              "            <td>0</td>\n",
              "            <td>4</td>\n",
              "            <td>CA</td>\n",
              "        </tr>\n",
              "        <tr>\n",
              "            <td>4</td>\n",
              "            <td>0</td>\n",
              "            <td>4</td>\n",
              "            <td>CA</td>\n",
              "        </tr>\n",
              "        <tr>\n",
              "            <td>4</td>\n",
              "            <td>0</td>\n",
              "            <td>4</td>\n",
              "            <td>CA</td>\n",
              "        </tr>\n",
              "        <tr>\n",
              "            <td>4</td>\n",
              "            <td>0</td>\n",
              "            <td>4</td>\n",
              "            <td>CA</td>\n",
              "        </tr>\n",
              "        <tr>\n",
              "            <td>4</td>\n",
              "            <td>0</td>\n",
              "            <td>4</td>\n",
              "            <td>CA</td>\n",
              "        </tr>\n",
              "        <tr>\n",
              "            <td>4</td>\n",
              "            <td>0</td>\n",
              "            <td>4</td>\n",
              "            <td>CA</td>\n",
              "        </tr>\n",
              "        <tr>\n",
              "            <td>4</td>\n",
              "            <td>0</td>\n",
              "            <td>4</td>\n",
              "            <td>CA</td>\n",
              "        </tr>\n",
              "        <tr>\n",
              "            <td>4</td>\n",
              "            <td>0</td>\n",
              "            <td>4</td>\n",
              "            <td>CA</td>\n",
              "        </tr>\n",
              "        <tr>\n",
              "            <td>4</td>\n",
              "            <td>0</td>\n",
              "            <td>4</td>\n",
              "            <td>CA</td>\n",
              "        </tr>\n",
              "        <tr>\n",
              "            <td>4</td>\n",
              "            <td>0</td>\n",
              "            <td>4</td>\n",
              "            <td>CA</td>\n",
              "        </tr>\n",
              "        <tr>\n",
              "            <td>4</td>\n",
              "            <td>0</td>\n",
              "            <td>4</td>\n",
              "            <td>CA</td>\n",
              "        </tr>\n",
              "        <tr>\n",
              "            <td>4</td>\n",
              "            <td>0</td>\n",
              "            <td>4</td>\n",
              "            <td>CA</td>\n",
              "        </tr>\n",
              "        <tr>\n",
              "            <td>4</td>\n",
              "            <td>0</td>\n",
              "            <td>4</td>\n",
              "            <td>CA</td>\n",
              "        </tr>\n",
              "        <tr>\n",
              "            <td>4</td>\n",
              "            <td>0</td>\n",
              "            <td>4</td>\n",
              "            <td>CA</td>\n",
              "        </tr>\n",
              "        <tr>\n",
              "            <td>4</td>\n",
              "            <td>0</td>\n",
              "            <td>4</td>\n",
              "            <td>CA</td>\n",
              "        </tr>\n",
              "        <tr>\n",
              "            <td>4</td>\n",
              "            <td>0</td>\n",
              "            <td>4</td>\n",
              "            <td>CA</td>\n",
              "        </tr>\n",
              "        <tr>\n",
              "            <td>4</td>\n",
              "            <td>0</td>\n",
              "            <td>4</td>\n",
              "            <td>CA</td>\n",
              "        </tr>\n",
              "        <tr>\n",
              "            <td>4</td>\n",
              "            <td>0</td>\n",
              "            <td>4</td>\n",
              "            <td>CA</td>\n",
              "        </tr>\n",
              "        <tr>\n",
              "            <td>4</td>\n",
              "            <td>0</td>\n",
              "            <td>4</td>\n",
              "            <td>CA</td>\n",
              "        </tr>\n",
              "        <tr>\n",
              "            <td>4</td>\n",
              "            <td>0</td>\n",
              "            <td>4</td>\n",
              "            <td>CA</td>\n",
              "        </tr>\n",
              "        <tr>\n",
              "            <td>4</td>\n",
              "            <td>0</td>\n",
              "            <td>4</td>\n",
              "            <td>CA</td>\n",
              "        </tr>\n",
              "        <tr>\n",
              "            <td>4</td>\n",
              "            <td>0</td>\n",
              "            <td>4</td>\n",
              "            <td>CA</td>\n",
              "        </tr>\n",
              "        <tr>\n",
              "            <td>4</td>\n",
              "            <td>0</td>\n",
              "            <td>4</td>\n",
              "            <td>CA</td>\n",
              "        </tr>\n",
              "        <tr>\n",
              "            <td>4</td>\n",
              "            <td>0</td>\n",
              "            <td>4</td>\n",
              "            <td>CA</td>\n",
              "        </tr>\n",
              "        <tr>\n",
              "            <td>4</td>\n",
              "            <td>0</td>\n",
              "            <td>4</td>\n",
              "            <td>CA</td>\n",
              "        </tr>\n",
              "        <tr>\n",
              "            <td>4</td>\n",
              "            <td>0</td>\n",
              "            <td>4</td>\n",
              "            <td>CA</td>\n",
              "        </tr>\n",
              "    </tbody>\n",
              "</table>"
            ]
          },
          "metadata": {},
          "execution_count": 7
        }
      ],
      "source": [
        "%%sql \n",
        "SELECT p.state_code, p.precipitation, s.code, s.abbrev \n",
        "FROM precipitation_full p, states s  \n",
        "WHERE s.abbrev = 'CA' AND p.state_code = s.code LIMIT 100;"
      ]
    },
    {
      "cell_type": "markdown",
      "metadata": {
        "id": "tm7-LKOQGx7m"
      },
      "source": [
        "And **`%%sql` is used for multi-line SQL commands:**"
      ]
    },
    {
      "cell_type": "code",
      "execution_count": 8,
      "metadata": {
        "colab": {
          "base_uri": "https://localhost:8080/",
          "height": 96
        },
        "id": "_fjscIGZGx7m",
        "outputId": "d24fdf37-e92b-4249-9cf0-0fd08b2dd4f4"
      },
      "outputs": [
        {
          "output_type": "stream",
          "name": "stdout",
          "text": [
            " * sqlite:///dataset_1.db\n",
            "Done.\n"
          ]
        },
        {
          "output_type": "execute_result",
          "data": {
            "text/plain": [
              "[(31982,)]"
            ],
            "text/html": [
              "<table>\n",
              "    <thead>\n",
              "        <tr>\n",
              "            <th>SUM(p.precipitation)</th>\n",
              "        </tr>\n",
              "    </thead>\n",
              "    <tbody>\n",
              "        <tr>\n",
              "            <td>31982</td>\n",
              "        </tr>\n",
              "    </tbody>\n",
              "</table>"
            ]
          },
          "metadata": {},
          "execution_count": 8
        }
      ],
      "source": [
        "%%sql\n",
        "SELECT SUM(p.precipitation) \n",
        "FROM precipitation_full p, states s \n",
        "WHERE p.state_code = s.code AND s.abbrev = 'CA';"
      ]
    },
    {
      "cell_type": "code",
      "execution_count": null,
      "metadata": {
        "id": "dyq1CAwiGx7n"
      },
      "outputs": [],
      "source": []
    },
    {
      "cell_type": "markdown",
      "metadata": {
        "id": "TWqYCN2pGx7n"
      },
      "source": [
        "We can also work with the output of the queries we issue:"
      ]
    },
    {
      "cell_type": "code",
      "execution_count": 9,
      "metadata": {
        "colab": {
          "base_uri": "https://localhost:8080/"
        },
        "id": "4MmW8XHTGx7n",
        "outputId": "1937da3a-2791-448b-a2bc-f15654c9508c"
      },
      "outputs": [
        {
          "output_type": "stream",
          "name": "stdout",
          "text": [
            " * sqlite:///dataset_1.db\n",
            "Done.\n"
          ]
        }
      ],
      "source": [
        "result = %sql SELECT * FROM states;"
      ]
    },
    {
      "cell_type": "code",
      "execution_count": 11,
      "metadata": {
        "colab": {
          "base_uri": "https://localhost:8080/"
        },
        "id": "GFhIQQFKGx7n",
        "outputId": "94dee809-33d3-4654-9057-df270a1c0f49"
      },
      "outputs": [
        {
          "output_type": "execute_result",
          "data": {
            "text/plain": [
              "RMKeyView(['code', 'name', 'abbrev'])"
            ]
          },
          "metadata": {},
          "execution_count": 11
        }
      ],
      "source": [
        "result.keys"
      ]
    },
    {
      "cell_type": "code",
      "execution_count": 10,
      "metadata": {
        "colab": {
          "base_uri": "https://localhost:8080/"
        },
        "id": "vKIfXOvLGx7o",
        "outputId": "f8dc7d00-1023-4da4-8be3-9d0766e3b9ab"
      },
      "outputs": [
        {
          "output_type": "stream",
          "name": "stdout",
          "text": [
            "code\n",
            "name\n",
            "abbrev\n"
          ]
        }
      ],
      "source": [
        "# Alternative python code\n",
        "for k in result.keys:\n",
        "    print(k)"
      ]
    },
    {
      "cell_type": "markdown",
      "metadata": {
        "id": "2Z1UMfcuGx7o"
      },
      "source": [
        "*Note that the first row is the header row with column names!*"
      ]
    },
    {
      "cell_type": "code",
      "execution_count": 12,
      "metadata": {
        "colab": {
          "base_uri": "https://localhost:8080/"
        },
        "id": "yLN7bceOGx7o",
        "outputId": "44a30bcf-4c77-4cac-8544-00c184d8cb83"
      },
      "outputs": [
        {
          "output_type": "execute_result",
          "data": {
            "text/plain": [
              "(0, 'State', 'Abbreviation')"
            ]
          },
          "metadata": {},
          "execution_count": 12
        }
      ],
      "source": [
        "result[0]"
      ]
    },
    {
      "cell_type": "code",
      "execution_count": 13,
      "metadata": {
        "colab": {
          "base_uri": "https://localhost:8080/"
        },
        "id": "8Ar8GzX3Gx7o",
        "outputId": "1f5ff977-5883-44f5-c2f3-717fd46d3b96"
      },
      "outputs": [
        {
          "output_type": "execute_result",
          "data": {
            "text/plain": [
              "(1, 'Alabama', 'AL')"
            ]
          },
          "metadata": {},
          "execution_count": 13
        }
      ],
      "source": [
        "result[1]"
      ]
    },
    {
      "cell_type": "code",
      "execution_count": 14,
      "metadata": {
        "colab": {
          "base_uri": "https://localhost:8080/",
          "height": 35
        },
        "id": "Scnc4FR2Gx7p",
        "outputId": "e6540fd1-ed87-4c18-f9b1-054fe9ba3ff7"
      },
      "outputs": [
        {
          "output_type": "execute_result",
          "data": {
            "text/plain": [
              "'Alabama'"
            ],
            "application/vnd.google.colaboratory.intrinsic+json": {
              "type": "string"
            }
          },
          "metadata": {},
          "execution_count": 14
        }
      ],
      "source": [
        "result[1].name"
      ]
    },
    {
      "cell_type": "markdown",
      "metadata": {
        "id": "aaa1G0TgGx7p"
      },
      "source": [
        "Now feel free to have fun with the dataset- we'll see more of it later though!"
      ]
    }
  ],
  "metadata": {
    "colab": {
      "provenance": []
    },
    "kernelspec": {
      "display_name": "Python 3 (ipykernel)",
      "language": "python",
      "name": "python3"
    },
    "language_info": {
      "codemirror_mode": {
        "name": "ipython",
        "version": 3
      },
      "file_extension": ".py",
      "mimetype": "text/x-python",
      "name": "python",
      "nbconvert_exporter": "python",
      "pygments_lexer": "ipython3",
      "version": "3.10.0"
    }
  },
  "nbformat": 4,
  "nbformat_minor": 0
}