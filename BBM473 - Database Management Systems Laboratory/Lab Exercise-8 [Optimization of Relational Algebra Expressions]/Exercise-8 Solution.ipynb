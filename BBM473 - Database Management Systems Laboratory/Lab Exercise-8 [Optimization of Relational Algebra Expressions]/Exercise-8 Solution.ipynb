{
  "cells": [
    {
      "cell_type": "markdown",
      "metadata": {
        "id": "z2yo65gNk7cV"
      },
      "source": [
        "**BBM473 Database Laboratory (Spring  2022)**\n",
        "\n",
        "\n",
        "Exercise 8: Optimization of Relational Algebra Expressions\n",
        "==================================\n",
        "\n"
      ]
    },
    {
      "cell_type": "markdown",
      "metadata": {
        "id": "pR53oImak7cY"
      },
      "source": [
        "First, execute the following codes below.\n",
        "\n",
        "**Note:** You may need to install `markdown`:\n",
        "\n",
        "    $ pip install markdown"
      ]
    },
    {
      "cell_type": "code",
      "execution_count": null,
      "metadata": {
        "id": "u6hMrJ-ek7cZ",
        "outputId": "24e55909-7b54-4c3f-e138-bef9e0cbac8f",
        "colab": {
          "base_uri": "https://localhost:8080/"
        }
      },
      "outputs": [
        {
          "output_type": "stream",
          "name": "stdout",
          "text": [
            "The sql extension is already loaded. To reload it, use:\n",
            "  %reload_ext sql\n",
            "The autoreload extension is already loaded. To reload it, use:\n",
            "  %reload_ext autoreload\n"
          ]
        }
      ],
      "source": [
        "%load_ext sql\n",
        "%sql sqlite://\n",
        "\n",
        "%load_ext autoreload\n",
        "%autoreload 2\n",
        "\n",
        "# To help render markdown\n",
        "from IPython.core.display import display, Markdown\n",
        "from markdown import markdown\n",
        "def render_markdown_raw(m): return display(Markdown(markdown(m))) # must be last element of cell.\n",
        "def render_markdown(m): return render_markdown_raw(m.toMD())\n",
        "def cost_markdown(q): \n",
        "    q.reset_count()\n",
        "    get_result(q) # run the counters\n",
        "    return display(Markdown(markdown(\"Total Reads: {0}\\n\\n\".format(q.total_count()) + q.toCount(0))))\n",
        "\n",
        "# import the relational algbera operators\n",
        "from relation_algebra import Select, Project, Union, NJoin, CrossProduct, BaseRelation\n",
        "from relation_algebra import get_result, compare_results\n",
        "\n",
        "from display_tools import side_by_side\n",
        "\n",
        "import random\n",
        "\n",
        "def check_results(a, b): assert compare_results(a, b), \"Result is not correct. Try again.\""
      ]
    },
    {
      "cell_type": "code",
      "execution_count": null,
      "metadata": {
        "id": "OndkMtgik7ca",
        "colab": {
          "base_uri": "https://localhost:8080/"
        },
        "outputId": "36418c5f-761f-4598-caed-3526c47bbdb4"
      },
      "outputs": [
        {
          "output_type": "stream",
          "name": "stdout",
          "text": [
            " * sqlite://\n",
            "Done.\n",
            "Done.\n",
            "Done.\n",
            "Done.\n",
            "Done.\n",
            "Done.\n"
          ]
        },
        {
          "output_type": "execute_result",
          "data": {
            "text/plain": [
              "[]"
            ]
          },
          "metadata": {},
          "execution_count": 2
        }
      ],
      "source": [
        "%%sql\n",
        "drop table if exists R; create table R(A int, B int);\n",
        "drop table if exists S; create table S(B int, C int);\n",
        "drop table if exists T; create table T(C int, D int);"
      ]
    },
    {
      "cell_type": "markdown",
      "metadata": {
        "id": "TpPni9h0k7cb"
      },
      "source": [
        "We start by generating some sample data for relations $R$ and $S$:"
      ]
    },
    {
      "cell_type": "code",
      "execution_count": null,
      "metadata": {
        "id": "86KziR6nk7cb",
        "colab": {
          "base_uri": "https://localhost:8080/"
        },
        "outputId": "c24b3c44-97de-4dee-aa13-7bf69effe14a"
      },
      "outputs": [
        {
          "output_type": "stream",
          "name": "stdout",
          "text": [
            " * sqlite://\n",
            "1 rows affected.\n",
            " * sqlite://\n",
            "1 rows affected.\n",
            " * sqlite://\n",
            "1 rows affected.\n",
            " * sqlite://\n",
            "1 rows affected.\n",
            " * sqlite://\n",
            "1 rows affected.\n",
            " * sqlite://\n",
            "1 rows affected.\n",
            " * sqlite://\n",
            "1 rows affected.\n",
            " * sqlite://\n",
            "1 rows affected.\n",
            " * sqlite://\n",
            "1 rows affected.\n",
            " * sqlite://\n",
            "1 rows affected.\n",
            " * sqlite://\n",
            "1 rows affected.\n",
            " * sqlite://\n",
            "1 rows affected.\n",
            " * sqlite://\n",
            "1 rows affected.\n",
            " * sqlite://\n",
            "1 rows affected.\n",
            " * sqlite://\n",
            "1 rows affected.\n",
            " * sqlite://\n",
            "1 rows affected.\n",
            " * sqlite://\n",
            "1 rows affected.\n",
            " * sqlite://\n",
            "1 rows affected.\n",
            " * sqlite://\n",
            "1 rows affected.\n",
            " * sqlite://\n",
            "1 rows affected.\n",
            " * sqlite://\n",
            "1 rows affected.\n",
            " * sqlite://\n",
            "1 rows affected.\n",
            " * sqlite://\n",
            "1 rows affected.\n",
            " * sqlite://\n",
            "1 rows affected.\n",
            " * sqlite://\n",
            "1 rows affected.\n",
            " * sqlite://\n",
            "1 rows affected.\n",
            " * sqlite://\n",
            "1 rows affected.\n",
            " * sqlite://\n",
            "1 rows affected.\n",
            " * sqlite://\n",
            "1 rows affected.\n",
            " * sqlite://\n",
            "1 rows affected.\n",
            " * sqlite://\n",
            "1 rows affected.\n",
            " * sqlite://\n",
            "1 rows affected.\n",
            " * sqlite://\n",
            "1 rows affected.\n",
            " * sqlite://\n",
            "1 rows affected.\n",
            " * sqlite://\n",
            "1 rows affected.\n",
            " * sqlite://\n",
            "1 rows affected.\n",
            " * sqlite://\n",
            "1 rows affected.\n",
            " * sqlite://\n",
            "1 rows affected.\n",
            " * sqlite://\n",
            "1 rows affected.\n",
            " * sqlite://\n",
            "1 rows affected.\n",
            " * sqlite://\n",
            "1 rows affected.\n",
            " * sqlite://\n",
            "1 rows affected.\n",
            " * sqlite://\n",
            "1 rows affected.\n",
            " * sqlite://\n",
            "1 rows affected.\n",
            " * sqlite://\n",
            "1 rows affected.\n",
            " * sqlite://\n",
            "1 rows affected.\n",
            " * sqlite://\n",
            "1 rows affected.\n",
            " * sqlite://\n",
            "1 rows affected.\n",
            " * sqlite://\n",
            "1 rows affected.\n",
            " * sqlite://\n",
            "1 rows affected.\n",
            " * sqlite://\n",
            "1 rows affected.\n",
            " * sqlite://\n",
            "1 rows affected.\n",
            " * sqlite://\n",
            "1 rows affected.\n",
            " * sqlite://\n",
            "1 rows affected.\n",
            " * sqlite://\n",
            "1 rows affected.\n",
            " * sqlite://\n",
            "1 rows affected.\n",
            " * sqlite://\n",
            "1 rows affected.\n",
            " * sqlite://\n",
            "1 rows affected.\n",
            " * sqlite://\n",
            "1 rows affected.\n",
            " * sqlite://\n",
            "1 rows affected.\n",
            " * sqlite://\n",
            "1 rows affected.\n",
            " * sqlite://\n",
            "1 rows affected.\n",
            " * sqlite://\n",
            "1 rows affected.\n",
            " * sqlite://\n",
            "1 rows affected.\n",
            " * sqlite://\n",
            "1 rows affected.\n",
            " * sqlite://\n",
            "1 rows affected.\n",
            " * sqlite://\n",
            "1 rows affected.\n",
            " * sqlite://\n",
            "1 rows affected.\n",
            " * sqlite://\n",
            "1 rows affected.\n",
            " * sqlite://\n",
            "1 rows affected.\n",
            " * sqlite://\n",
            "1 rows affected.\n",
            " * sqlite://\n",
            "1 rows affected.\n",
            " * sqlite://\n",
            "1 rows affected.\n",
            " * sqlite://\n",
            "1 rows affected.\n",
            " * sqlite://\n",
            "1 rows affected.\n"
          ]
        }
      ],
      "source": [
        "for b in range(0,5,1):\n",
        "    for a in range(0,10,2):\n",
        "        %sql INSERT INTO R VALUES (:a, :b);\n",
        "for b in range(0,5,1):\n",
        "    for c in range(0,10,2):\n",
        "        %sql INSERT INTO S VALUES (:b, :c);\n",
        "for c in range(0,5,1):\n",
        "    for d in range(0,10,2):\n",
        "        %sql INSERT INTO T VALUES (:c, :d);"
      ]
    },
    {
      "cell_type": "markdown",
      "metadata": {
        "id": "UPU99jabk7cc"
      },
      "source": [
        "Then, let's look at the following RA expression:"
      ]
    },
    {
      "cell_type": "code",
      "execution_count": null,
      "metadata": {
        "id": "bQGEwyCJk7cc",
        "colab": {
          "base_uri": "https://localhost:8080/",
          "height": 136
        },
        "outputId": "02aea9b7-2752-4bd9-c2b8-b381314ad128"
      },
      "outputs": [
        {
          "output_type": "stream",
          "name": "stdout",
          "text": [
            " * sqlite://\n",
            "Done.\n",
            " * sqlite://\n",
            "Done.\n"
          ]
        },
        {
          "output_type": "display_data",
          "data": {
            "text/plain": [
              "<IPython.core.display.Markdown object>"
            ],
            "text/markdown": "<p>$\\Pi_{B}$(( R(A,B) ) $\\Join_{B}$ ( S(B,C) ))</p>"
          },
          "metadata": {}
        },
        {
          "output_type": "stream",
          "name": "stdout",
          "text": [
            "[(0,), (1,), (2,), (3,), (4,)]\n"
          ]
        }
      ],
      "source": [
        "r = %sql SELECT * FROM R;\n",
        "R = BaseRelation(r, name=\"R\")\n",
        "s = %sql SELECT * FROM S;\n",
        "S = BaseRelation(s, name=\"S\")\n",
        "\n",
        "x = Project([\"B\"], NJoin(R,S))\n",
        "render_markdown(x)\n",
        "print(get_result(x))"
      ]
    },
    {
      "cell_type": "markdown",
      "metadata": {
        "id": "h72i0fLRk7cc"
      },
      "source": [
        "Let's look at what's going on under the hood using the `cost_markdown` function:"
      ]
    },
    {
      "cell_type": "code",
      "execution_count": null,
      "metadata": {
        "id": "9lQ5odQ7k7cd",
        "colab": {
          "base_uri": "https://localhost:8080/",
          "height": 141
        },
        "outputId": "6c0e7048-ae6e-4d06-beaf-8e26462104fc"
      },
      "outputs": [
        {
          "output_type": "display_data",
          "data": {
            "text/plain": [
              "<IPython.core.display.Markdown object>"
            ],
            "text/markdown": "<p>Total Reads: 775</p>\n<ul>\n<li>$\\Pi_{['B']}$ [tuples read in: 125 out: 5]<ul>\n<li>$\\Join_{B}$ [tuples read in: 650 out: 125]<ul>\n<li>R(A,B) has 25 tuples </li>\n<li>S(B,C) has 25 tuples </li>\n</ul>\n</li>\n</ul>\n</li>\n</ul>"
          },
          "metadata": {}
        }
      ],
      "source": [
        "cost_markdown(x)"
      ]
    },
    {
      "cell_type": "markdown",
      "metadata": {
        "id": "biWdPuiFk7cd"
      },
      "source": [
        "Note that there are several simplifying assumptions in how we compute cost here.  For one, note that we don't assume anything about being able to cache intermediate results in any way (either in buffer or on disk).  For another one, note how is the join done... what algorithm are we using here?\n",
        "\n",
        "Note that we can also just get the total count of reads:"
      ]
    },
    {
      "cell_type": "code",
      "execution_count": null,
      "metadata": {
        "id": "nlVB7XLFk7cd",
        "colab": {
          "base_uri": "https://localhost:8080/"
        },
        "outputId": "65ef075c-a29c-48a7-c737-2e5cb794554a"
      },
      "outputs": [
        {
          "output_type": "execute_result",
          "data": {
            "text/plain": [
              "775"
            ]
          },
          "metadata": {},
          "execution_count": 6
        }
      ],
      "source": [
        "x.total_count()"
      ]
    },
    {
      "cell_type": "markdown",
      "metadata": {
        "id": "wlW2dlDpk7ce"
      },
      "source": [
        "### Task 1: Optimizing the IO Cost\n",
        "\n",
        "Can you find a logically equivalent form that uses fewer total reads?"
      ]
    },
    {
      "cell_type": "code",
      "execution_count": null,
      "metadata": {
        "id": "akSo069_k7ce",
        "colab": {
          "base_uri": "https://localhost:8080/",
          "height": 223
        },
        "outputId": "2a43f882-67a3-43ae-c61b-44142340f745"
      },
      "outputs": [
        {
          "output_type": "display_data",
          "data": {
            "text/plain": [
              "<IPython.core.display.Markdown object>"
            ],
            "text/markdown": "<p>( $\\Pi_{B}$(R(A,B)) ) $\\Join_{B}$ ( $\\Pi_{B}$(S(B,C)) )</p>"
          },
          "metadata": {}
        },
        {
          "output_type": "stream",
          "name": "stdout",
          "text": [
            "[(0,), (1,), (2,), (3,), (4,)]\n"
          ]
        },
        {
          "output_type": "display_data",
          "data": {
            "text/plain": [
              "<IPython.core.display.Markdown object>"
            ],
            "text/markdown": "<p>Total Reads: 180</p>\n<ul>\n<li>$\\Join_{B}$ [tuples read in: 30 out: 5]<ul>\n<li>$\\Pi_{['B']}$ [tuples read in: 25 out: 5]<ul>\n<li>R(A,B) has 25 tuples </li>\n</ul>\n</li>\n<li>$\\Pi_{['B']}$ [tuples read in: 125 out: 25]<ul>\n<li>S(B,C) has 25 tuples </li>\n</ul>\n</li>\n</ul>\n</li>\n</ul>"
          },
          "metadata": {}
        }
      ],
      "source": [
        "x_r = NJoin(Project([\"B\"], R), Project([\"B\"], S))\n",
        "\n",
        "render_markdown(x_r)\n",
        "check_results(x, x_r)\n",
        "\n",
        "print(get_result(x_r))\n",
        "cost_markdown(x_r)"
      ]
    },
    {
      "cell_type": "markdown",
      "metadata": {
        "id": "1cZ57nCpk7cf"
      },
      "source": [
        "### Task 2: Comparing costs (40 pts.)\n",
        "\n",
        "Let's explore how the cost of the two expressions compare as the data size increases, and with different numbers of distinct values in the data.  Given that $R$ has $N$ values, $S$ has $M$ values, you can assume that $N=M$ to simplify, and that they will both have _the same number of unique $B$ values_.\n",
        "\n",
        "You can do this any way you choose, but we outline one way below:\n",
        "\n",
        "We'll start with a function for each cost that will take as input:\n",
        "* The number of tuples in $R$, $N$\n",
        "* The number of distinct $B$ values in $R$, $N_B$\n",
        "* The number of tuples in $R\\Join_B S$, $O_1$\n",
        "* The number of tuples in $\\Pi_B(R\\Join_B S)$, $O_2$\n",
        "\n",
        "`def cost_1` calculates reads for -> $\\Pi_{B}$(( R(A,B) ) $\\Join_{B}$ ( S(B,C) )) or `Project([\"B\"], NJoin(R,S))`\n",
        "\n",
        "`def cost_2` calculates reads for -> Your answer for the Task 1\n",
        "\n",
        "Your function should return the total number of reads as in the `cost_markdown` function"
      ]
    },
    {
      "cell_type": "code",
      "execution_count": null,
      "metadata": {
        "id": "SVevNtyMk7cf",
        "colab": {
          "base_uri": "https://localhost:8080/"
        },
        "outputId": "27d43703-ed4a-4ea9-ba21-29908eda3923"
      },
      "outputs": [
        {
          "output_type": "stream",
          "name": "stdout",
          "text": [
            "775\n",
            "180\n"
          ]
        }
      ],
      "source": [
        "def cost_1(N, M, N_B, M_B, O_1, O_2):\n",
        "    # cost = (cost for reading nested loop join for R and S) + (cost of reading output in order to do projection)\n",
        "    cost = (N + (N * M)) + O_1\n",
        "    return cost\n",
        "\n",
        "def cost_2(N, M, N_B, M_B, O_1, O_2):\n",
        "    # cost = (cost for projections + cost for 'loops of' nested loop join) + (cost of nested loop join)\n",
        "    cost = (N + (N_B * M)) + (N_B + (N_B * M_B))\n",
        "    return cost\n",
        "\n",
        "print(cost_1(25, 25, 5, 5, 125, 5))\n",
        "print(cost_2(25, 25, 5, 5, 125, 5))"
      ]
    },
    {
      "cell_type": "markdown",
      "metadata": {
        "id": "pyxc0gAsk7cf"
      },
      "source": [
        "We can plot this as a function of $N$ (assume $N=M$ for simplicity), given 5 distinct $B$ values and a rough estimate of the intermediate output counts:"
      ]
    },
    {
      "cell_type": "code",
      "execution_count": null,
      "metadata": {
        "id": "lURbFiHtk7cg",
        "colab": {
          "base_uri": "https://localhost:8080/",
          "height": 265
        },
        "outputId": "e703891b-cd27-4e89-d451-fdf89bba76f2"
      },
      "outputs": [
        {
          "output_type": "display_data",
          "data": {
            "text/plain": [
              "<Figure size 432x288 with 1 Axes>"
            ],
            "image/png": "[encoded data removed]"
          },
          "metadata": {
            "needs_background": "light"
          }
        }
      ],
      "source": [
        "%matplotlib inline\n",
        "\n",
        "import matplotlib\n",
        "import numpy as np\n",
        "import matplotlib.pyplot as plt\n",
        "\n",
        "B = 5\n",
        "nrange = range(5,100)\n",
        "\n",
        "# Plot\n",
        "plt.plot(nrange, [cost_1(n, n, B, B, n*B, B) for n in nrange])\n",
        "plt.plot(nrange, [cost_2(n, n, B, B, n*B, B) for n in nrange])\n",
        "plt.show()"
      ]
    },
    {
      "cell_type": "markdown",
      "metadata": {
        "id": "uOpltxdek7cg"
      },
      "source": [
        "### Task 3: Optimizing some other expressions\n",
        "\n",
        "Can you optimize the below expressions, using the tools above?"
      ]
    },
    {
      "cell_type": "markdown",
      "metadata": {
        "id": "-VpzWkHJk7ch"
      },
      "source": [
        "#### Task 3.1"
      ]
    },
    {
      "cell_type": "code",
      "execution_count": null,
      "metadata": {
        "id": "ENjXIo-sk7ch",
        "colab": {
          "base_uri": "https://localhost:8080/",
          "height": 220
        },
        "outputId": "88a9a8b6-57c3-483f-c9fd-be20fbeb5b3b"
      },
      "outputs": [
        {
          "output_type": "display_data",
          "data": {
            "text/plain": [
              "<IPython.core.display.Markdown object>"
            ],
            "text/markdown": "<p>$\\sigma_{A=2}$($\\Pi_{A,C}$(( R(A,B) ) $\\Join_{B}$ ( S(B,C) )))</p>"
          },
          "metadata": {}
        },
        {
          "output_type": "stream",
          "name": "stdout",
          "text": [
            "[(2, 8), (2, 2), (2, 6), (2, 0), (2, 4)]\n"
          ]
        },
        {
          "output_type": "display_data",
          "data": {
            "text/plain": [
              "<IPython.core.display.Markdown object>"
            ],
            "text/markdown": "<p>Total Reads: 800</p>\n<ul>\n<li>$\\sigma_{A=2}$ [tuples read in: 25 out: 5]<ul>\n<li>$\\Pi_{['A', 'C']}$ [tuples read in: 125 out: 25]<ul>\n<li>$\\Join_{B}$ [tuples read in: 650 out: 125]<ul>\n<li>R(A,B) has 25 tuples </li>\n<li>S(B,C) has 25 tuples </li>\n</ul>\n</li>\n</ul>\n</li>\n</ul>\n</li>\n</ul>"
          },
          "metadata": {}
        }
      ],
      "source": [
        "x = Select(\"A\", 2, Project([\"A\",\"C\"], NJoin(R,S)))\n",
        "render_markdown(x)\n",
        "print(get_result(x))\n",
        "cost_markdown(x)"
      ]
    },
    {
      "cell_type": "code",
      "execution_count": null,
      "metadata": {
        "id": "5isXSuZkk7ch",
        "colab": {
          "base_uri": "https://localhost:8080/",
          "height": 226
        },
        "outputId": "ffc224a5-b930-4cb3-c009-bd74401e51e9"
      },
      "outputs": [
        {
          "output_type": "display_data",
          "data": {
            "text/plain": [
              "<IPython.core.display.Markdown object>"
            ],
            "text/markdown": "<p>$\\Pi_{A,C}$(( $\\sigma_{A=2}$(R(A,B)) ) $\\Join_{B}$ ( S(B,C) ))</p>"
          },
          "metadata": {}
        },
        {
          "output_type": "stream",
          "name": "stdout",
          "text": [
            "[(2, 6), (2, 8), (2, 0), (2, 2), (2, 4)]\n"
          ]
        },
        {
          "output_type": "display_data",
          "data": {
            "text/plain": [
              "<IPython.core.display.Markdown object>"
            ],
            "text/markdown": "<p>Total Reads: 180</p>\n<ul>\n<li>$\\Pi_{['A', 'C']}$ [tuples read in: 25 out: 5]<ul>\n<li>$\\Join_{B}$ [tuples read in: 130 out: 25]<ul>\n<li>$\\sigma_{A=2}$ [tuples read in: 25 out: 5]<ul>\n<li>R(A,B) has 25 tuples </li>\n</ul>\n</li>\n<li>S(B,C) has 25 tuples </li>\n</ul>\n</li>\n</ul>\n</li>\n</ul>"
          },
          "metadata": {}
        }
      ],
      "source": [
        "x_r = Project([\"A\",\"C\"], NJoin(Select(\"A\", 2, R), S))\n",
        "\n",
        "render_markdown(x_r)\n",
        "check_results(x, x_r)\n",
        "\n",
        "print(get_result(x_r))\n",
        "cost_markdown(x_r)"
      ]
    },
    {
      "cell_type": "markdown",
      "metadata": {
        "id": "cneFzMXhk7ci"
      },
      "source": [
        "#### Task 3.2"
      ]
    },
    {
      "cell_type": "code",
      "execution_count": null,
      "metadata": {
        "id": "JRn8UTnvk7ci",
        "colab": {
          "base_uri": "https://localhost:8080/",
          "height": 332
        },
        "outputId": "74efb55d-d517-41b9-d474-e7052d9cb7c2"
      },
      "outputs": [
        {
          "output_type": "stream",
          "name": "stdout",
          "text": [
            " * sqlite://\n",
            "Done.\n"
          ]
        },
        {
          "output_type": "display_data",
          "data": {
            "text/plain": [
              "<IPython.core.display.Markdown object>"
            ],
            "text/markdown": "<p>$\\sigma_{C=0}$($\\Pi_{A,C}$($\\sigma_{B=0}$(( ( R(A,B) ) $\\Join_{B}$ ( S(B,C) ) ) $\\Join_{C}$ ( T(C,D) ))))</p>"
          },
          "metadata": {}
        },
        {
          "output_type": "stream",
          "name": "stdout",
          "text": [
            "[(0, 0), (8, 0), (6, 0), (2, 0), (4, 0)]\n"
          ]
        },
        {
          "output_type": "display_data",
          "data": {
            "text/plain": [
              "<IPython.core.display.Markdown object>"
            ],
            "text/markdown": "<p>Total Reads: 4365</p>\n<ul>\n<li>$\\sigma_{C=0}$ [tuples read in: 15 out: 5]<ul>\n<li>$\\Pi_{['A', 'C']}$ [tuples read in: 75 out: 15]<ul>\n<li>$\\sigma_{B=0}$ [tuples read in: 375 out: 75]<ul>\n<li>$\\Join_{C}$ [tuples read in: 3250 out: 375]<ul>\n<li>$\\Join_{B}$ [tuples read in: 650 out: 125]<ul>\n<li>R(A,B) has 25 tuples </li>\n<li>S(B,C) has 25 tuples </li>\n</ul>\n</li>\n<li>T(C,D) has 25 tuples </li>\n</ul>\n</li>\n</ul>\n</li>\n</ul>\n</li>\n</ul>\n</li>\n</ul>"
          },
          "metadata": {}
        }
      ],
      "source": [
        "t = %sql SELECT * FROM T;\n",
        "T = BaseRelation(t, name=\"T\")\n",
        "\n",
        "x = Select(\"C\", 0, Project([\"A\",\"C\"], Select(\"B\", 0, NJoin(NJoin(R, S), T))))\n",
        "render_markdown(x)\n",
        "print(get_result(x))\n",
        "cost_markdown(x)"
      ]
    },
    {
      "cell_type": "code",
      "execution_count": null,
      "metadata": {
        "id": "gV3dDe8Bk7ci",
        "colab": {
          "base_uri": "https://localhost:8080/",
          "height": 386
        },
        "outputId": "d9713914-8788-4c68-98af-89447434cd35"
      },
      "outputs": [
        {
          "output_type": "display_data",
          "data": {
            "text/plain": [
              "<IPython.core.display.Markdown object>"
            ],
            "text/markdown": "<p>$\\Pi_{A,C}$(( $\\sigma_{C=0}$(( $\\sigma_{B=0}$(R(A,B)) ) $\\Join_{B}$ ( $\\sigma_{B=0}$(S(B,C)) )) ) $\\Join_{C}$ ( $\\Pi_{C}$($\\sigma_{C=0}$(T(C,D))) ))</p>"
          },
          "metadata": {}
        },
        {
          "output_type": "stream",
          "name": "stdout",
          "text": [
            "[(0, 0), (8, 0), (6, 0), (2, 0), (4, 0)]\n"
          ]
        },
        {
          "output_type": "display_data",
          "data": {
            "text/plain": [
              "<IPython.core.display.Markdown object>"
            ],
            "text/markdown": "<p>Total Reads: 370</p>\n<ul>\n<li>$\\Pi_{['A', 'C']}$ [tuples read in: 5 out: 5]<ul>\n<li>$\\Join_{C}$ [tuples read in: 10 out: 5]<ul>\n<li>$\\sigma_{C=0}$ [tuples read in: 25 out: 5]<ul>\n<li>$\\Join_{B}$ [tuples read in: 30 out: 25]<ul>\n<li>$\\sigma_{B=0}$ [tuples read in: 25 out: 5]<ul>\n<li>R(A,B) has 25 tuples </li>\n</ul>\n</li>\n<li>$\\sigma_{B=0}$ [tuples read in: 125 out: 25]<ul>\n<li>S(B,C) has 25 tuples </li>\n</ul>\n</li>\n</ul>\n</li>\n</ul>\n</li>\n<li>$\\Pi_{['C']}$ [tuples read in: 25 out: 5]<ul>\n<li>$\\sigma_{C=0}$ [tuples read in: 125 out: 25]<ul>\n<li>T(C,D) has 25 tuples </li>\n</ul>\n</li>\n</ul>\n</li>\n</ul>\n</li>\n</ul>\n</li>\n</ul>"
          },
          "metadata": {}
        }
      ],
      "source": [
        "x_r = Project([\"A\",\"C\"], NJoin(Select(\"C\", 0, NJoin(Select(\"B\", 0, R), Select(\"B\", 0, S))), Project([\"C\"], Select(\"C\", 0, T))))\n",
        "\n",
        "render_markdown(x_r)\n",
        "check_results(x, x_r)\n",
        "\n",
        "print(get_result(x_r))\n",
        "cost_markdown(x_r)"
      ]
    },
    {
      "cell_type": "markdown",
      "metadata": {
        "id": "d6mv-RzG8u2s"
      },
      "source": [
        "### Task 4: Optimizing indexes"
      ]
    },
    {
      "cell_type": "code",
      "execution_count": null,
      "metadata": {
        "id": "76fNz8AIk7ci",
        "colab": {
          "base_uri": "https://localhost:8080/"
        },
        "outputId": "9fa717c8-efa6-47c5-9d0a-702e36fd5642"
      },
      "outputs": [
        {
          "output_type": "stream",
          "name": "stdout",
          "text": [
            "The sql extension is already loaded. To reload it, use:\n",
            "  %reload_ext sql\n",
            "   sqlite://\n",
            " * sqlite:///complaint.db\n",
            "Done.\n",
            "   sqlite://\n",
            " * sqlite:///complaint.db\n",
            "Done.\n"
          ]
        },
        {
          "output_type": "execute_result",
          "data": {
            "text/plain": [
              "[]"
            ]
          },
          "metadata": {},
          "execution_count": 19
        }
      ],
      "source": [
        "%load_ext sql\n",
        "%sql sqlite:///complaint.db\n",
        "import time\n",
        "%sql drop index if exists helpful_index;\n",
        "%sql analyze"
      ]
    },
    {
      "cell_type": "code",
      "execution_count": null,
      "metadata": {
        "id": "S54gfvz38u2u",
        "colab": {
          "base_uri": "https://localhost:8080/",
          "height": 154
        },
        "outputId": "6816d29d-852a-48fc-d769-aff3c87aaaf3"
      },
      "outputs": [
        {
          "output_type": "stream",
          "name": "stdout",
          "text": [
            "   sqlite://\n",
            " * sqlite:///complaint.db\n",
            "Done.\n"
          ]
        },
        {
          "output_type": "execute_result",
          "data": {
            "text/plain": [
              "[(0, 'zip_index', 0, 'c', 0),\n",
              " (1, 'state_product_index', 0, 'c', 0),\n",
              " (2, 'state_index', 0, 'c', 0)]"
            ],
            "text/html": [
              "<table>\n",
              "    <thead>\n",
              "        <tr>\n",
              "            <th>seq</th>\n",
              "            <th>name</th>\n",
              "            <th>unique</th>\n",
              "            <th>origin</th>\n",
              "            <th>partial</th>\n",
              "        </tr>\n",
              "    </thead>\n",
              "    <tbody>\n",
              "        <tr>\n",
              "            <td>0</td>\n",
              "            <td>zip_index</td>\n",
              "            <td>0</td>\n",
              "            <td>c</td>\n",
              "            <td>0</td>\n",
              "        </tr>\n",
              "        <tr>\n",
              "            <td>1</td>\n",
              "            <td>state_product_index</td>\n",
              "            <td>0</td>\n",
              "            <td>c</td>\n",
              "            <td>0</td>\n",
              "        </tr>\n",
              "        <tr>\n",
              "            <td>2</td>\n",
              "            <td>state_index</td>\n",
              "            <td>0</td>\n",
              "            <td>c</td>\n",
              "            <td>0</td>\n",
              "        </tr>\n",
              "    </tbody>\n",
              "</table>"
            ]
          },
          "metadata": {},
          "execution_count": 20
        }
      ],
      "source": [
        "%%sql\n",
        "PRAGMA index_list('complaints');"
      ]
    },
    {
      "cell_type": "markdown",
      "metadata": {
        "id": "fB_d2iyek7cj"
      },
      "source": [
        "Let's play with the [consumer complaint database](https://catalog.data.gov/dataset/consumer-complaint-database) from data.gov"
      ]
    },
    {
      "cell_type": "code",
      "execution_count": null,
      "metadata": {
        "id": "t6TQu_KJk7cj",
        "colab": {
          "base_uri": "https://localhost:8080/",
          "height": 113
        },
        "outputId": "46c821c9-e9a7-4e4e-c437-c4a0179850b9"
      },
      "outputs": [
        {
          "output_type": "stream",
          "name": "stdout",
          "text": [
            "   sqlite://\n",
            " * sqlite:///complaint.db\n",
            "Done.\n"
          ]
        },
        {
          "output_type": "execute_result",
          "data": {
            "text/plain": [
              "[(79468,)]"
            ],
            "text/html": [
              "<table>\n",
              "    <thead>\n",
              "        <tr>\n",
              "            <th>count(*)</th>\n",
              "        </tr>\n",
              "    </thead>\n",
              "    <tbody>\n",
              "        <tr>\n",
              "            <td>79468</td>\n",
              "        </tr>\n",
              "    </tbody>\n",
              "</table>"
            ]
          },
          "metadata": {},
          "execution_count": 21
        }
      ],
      "source": [
        "%sql select count(*) from complaints;"
      ]
    },
    {
      "cell_type": "code",
      "execution_count": null,
      "metadata": {
        "id": "eGiUJzxjk7cj",
        "colab": {
          "base_uri": "https://localhost:8080/",
          "height": 338
        },
        "outputId": "ff599e48-b045-43b4-cf0f-9ffc3b25d818"
      },
      "outputs": [
        {
          "output_type": "stream",
          "name": "stdout",
          "text": [
            "   sqlite://\n",
            " * sqlite:///complaint.db\n",
            "Done.\n"
          ]
        },
        {
          "output_type": "execute_result",
          "data": {
            "text/plain": [
              "[('12/30/2015', 'Mortgage', 'Other mortgage', 'Loan servicing, payments, escrow account', '', '', 'Company chooses not to provide a public response', 'U.S. Bancorp', 'TN', '38138', '', 'N/A', 'Referral', '01/05/2016', 'Closed with explanation', 'Yes'),\n",
              " ('12/12/2015', 'Mortgage', 'Other mortgage', 'Loan modification,collection,foreclosure', '', '', 'Company chooses not to provide a public response', 'Citibank', 'NY', '13021', '', 'N/A', 'Referral', '12/23/2015', 'Closed with explanation', 'Yes'),\n",
              " ('12/02/2015', 'Mortgage', 'Other mortgage', 'Loan modification,collection,foreclosure', '', '', '', 'Nationstar Mortgage', 'MI', '49102', '', 'N/A', 'Referral', '12/17/2015', 'Closed with explanation', 'Yes'),\n",
              " ('12/02/2015', 'Bank account or service', 'Other bank product/service', 'Account opening, closing, or management', '', '', 'Company chooses not to provide a public response', 'Wells Fargo & Company', '', '', '', 'N/A', 'Referral', '12/07/2015', 'Closed with explanation', 'Yes'),\n",
              " ('12/22/2015', 'Mortgage', 'Conventional fixed mortgage', 'Loan servicing, payments, escrow account', '', '', '', 'Nationstar Mortgage', 'FL', '33484', 'Older American', 'Consent not provided', 'Web', '01/06/2016', 'Closed with explanation', 'Yes')]"
            ],
            "text/html": [
              "<table>\n",
              "    <thead>\n",
              "        <tr>\n",
              "            <th>Date_received</th>\n",
              "            <th>Product</th>\n",
              "            <th>Subproduct</th>\n",
              "            <th>Issue</th>\n",
              "            <th>Subissue</th>\n",
              "            <th>Consumer_narrative</th>\n",
              "            <th>Company_public_response</th>\n",
              "            <th>Company</th>\n",
              "            <th>State</th>\n",
              "            <th>ZIP_code</th>\n",
              "            <th>Submitted_via</th>\n",
              "            <th>Date_sent_to_company</th>\n",
              "            <th>Company_response</th>\n",
              "            <th>Timely_response</th>\n",
              "            <th>Consumer_disputed</th>\n",
              "            <th>Complaint_ID</th>\n",
              "        </tr>\n",
              "    </thead>\n",
              "    <tbody>\n",
              "        <tr>\n",
              "            <td>12/30/2015</td>\n",
              "            <td>Mortgage</td>\n",
              "            <td>Other mortgage</td>\n",
              "            <td>Loan servicing, payments, escrow account</td>\n",
              "            <td></td>\n",
              "            <td></td>\n",
              "            <td>Company chooses not to provide a public response</td>\n",
              "            <td>U.S. Bancorp</td>\n",
              "            <td>TN</td>\n",
              "            <td>38138</td>\n",
              "            <td></td>\n",
              "            <td>N/A</td>\n",
              "            <td>Referral</td>\n",
              "            <td>01/05/2016</td>\n",
              "            <td>Closed with explanation</td>\n",
              "            <td>Yes</td>\n",
              "        </tr>\n",
              "        <tr>\n",
              "            <td>12/12/2015</td>\n",
              "            <td>Mortgage</td>\n",
              "            <td>Other mortgage</td>\n",
              "            <td>Loan modification,collection,foreclosure</td>\n",
              "            <td></td>\n",
              "            <td></td>\n",
              "            <td>Company chooses not to provide a public response</td>\n",
              "            <td>Citibank</td>\n",
              "            <td>NY</td>\n",
              "            <td>13021</td>\n",
              "            <td></td>\n",
              "            <td>N/A</td>\n",
              "            <td>Referral</td>\n",
              "            <td>12/23/2015</td>\n",
              "            <td>Closed with explanation</td>\n",
              "            <td>Yes</td>\n",
              "        </tr>\n",
              "        <tr>\n",
              "            <td>12/02/2015</td>\n",
              "            <td>Mortgage</td>\n",
              "            <td>Other mortgage</td>\n",
              "            <td>Loan modification,collection,foreclosure</td>\n",
              "            <td></td>\n",
              "            <td></td>\n",
              "            <td></td>\n",
              "            <td>Nationstar Mortgage</td>\n",
              "            <td>MI</td>\n",
              "            <td>49102</td>\n",
              "            <td></td>\n",
              "            <td>N/A</td>\n",
              "            <td>Referral</td>\n",
              "            <td>12/17/2015</td>\n",
              "            <td>Closed with explanation</td>\n",
              "            <td>Yes</td>\n",
              "        </tr>\n",
              "        <tr>\n",
              "            <td>12/02/2015</td>\n",
              "            <td>Bank account or service</td>\n",
              "            <td>Other bank product/service</td>\n",
              "            <td>Account opening, closing, or management</td>\n",
              "            <td></td>\n",
              "            <td></td>\n",
              "            <td>Company chooses not to provide a public response</td>\n",
              "            <td>Wells Fargo &amp; Company</td>\n",
              "            <td></td>\n",
              "            <td></td>\n",
              "            <td></td>\n",
              "            <td>N/A</td>\n",
              "            <td>Referral</td>\n",
              "            <td>12/07/2015</td>\n",
              "            <td>Closed with explanation</td>\n",
              "            <td>Yes</td>\n",
              "        </tr>\n",
              "        <tr>\n",
              "            <td>12/22/2015</td>\n",
              "            <td>Mortgage</td>\n",
              "            <td>Conventional fixed mortgage</td>\n",
              "            <td>Loan servicing, payments, escrow account</td>\n",
              "            <td></td>\n",
              "            <td></td>\n",
              "            <td></td>\n",
              "            <td>Nationstar Mortgage</td>\n",
              "            <td>FL</td>\n",
              "            <td>33484</td>\n",
              "            <td>Older American</td>\n",
              "            <td>Consent not provided</td>\n",
              "            <td>Web</td>\n",
              "            <td>01/06/2016</td>\n",
              "            <td>Closed with explanation</td>\n",
              "            <td>Yes</td>\n",
              "        </tr>\n",
              "    </tbody>\n",
              "</table>"
            ]
          },
          "metadata": {},
          "execution_count": 22
        }
      ],
      "source": [
        "%sql select * from complaints limit 5;"
      ]
    },
    {
      "cell_type": "markdown",
      "metadata": {
        "id": "zsdXZAi8k7cj"
      },
      "source": [
        "The syntax to create a view is below\n",
        "> create index (index_name) on (table)(attributes)"
      ]
    },
    {
      "cell_type": "code",
      "execution_count": null,
      "metadata": {
        "id": "xCZcDCaVk7cj",
        "colab": {
          "base_uri": "https://localhost:8080/"
        },
        "outputId": "3c4fdde6-2a25-4414-d1db-32cbea1af2c2"
      },
      "outputs": [
        {
          "output_type": "stream",
          "name": "stdout",
          "text": [
            "   sqlite://\n",
            " * sqlite:///complaint.db\n",
            "Done.\n",
            "Done.\n",
            "Done.\n"
          ]
        },
        {
          "output_type": "execute_result",
          "data": {
            "text/plain": [
              "[]"
            ]
          },
          "metadata": {},
          "execution_count": 23
        }
      ],
      "source": [
        "%%sql drop index if exists zip_index;\n",
        "create index zip_index on complaints(zip_code);\n",
        "analyze"
      ]
    },
    {
      "cell_type": "code",
      "execution_count": null,
      "metadata": {
        "id": "VxIhSKRGk7ck",
        "colab": {
          "base_uri": "https://localhost:8080/",
          "height": 196
        },
        "outputId": "76e8496b-354d-44ad-a844-3f31a931f2b3"
      },
      "outputs": [
        {
          "output_type": "stream",
          "name": "stdout",
          "text": [
            "   sqlite://\n",
            " * sqlite:///complaint.db\n",
            "Done.\n"
          ]
        },
        {
          "output_type": "execute_result",
          "data": {
            "text/plain": [
              "[(None, 21619),\n",
              " ('Closed with explanation', 4267),\n",
              " ('', 760),\n",
              " ('Closed with non-monetary relief', 646),\n",
              " ('Yes', 607)]"
            ],
            "text/html": [
              "<table>\n",
              "    <thead>\n",
              "        <tr>\n",
              "            <th>ZIP_code</th>\n",
              "            <th>c</th>\n",
              "        </tr>\n",
              "    </thead>\n",
              "    <tbody>\n",
              "        <tr>\n",
              "            <td>None</td>\n",
              "            <td>21619</td>\n",
              "        </tr>\n",
              "        <tr>\n",
              "            <td>Closed with explanation</td>\n",
              "            <td>4267</td>\n",
              "        </tr>\n",
              "        <tr>\n",
              "            <td></td>\n",
              "            <td>760</td>\n",
              "        </tr>\n",
              "        <tr>\n",
              "            <td>Closed with non-monetary relief</td>\n",
              "            <td>646</td>\n",
              "        </tr>\n",
              "        <tr>\n",
              "            <td>Yes</td>\n",
              "            <td>607</td>\n",
              "        </tr>\n",
              "    </tbody>\n",
              "</table>"
            ]
          },
          "metadata": {},
          "execution_count": 24
        }
      ],
      "source": [
        "%%sql\n",
        "select zip_code, count(*) as c \n",
        "from complaints group by zip_code \n",
        "order by c desc limit 5;"
      ]
    },
    {
      "cell_type": "code",
      "execution_count": null,
      "metadata": {
        "id": "oGFrODDuk7ck",
        "colab": {
          "base_uri": "https://localhost:8080/",
          "height": 134
        },
        "outputId": "5673c661-0de2-4e23-c1e9-a57d728191fa"
      },
      "outputs": [
        {
          "output_type": "stream",
          "name": "stdout",
          "text": [
            "   sqlite://\n",
            " * sqlite:///complaint.db\n",
            "Done.\n"
          ]
        },
        {
          "output_type": "execute_result",
          "data": {
            "text/plain": [
              "[('Mortgage', 126), ('Student loan', 1)]"
            ],
            "text/html": [
              "<table>\n",
              "    <thead>\n",
              "        <tr>\n",
              "            <th>Product</th>\n",
              "            <th>count(*)</th>\n",
              "        </tr>\n",
              "    </thead>\n",
              "    <tbody>\n",
              "        <tr>\n",
              "            <td>Mortgage</td>\n",
              "            <td>126</td>\n",
              "        </tr>\n",
              "        <tr>\n",
              "            <td>Student loan</td>\n",
              "            <td>1</td>\n",
              "        </tr>\n",
              "    </tbody>\n",
              "</table>"
            ]
          },
          "metadata": {},
          "execution_count": 25
        }
      ],
      "source": [
        "%%sql select product, count(*)\n",
        "from complaints c1 where ZIP_CODE = '48382'\n",
        "group by product;"
      ]
    },
    {
      "cell_type": "markdown",
      "metadata": {
        "id": "m33Cm_s_k7ck"
      },
      "source": [
        "Let's get down to business... Indexing complainers!\n",
        "\n",
        "For pedagogical purposes, we'll use _likelihood_ function:\n",
        "  * likelihood(X,Y) does not change X's value \n",
        "  * instead it tells the DBMS the fraction of calls on which we believe X holds.\n",
        "      * 0.0 is lowest, 1.0 is highest.\n",
        "  * It's a form of _hint_ for the optimizer"
      ]
    },
    {
      "cell_type": "code",
      "execution_count": null,
      "metadata": {
        "id": "p6key0vRk7ck",
        "colab": {
          "base_uri": "https://localhost:8080/",
          "height": 134
        },
        "outputId": "7863be05-0f9b-403b-da75-0230bffe270d"
      },
      "outputs": [
        {
          "output_type": "stream",
          "name": "stdout",
          "text": [
            "   sqlite://\n",
            " * sqlite:///complaint.db\n",
            "Done.\n"
          ]
        },
        {
          "output_type": "execute_result",
          "data": {
            "text/plain": [
              "[(0, 0, 0, 'SCAN TABLE complaints AS c1'),\n",
              " (0, 0, 0, 'USE TEMP B-TREE FOR GROUP BY')]"
            ],
            "text/html": [
              "<table>\n",
              "    <thead>\n",
              "        <tr>\n",
              "            <th>selectid</th>\n",
              "            <th>order</th>\n",
              "            <th>from</th>\n",
              "            <th>detail</th>\n",
              "        </tr>\n",
              "    </thead>\n",
              "    <tbody>\n",
              "        <tr>\n",
              "            <td>0</td>\n",
              "            <td>0</td>\n",
              "            <td>0</td>\n",
              "            <td>SCAN TABLE complaints AS c1</td>\n",
              "        </tr>\n",
              "        <tr>\n",
              "            <td>0</td>\n",
              "            <td>0</td>\n",
              "            <td>0</td>\n",
              "            <td>USE TEMP B-TREE FOR GROUP BY</td>\n",
              "        </tr>\n",
              "    </tbody>\n",
              "</table>"
            ]
          },
          "metadata": {},
          "execution_count": 26
        }
      ],
      "source": [
        "%%sql \n",
        "explain query plan \n",
        "select product, count(*) from complaints c1 \n",
        "where likelihood(ZIP_CODE = '48383' or ZIP_CODE='44444', 1.0)\n",
        "group by product;"
      ]
    },
    {
      "cell_type": "code",
      "execution_count": null,
      "metadata": {
        "id": "N1sADfATk7cl",
        "colab": {
          "base_uri": "https://localhost:8080/",
          "height": 154
        },
        "outputId": "53e9698b-a456-4545-ef99-b5abda438b56"
      },
      "outputs": [
        {
          "output_type": "stream",
          "name": "stdout",
          "text": [
            "   sqlite://\n",
            " * sqlite:///complaint.db\n",
            "Done.\n"
          ]
        },
        {
          "output_type": "execute_result",
          "data": {
            "text/plain": [
              "[(0, 0, 0, 'SEARCH TABLE complaints AS c1 USING INDEX zip_index (ZIP_code=?)'),\n",
              " (0, 0, 0, 'EXECUTE LIST SUBQUERY 1'),\n",
              " (0, 0, 0, 'USE TEMP B-TREE FOR GROUP BY')]"
            ],
            "text/html": [
              "<table>\n",
              "    <thead>\n",
              "        <tr>\n",
              "            <th>selectid</th>\n",
              "            <th>order</th>\n",
              "            <th>from</th>\n",
              "            <th>detail</th>\n",
              "        </tr>\n",
              "    </thead>\n",
              "    <tbody>\n",
              "        <tr>\n",
              "            <td>0</td>\n",
              "            <td>0</td>\n",
              "            <td>0</td>\n",
              "            <td>SEARCH TABLE complaints AS c1 USING INDEX zip_index (ZIP_code=?)</td>\n",
              "        </tr>\n",
              "        <tr>\n",
              "            <td>0</td>\n",
              "            <td>0</td>\n",
              "            <td>0</td>\n",
              "            <td>EXECUTE LIST SUBQUERY 1</td>\n",
              "        </tr>\n",
              "        <tr>\n",
              "            <td>0</td>\n",
              "            <td>0</td>\n",
              "            <td>0</td>\n",
              "            <td>USE TEMP B-TREE FOR GROUP BY</td>\n",
              "        </tr>\n",
              "    </tbody>\n",
              "</table>"
            ]
          },
          "metadata": {},
          "execution_count": 27
        }
      ],
      "source": [
        "%%sql \n",
        "explain query plan \n",
        "select product, count(*) from complaints c1 \n",
        "where likelihood(ZIP_CODE = '48383' or ZIP_CODE='44444', 0.0)\n",
        "group by product;"
      ]
    },
    {
      "cell_type": "markdown",
      "metadata": {
        "id": "lWGHntdpk7cl"
      },
      "source": [
        "So... does it make a difference in execution time? \n",
        "\n",
        "... Well, some it's a small database in memory..."
      ]
    },
    {
      "cell_type": "code",
      "execution_count": null,
      "metadata": {
        "id": "eGQvxA8Hk7cl",
        "colab": {
          "base_uri": "https://localhost:8080/"
        },
        "outputId": "3cc345fc-9247-4f74-dce6-e341800569d9"
      },
      "outputs": [
        {
          "output_type": "stream",
          "name": "stdout",
          "text": [
            "   sqlite://\n",
            " * sqlite:///complaint.db\n",
            "Done.\n",
            "   sqlite://\n",
            " * sqlite:///complaint.db\n",
            "Done.\n",
            "time for scan=0.03626298904418945 time for index=0.003431081771850586\n",
            "\t So about 10.568966715308179 times faster\n"
          ]
        }
      ],
      "source": [
        "start_scan = time.time()\n",
        "%sql select product, count(*) from complaints c1 where likelihood(ZIP_CODE = '48382' or ZIP_CODE='44444', 1.0) group by product;\n",
        "scan_time = time.time() - start_scan\n",
        "\n",
        "start_index = time.time()\n",
        "%sql select product, count(*) from complaints c1 where likelihood(ZIP_CODE = '48382' or ZIP_CODE='44444', 0.0) group by product;\n",
        "index_time  = time.time() - start_index\n",
        "print(\"time for scan={0} time for index={1}\".format(scan_time, index_time))\n",
        "print(\"\\t So about {0} times faster\".format(scan_time/index_time))"
      ]
    },
    {
      "cell_type": "markdown",
      "metadata": {
        "id": "jfqH8Iksk7cl"
      },
      "source": [
        "<center>Covering Indexes</center>"
      ]
    },
    {
      "cell_type": "markdown",
      "metadata": {
        "id": "SBYjHr7Kk7cl"
      },
      "source": [
        "We say that an index is _covering_ if all the needed columns are in the index.\n",
        " * Needed columns is the union of those in WHERE _and_ SELECT.\n",
        " * Means that the query can be answere using the index--without reading the table!"
      ]
    },
    {
      "cell_type": "code",
      "execution_count": null,
      "metadata": {
        "id": "7iqgBQA6k7cl"
      },
      "outputs": [],
      "source": [
        "%%sql drop index if exists helpful_index;\n",
        "create index helpful_index on \n",
        "complaints(zip_code, product, complaint_id);"
      ]
    },
    {
      "cell_type": "markdown",
      "metadata": {
        "id": "7eQ8AqDak7cm"
      },
      "source": [
        "Which plan happens for this query?\n",
        "> select product, count(*)<br>\n",
        "> from complaints <br>\n",
        "> where likelihood(ZIP_CODE = '48382', 1.0)\n",
        "> <br>group by product;\n",
        "\n",
        "NB: Using zip_index, this would be a scan!"
      ]
    },
    {
      "cell_type": "code",
      "execution_count": null,
      "metadata": {
        "id": "qV97xn8gk7cm"
      },
      "outputs": [],
      "source": [
        "%%sql\n",
        "explain query plan select product, count(*) \n",
        "from complaints c1 \n",
        "where likelihood(ZIP_CODE = '48382' or ZIP_CODE='44444', 1.0) group by product;"
      ]
    },
    {
      "cell_type": "markdown",
      "metadata": {
        "id": "TF5JNcc-k7cm"
      },
      "source": [
        "* The index is _smaller_ in absolute data size.\n",
        "* The DBMS knows this, and it picks the right index!"
      ]
    },
    {
      "cell_type": "markdown",
      "metadata": {
        "collapsed": true,
        "id": "CGkPdM9fk7cm"
      },
      "source": [
        "Summary\n",
        "-------\n",
        "\n",
        "* This notebook walks through index creation \n",
        "* That index selection is done in a cost based way.\n",
        "* Introduced the notion of covering index.\n",
        "* Demonstrated that not only keys to answer query, but attributes returned important component of selection. "
      ]
    }
  ],
  "metadata": {
    "colab": {
      "provenance": []
    },
    "kernelspec": {
      "display_name": "Python 3 (ipykernel)",
      "language": "python",
      "name": "python3"
    },
    "language_info": {
      "codemirror_mode": {
        "name": "ipython",
        "version": 3
      },
      "file_extension": ".py",
      "mimetype": "text/x-python",
      "name": "python",
      "nbconvert_exporter": "python",
      "pygments_lexer": "ipython3",
      "version": "3.7.11"
    }
  },
  "nbformat": 4,
  "nbformat_minor": 0
}