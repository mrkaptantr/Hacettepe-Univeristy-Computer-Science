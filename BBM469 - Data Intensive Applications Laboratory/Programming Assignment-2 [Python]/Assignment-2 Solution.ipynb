{
 "cells": [
  {
   "cell_type": "code",
   "execution_count": 1,
   "id": "1d3601be",
   "metadata": {},
   "outputs": [],
   "source": [
    "#Imports"
   ]
  },
  {
   "cell_type": "code",
   "execution_count": 1,
   "id": "343b4037",
   "metadata": {
    "scrolled": false
   },
   "outputs": [],
   "source": [
    "import pandas as pd\n",
    "import numpy as np\n",
    "from sklearn.metrics.cluster import rand_score\n",
    "from sklearn.metrics import accuracy_score\n",
    "from sklearn.metrics import confusion_matrix\n",
    "import matplotlib.pyplot as plt\n",
    "from sklearn.cluster import KMeans\n",
    "from sklearn.preprocessing import MinMaxScaler\n",
    "from sklearn.model_selection import KFold\n",
    "from sklearn.naive_bayes import GaussianNB"
   ]
  },
  {
   "cell_type": "code",
   "execution_count": 2,
   "id": "eea32efa",
   "metadata": {},
   "outputs": [],
   "source": [
    "#Preprocessing and Creating organized_data - normalized_data"
   ]
  },
  {
   "cell_type": "code",
   "execution_count": 3,
   "id": "3c6815ff",
   "metadata": {},
   "outputs": [],
   "source": [
    "data=pd.read_csv('diabetes_data.csv',sep=';')\n",
    "data['gender'] = (data['gender'] == 'Male').astype(int)\n",
    "organized_data=data\n",
    "normalizer=MinMaxScaler()\n",
    "normalized_data=normalizer.fit_transform(organized_data)\n",
    "normalized_data=pd.DataFrame(normalized_data, columns = organized_data.columns)\n",
    "y=organized_data['class']\n",
    "organized_data=organized_data.drop(columns='class')\n",
    "normalized_data=normalized_data.drop(columns='class')"
   ]
  },
  {
   "cell_type": "code",
   "execution_count": 4,
   "id": "847d85a1",
   "metadata": {},
   "outputs": [],
   "source": [
    "#Clustering and output values are the rand_score metrics"
   ]
  },
  {
   "cell_type": "code",
   "execution_count": 5,
   "id": "a7d6a2a2",
   "metadata": {
    "scrolled": true
   },
   "outputs": [
    {
     "name": "stdout",
     "output_type": "stream",
     "text": [
      "Rand score of the organized data = 0.49963687564843634\n",
      "Rand score of the organized data = 0.6361049355269008\n"
     ]
    }
   ],
   "source": [
    "kmeans = KMeans(n_clusters=2, random_state=0).fit(organized_data)\n",
    "COD=kmeans.predict(organized_data)\n",
    "print(\"Rand score of the organized data = {}\".format(rand_score(COD,y)))\n",
    "kmeans = KMeans(n_clusters=2, random_state=0)\n",
    "kmeans.fit(normalized_data)\n",
    "CND=kmeans.predict(normalized_data)\n",
    "print(\"Rand score of the organized data = {}\".format((rand_score(CND,y))))"
   ]
  },
  {
   "cell_type": "code",
   "execution_count": null,
   "id": "d4e9cf03",
   "metadata": {},
   "outputs": [],
   "source": [
    "### Got the scatter plots of clustarization below."
   ]
  },
  {
   "cell_type": "code",
   "execution_count": 6,
   "id": "d9399544",
   "metadata": {},
   "outputs": [
    {
     "data": {
      "image/png": "[encoded data removed]",
      "text/plain": [
       "<Figure size 432x288 with 1 Axes>"
      ]
     },
     "metadata": {
      "needs_background": "light"
     },
     "output_type": "display_data"
    },
    {
     "name": "stdout",
     "output_type": "stream",
     "text": [
      "None\n"
     ]
    },
    {
     "data": {
      "image/png": "[encoded data removed]",
      "text/plain": [
       "<Figure size 432x288 with 1 Axes>"
      ]
     },
     "metadata": {
      "needs_background": "light"
     },
     "output_type": "display_data"
    },
    {
     "name": "stdout",
     "output_type": "stream",
     "text": [
      "None\n"
     ]
    }
   ],
   "source": [
    "clustered_organized=organized_data.copy()\n",
    "clustered_organized['cluster']=COD\n",
    "normalized_organized=normalized_data.copy()\n",
    "normalized_organized['cluster']=CND\n",
    "filtered_label0=normalized_organized[normalized_organized['cluster']==0]\n",
    "filtered_label1=normalized_organized[normalized_organized['cluster']==1]\n",
    "plt.scatter(filtered_label0.iloc[:,0] , filtered_label0.iloc[:,1] , color = 'red')\n",
    "plt.scatter(filtered_label1.iloc[:,0] , filtered_label1.iloc[:,1] , color = 'black')\n",
    "plt.xlabel(\"Age\")\n",
    "plt.ylabel(\"Gender\")\n",
    "plt.title(\"Normalized data\")\n",
    "print(plt.show())\n",
    "filtered_label0=clustered_organized[clustered_organized['cluster']==0]\n",
    "filtered_label1=clustered_organized[clustered_organized['cluster']==1]\n",
    "plt.scatter(filtered_label0.iloc[:,0] , filtered_label0.iloc[:,1] , color = 'red')\n",
    "plt.scatter(filtered_label1.iloc[:,0] , filtered_label1.iloc[:,1] , color = 'black')\n",
    "plt.xlabel(\"Age\")\n",
    "plt.ylabel(\"Gender\")\n",
    "plt.title(\"Organized data\")\n",
    "print(plt.show())\n"
   ]
  },
  {
   "cell_type": "code",
   "execution_count": 7,
   "id": "2d00a542",
   "metadata": {},
   "outputs": [],
   "source": [
    "### Created Gaussian Naive Bayes object"
   ]
  },
  {
   "cell_type": "code",
   "execution_count": 8,
   "id": "3fa17f43",
   "metadata": {},
   "outputs": [],
   "source": [
    "gnb=GaussianNB()"
   ]
  },
  {
   "cell_type": "code",
   "execution_count": 9,
   "id": "11892633",
   "metadata": {},
   "outputs": [],
   "source": [
    "#Define the test train split function with kfold\n",
    "#Classification with naive bayes is implemented in this function too."
   ]
  },
  {
   "cell_type": "code",
   "execution_count": 22,
   "id": "c739fb79",
   "metadata": {},
   "outputs": [],
   "source": [
    "def kfold_test(k):\n",
    "    acc_score_organized=0\n",
    "    acc_score_normalized=0\n",
    "    confusion_organized=np.array([[0,0],[0,0]])\n",
    "    confusion_normalized=np.array([[0,0],[0,0]])\n",
    "    kf=KFold(n_splits=k, random_state=None, shuffle=False)\n",
    "    for train_index, test_index in kf.split(organized_data):\n",
    "        X_train,X_test=organized_data.iloc[train_index], organized_data.iloc[test_index]\n",
    "        y_train, y_test = y[train_index], y[test_index]\n",
    "        y_pred = gnb.fit(X_train, y_train).predict(X_test)\n",
    "        confusion_organized += confusion_matrix(y_test, y_pred)\n",
    "        acc_score_organized+=accuracy_score(y_test, y_pred)\n",
    "        X_train,X_test=normalized_data.iloc[train_index], normalized_data.iloc[test_index]\n",
    "        y_train, y_test = y[train_index], y[test_index]\n",
    "        y_pred = gnb.fit(X_train, y_train).predict(X_test)\n",
    "        confusion_normalized += confusion_matrix(y_test, y_pred)\n",
    "        acc_score_normalized += accuracy_score(y_test, y_pred)\n",
    "    print(\"Mean accuracy of the organized data with {} folds = {}\".format(k,acc_score_organized/k))\n",
    "    print(\"Mean accuracy of the normalized data with {} folds = {}\".format(k,acc_score_normalized/k))\n",
    "    print(\"Sum confusion_matrix of the organized data with {} folds =  {}\".format(k,confusion_organized))\n",
    "    print(\"Sum confusion_matrix of the normalized data with {} folds = {}\".format(k,confusion_normalized))\n",
    "    "
   ]
  },
  {
   "cell_type": "code",
   "execution_count": 24,
   "id": "d207d555",
   "metadata": {},
   "outputs": [
    {
     "name": "stdout",
     "output_type": "stream",
     "text": [
      "Mean accuracy of the organized data with 7 folds = 0.8826769626769628\n",
      "Mean accuracy of the normalized data with 7 folds = 0.8826769626769628\n",
      "Sum confusion_matrix of the organized data with 7 folds =  [[168  32]\n",
      " [ 29 291]]\n",
      "Sum confusion_matrix of the normalized data with 7 folds = [[168  32]\n",
      " [ 29 291]]\n"
     ]
    }
   ],
   "source": [
    "kfold_test(7)"
   ]
  }
 ],
 "metadata": {
  "kernelspec": {
   "display_name": "Python 3",
   "language": "python",
   "name": "python3"
  },
  "language_info": {
   "codemirror_mode": {
    "name": "ipython",
    "version": 3
   },
   "file_extension": ".py",
   "mimetype": "text/x-python",
   "name": "python",
   "nbconvert_exporter": "python",
   "pygments_lexer": "ipython3",
   "version": "3.8.8"
  }
 },
 "nbformat": 4,
 "nbformat_minor": 5
}
