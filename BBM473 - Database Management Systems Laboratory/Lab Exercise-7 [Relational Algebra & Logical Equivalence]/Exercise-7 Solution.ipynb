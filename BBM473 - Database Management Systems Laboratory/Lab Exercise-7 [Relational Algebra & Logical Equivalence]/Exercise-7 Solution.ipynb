{
  "cells": [
    {
      "cell_type": "markdown",
      "metadata": {
        "id": "dRMlHdJ6f0gH"
      },
      "source": [
        "**BBM473 Database Laboratory (Spring 2022)**\n",
        "\n",
        "\n",
        "Exercise 7: Relational Algebra & Logical Equivalence\n",
        "============================="
      ]
    },
    {
      "cell_type": "markdown",
      "metadata": {
        "id": "8C9uMUcQf0gL"
      },
      "source": [
        "First, execute the following codes below.\n",
        "\n",
        "**Note:** You may need to install `markdown`:\n",
        "\n",
        "    $ pip install markdown"
      ]
    },
    {
      "cell_type": "code",
      "execution_count": null,
      "metadata": {
        "id": "Q35niK3vf0gM"
      },
      "outputs": [],
      "source": [
        "%load_ext sql\n",
        "%sql sqlite://\n",
        "\n",
        "%load_ext autoreload\n",
        "%autoreload 2\n",
        "\n",
        "# To help render markdown\n",
        "from IPython.core.display import display, Markdown\n",
        "from markdown import markdown\n",
        "def render_markdown_raw(m): return display(Markdown(markdown(m))) # must be last element of cell.\n",
        "def render_markdown(m): return render_markdown_raw(m.toMD())\n",
        "\n",
        "# import the relational algbera operators\n",
        "from relation_algebra import Select, Project, NJoin, BaseRelation\n",
        "from relation_algebra import get_result\n",
        "\n",
        "from display_tools import side_by_side"
      ]
    },
    {
      "cell_type": "code",
      "execution_count": null,
      "metadata": {
        "colab": {
          "base_uri": "https://localhost:8080/"
        },
        "id": "ds51Nf_Pf0gP",
        "outputId": "43b930cd-fa18-4e7b-97b0-716e27105359"
      },
      "outputs": [
        {
          "output_type": "stream",
          "name": "stdout",
          "text": [
            " * sqlite://\n",
            "Done.\n",
            "Done.\n",
            "Done.\n",
            "Done.\n",
            "Done.\n",
            "Done.\n",
            "Done.\n",
            "Done.\n"
          ]
        },
        {
          "output_type": "execute_result",
          "data": {
            "text/plain": [
              "[]"
            ]
          },
          "metadata": {},
          "execution_count": 2
        }
      ],
      "source": [
        "%%sql\n",
        "drop table if exists R; create table R(A int, B int);\n",
        "drop table if exists S; create table S(B int, C int);\n",
        "drop table if exists T; create table T(C int, D int);\n",
        "drop table if exists U; create table U(D int, E int);"
      ]
    },
    {
      "cell_type": "code",
      "execution_count": null,
      "metadata": {
        "colab": {
          "base_uri": "https://localhost:8080/"
        },
        "id": "P7ZSczJOf0gQ",
        "outputId": "98ef7618-aac9-44c0-ff94-8cb710d39702"
      },
      "outputs": [
        {
          "output_type": "stream",
          "name": "stdout",
          "text": [
            " * sqlite://\n",
            "1 rows affected.\n",
            " * sqlite://\n",
            "1 rows affected.\n",
            " * sqlite://\n",
            "1 rows affected.\n",
            " * sqlite://\n",
            "1 rows affected.\n",
            " * sqlite://\n",
            "1 rows affected.\n",
            " * sqlite://\n",
            "1 rows affected.\n",
            " * sqlite://\n",
            "1 rows affected.\n",
            " * sqlite://\n",
            "1 rows affected.\n",
            " * sqlite://\n",
            "1 rows affected.\n",
            " * sqlite://\n",
            "1 rows affected.\n",
            " * sqlite://\n",
            "1 rows affected.\n",
            " * sqlite://\n",
            "1 rows affected.\n",
            " * sqlite://\n",
            "1 rows affected.\n",
            " * sqlite://\n",
            "1 rows affected.\n",
            " * sqlite://\n",
            "1 rows affected.\n",
            " * sqlite://\n",
            "1 rows affected.\n",
            " * sqlite://\n",
            "1 rows affected.\n",
            " * sqlite://\n",
            "1 rows affected.\n",
            " * sqlite://\n",
            "1 rows affected.\n",
            " * sqlite://\n",
            "1 rows affected.\n",
            " * sqlite://\n",
            "1 rows affected.\n",
            " * sqlite://\n",
            "1 rows affected.\n",
            " * sqlite://\n",
            "1 rows affected.\n",
            " * sqlite://\n",
            "1 rows affected.\n",
            " * sqlite://\n",
            "1 rows affected.\n",
            " * sqlite://\n",
            "1 rows affected.\n",
            " * sqlite://\n",
            "1 rows affected.\n",
            " * sqlite://\n",
            "1 rows affected.\n",
            " * sqlite://\n",
            "1 rows affected.\n",
            " * sqlite://\n",
            "1 rows affected.\n",
            " * sqlite://\n",
            "1 rows affected.\n",
            " * sqlite://\n",
            "1 rows affected.\n",
            " * sqlite://\n",
            "1 rows affected.\n",
            " * sqlite://\n",
            "1 rows affected.\n",
            " * sqlite://\n",
            "1 rows affected.\n",
            " * sqlite://\n",
            "1 rows affected.\n",
            " * sqlite://\n",
            "1 rows affected.\n",
            " * sqlite://\n",
            "1 rows affected.\n",
            " * sqlite://\n",
            "1 rows affected.\n",
            " * sqlite://\n",
            "1 rows affected.\n",
            " * sqlite://\n",
            "1 rows affected.\n",
            " * sqlite://\n",
            "1 rows affected.\n",
            " * sqlite://\n",
            "1 rows affected.\n",
            " * sqlite://\n",
            "1 rows affected.\n",
            " * sqlite://\n",
            "1 rows affected.\n",
            " * sqlite://\n",
            "1 rows affected.\n",
            " * sqlite://\n",
            "1 rows affected.\n",
            " * sqlite://\n",
            "1 rows affected.\n",
            " * sqlite://\n",
            "1 rows affected.\n",
            " * sqlite://\n",
            "1 rows affected.\n",
            " * sqlite://\n",
            "1 rows affected.\n",
            " * sqlite://\n",
            "1 rows affected.\n",
            " * sqlite://\n",
            "1 rows affected.\n",
            " * sqlite://\n",
            "1 rows affected.\n",
            " * sqlite://\n",
            "1 rows affected.\n",
            " * sqlite://\n",
            "1 rows affected.\n",
            " * sqlite://\n",
            "1 rows affected.\n",
            " * sqlite://\n",
            "1 rows affected.\n",
            " * sqlite://\n",
            "1 rows affected.\n",
            " * sqlite://\n",
            "1 rows affected.\n",
            " * sqlite://\n",
            "1 rows affected.\n",
            " * sqlite://\n",
            "1 rows affected.\n",
            " * sqlite://\n",
            "1 rows affected.\n",
            " * sqlite://\n",
            "1 rows affected.\n",
            " * sqlite://\n",
            "1 rows affected.\n",
            " * sqlite://\n",
            "1 rows affected.\n",
            " * sqlite://\n",
            "1 rows affected.\n",
            " * sqlite://\n",
            "1 rows affected.\n",
            " * sqlite://\n",
            "1 rows affected.\n",
            " * sqlite://\n",
            "1 rows affected.\n",
            " * sqlite://\n",
            "1 rows affected.\n",
            " * sqlite://\n",
            "1 rows affected.\n",
            " * sqlite://\n",
            "1 rows affected.\n",
            " * sqlite://\n",
            "1 rows affected.\n",
            " * sqlite://\n",
            "1 rows affected.\n",
            " * sqlite://\n",
            "1 rows affected.\n",
            " * sqlite://\n",
            "1 rows affected.\n",
            " * sqlite://\n",
            "1 rows affected.\n",
            " * sqlite://\n",
            "1 rows affected.\n",
            " * sqlite://\n",
            "1 rows affected.\n",
            " * sqlite://\n",
            "1 rows affected.\n",
            " * sqlite://\n",
            "1 rows affected.\n",
            " * sqlite://\n",
            "1 rows affected.\n",
            " * sqlite://\n",
            "1 rows affected.\n",
            " * sqlite://\n",
            "1 rows affected.\n",
            " * sqlite://\n",
            "1 rows affected.\n",
            " * sqlite://\n",
            "1 rows affected.\n",
            " * sqlite://\n",
            "1 rows affected.\n",
            " * sqlite://\n",
            "1 rows affected.\n",
            " * sqlite://\n",
            "1 rows affected.\n",
            " * sqlite://\n",
            "1 rows affected.\n",
            " * sqlite://\n",
            "1 rows affected.\n",
            " * sqlite://\n",
            "1 rows affected.\n",
            " * sqlite://\n",
            "1 rows affected.\n",
            " * sqlite://\n",
            "1 rows affected.\n"
          ]
        }
      ],
      "source": [
        "for x in range(0,10,2):\n",
        "    for y in range(0,10,3):\n",
        "        %sql INSERT INTO R VALUES (:x, :y);\n",
        "for x in range(0,20,4):\n",
        "    for y in range(0,10,2):\n",
        "        %sql INSERT INTO S VALUES (:x, :y);\n",
        "for x in range(0,5,1):\n",
        "    for y in range(0,10,2):\n",
        "        %sql INSERT INTO T VALUES (:x, :y);\n",
        "for x in range(0,10,2):\n",
        "    for y in range(0,5,1):\n",
        "        %sql INSERT INTO U VALUES (:x, :y);"
      ]
    },
    {
      "cell_type": "markdown",
      "metadata": {
        "id": "-2cz7BFdf0gR"
      },
      "source": [
        "### Tutorial: Relational Algebra Python Toolkit\n",
        "\n",
        "We'll use a python toolkit we made to play around with RA.  We'll get started with a quick tutorial, but the syntax should also be pretty intuitive (feel free to look at the source code too!)\n",
        "\n",
        "#### BaseRelation class\n",
        "\n",
        "Recall that in our RA operations we'll deal with sets; to get started, we need to take SQL output and turn it into a `BaseRelation` object, which we can optionally name:"
      ]
    },
    {
      "cell_type": "code",
      "execution_count": null,
      "metadata": {
        "colab": {
          "base_uri": "https://localhost:8080/"
        },
        "id": "n2dMiG78f0gS",
        "outputId": "944c79ce-f904-4f00-e828-31473fb0d5e8"
      },
      "outputs": [
        {
          "output_type": "stream",
          "name": "stdout",
          "text": [
            " * sqlite://\n",
            "Done.\n",
            " * sqlite://\n",
            "Done.\n",
            " * sqlite://\n",
            "Done.\n",
            " * sqlite://\n",
            "Done.\n"
          ]
        }
      ],
      "source": [
        "r = %sql SELECT * FROM R;\n",
        "R = BaseRelation(r, name=\"R\")\n",
        "\n",
        "s = %sql SELECT * FROM S;\n",
        "S = BaseRelation(s, name=\"S\")\n",
        "\n",
        "t = %sql SELECT * FROM T;\n",
        "T = BaseRelation(t, name=\"T\")\n",
        "\n",
        "u = %sql SELECT * FROM U;\n",
        "U = BaseRelation(u, name=\"U\")"
      ]
    },
    {
      "cell_type": "markdown",
      "metadata": {
        "id": "LhiLB9BRf0gT"
      },
      "source": [
        "For **all operators in our toolkit**, we can use `get_result` to see the set we have:"
      ]
    },
    {
      "cell_type": "code",
      "execution_count": null,
      "metadata": {
        "colab": {
          "base_uri": "https://localhost:8080/"
        },
        "id": "ra81oIb2f0gT",
        "outputId": "ce564f54-f836-4aed-eaec-69f523d29af7"
      },
      "outputs": [
        {
          "output_type": "stream",
          "name": "stdout",
          "text": [
            "[(0, 0), (0, 3), (0, 6), (0, 9), (2, 0), (2, 3), (2, 6), (2, 9), (4, 0), (4, 3), (4, 6), (4, 9), (6, 0), (6, 3), (6, 6), (6, 9), (8, 0), (8, 3), (8, 6), (8, 9)]\n"
          ]
        }
      ],
      "source": [
        "print (get_result(R))"
      ]
    },
    {
      "cell_type": "markdown",
      "metadata": {
        "id": "GevZpntdf0gU"
      },
      "source": [
        "And (again **for all operators in our toolkit**) we can use `render_markdown(R)`\n",
        "\n",
        "**_NOTE: This function requires that you have installed the `markdown` python library.  It's just for this function / pretty printing, so if you weren't able to install this library, don't worry!_**"
      ]
    },
    {
      "cell_type": "code",
      "execution_count": null,
      "metadata": {
        "colab": {
          "base_uri": "https://localhost:8080/",
          "height": 93
        },
        "id": "EPZXJFMmf0gU",
        "outputId": "ef337f06-f5c7-498b-dd68-8f17c0849e27"
      },
      "outputs": [
        {
          "output_type": "display_data",
          "data": {
            "text/plain": [
              "<IPython.core.display.Markdown object>"
            ],
            "text/markdown": "<p>R(A,B)</p>"
          },
          "metadata": {}
        },
        {
          "output_type": "display_data",
          "data": {
            "text/plain": [
              "<IPython.core.display.Markdown object>"
            ],
            "text/markdown": "<p>S(B,C)</p>"
          },
          "metadata": {}
        },
        {
          "output_type": "display_data",
          "data": {
            "text/plain": [
              "<IPython.core.display.Markdown object>"
            ],
            "text/markdown": "<p>T(C,D)</p>"
          },
          "metadata": {}
        }
      ],
      "source": [
        "render_markdown(R)\n",
        "render_markdown(S)\n",
        "render_markdown(T)"
      ]
    },
    {
      "cell_type": "markdown",
      "metadata": {
        "id": "PyCXMQKHf0gV"
      },
      "source": [
        "#### Selection, Projection, NJoin classes"
      ]
    },
    {
      "cell_type": "code",
      "execution_count": null,
      "metadata": {
        "colab": {
          "base_uri": "https://localhost:8080/",
          "height": 68
        },
        "id": "BxCFAJTNf0gV",
        "outputId": "43b83b6e-f4b1-4272-e1c4-f7f0b0982d3c"
      },
      "outputs": [
        {
          "output_type": "display_data",
          "data": {
            "text/plain": [
              "<IPython.core.display.Markdown object>"
            ],
            "text/markdown": "<p>$\\sigma_{A=2}$(R(A,B))</p>"
          },
          "metadata": {}
        },
        {
          "output_type": "stream",
          "name": "stdout",
          "text": [
            "[(2, 0), (2, 3), (2, 6), (2, 9)]\n"
          ]
        }
      ],
      "source": [
        "s = Select(\"A\", 2, R)\n",
        "render_markdown(s)\n",
        "print(get_result(s))"
      ]
    },
    {
      "cell_type": "code",
      "execution_count": null,
      "metadata": {
        "colab": {
          "base_uri": "https://localhost:8080/",
          "height": 66
        },
        "id": "Up7y6G5Lf0gV",
        "outputId": "cdea4ed5-943b-4767-d5e2-ac1b1a4e4c85"
      },
      "outputs": [
        {
          "output_type": "display_data",
          "data": {
            "text/plain": [
              "<IPython.core.display.Markdown object>"
            ],
            "text/markdown": "<p>$\\Pi_{A}$(R(A,B))</p>"
          },
          "metadata": {}
        },
        {
          "output_type": "stream",
          "name": "stdout",
          "text": [
            "[(0,), (2,), (8,), (4,), (6,)]\n"
          ]
        }
      ],
      "source": [
        "p = Project([\"A\"], R)\n",
        "render_markdown(p)\n",
        "print (get_result(p))"
      ]
    },
    {
      "cell_type": "code",
      "execution_count": null,
      "metadata": {
        "colab": {
          "base_uri": "https://localhost:8080/",
          "height": 86
        },
        "id": "8Hv_0Y1nf0gW",
        "outputId": "621b6b59-a1eb-4aae-d017-7f7df7dc1cc5"
      },
      "outputs": [
        {
          "output_type": "display_data",
          "data": {
            "text/plain": [
              "<IPython.core.display.Markdown object>"
            ],
            "text/markdown": "<p>( R(A,B) ) $\\Join_{B}$ ( S(B,C) )</p>"
          },
          "metadata": {}
        },
        {
          "output_type": "stream",
          "name": "stdout",
          "text": [
            "[(0, 0, 0), (0, 0, 2), (0, 0, 4), (0, 0, 6), (0, 0, 8), (2, 0, 0), (2, 0, 2), (2, 0, 4), (2, 0, 6), (2, 0, 8), (4, 0, 0), (4, 0, 2), (4, 0, 4), (4, 0, 6), (4, 0, 8), (6, 0, 0), (6, 0, 2), (6, 0, 4), (6, 0, 6), (6, 0, 8), (8, 0, 0), (8, 0, 2), (8, 0, 4), (8, 0, 6), (8, 0, 8)]\n"
          ]
        }
      ],
      "source": [
        "j = NJoin(R, S)\n",
        "render_markdown(j)\n",
        "print (get_result(j))"
      ]
    },
    {
      "cell_type": "markdown",
      "metadata": {
        "id": "5_LJ0DjDf0gW"
      },
      "source": [
        "#### Compositionality\n",
        "\n",
        "Most importantly, these operators are all compositional, so you can pass them in as inputs to each other (as we already did with passing `BaseRelation` into the operators above)!"
      ]
    },
    {
      "cell_type": "markdown",
      "metadata": {
        "id": "qNqTsopFf0gX"
      },
      "source": [
        "### Task 1: SQL -> RA\n",
        "\n",
        "Let's go through some examples where we'll translate SQL to Relational Algebra- note you can use the tools to debug / test your answers!\n",
        "\n",
        "**NOTE:** The instances we use are randomly generated- feel free to re-generate above to get more useful test examples!"
      ]
    },
    {
      "cell_type": "code",
      "execution_count": null,
      "metadata": {
        "colab": {
          "base_uri": "https://localhost:8080/",
          "height": 638
        },
        "id": "dvE0iANjf0gX",
        "outputId": "d34c10f6-81d3-4e1a-b3ad-c0c3417b4024",
        "scrolled": true
      },
      "outputs": [
        {
          "output_type": "stream",
          "name": "stdout",
          "text": [
            " * sqlite://\n",
            "Done.\n",
            " * sqlite://\n",
            "Done.\n"
          ]
        },
        {
          "output_type": "display_data",
          "data": {
            "text/html": [
              "<table style=\"display: inline-block;\"><tr><th>A</th><th>B</th></tr><tr><td>0</td><td>0</td></tr><tr><td>0</td><td>3</td></tr><tr><td>0</td><td>6</td></tr><tr><td>0</td><td>9</td></tr><tr><td>2</td><td>0</td></tr><tr><td>2</td><td>3</td></tr><tr><td>2</td><td>6</td></tr><tr><td>2</td><td>9</td></tr><tr><td>4</td><td>0</td></tr><tr><td>4</td><td>3</td></tr><tr><td>4</td><td>6</td></tr><tr><td>4</td><td>9</td></tr><tr><td>6</td><td>0</td></tr><tr><td>6</td><td>3</td></tr><tr><td>6</td><td>6</td></tr><tr><td>6</td><td>9</td></tr><tr><td>8</td><td>0</td></tr><tr><td>8</td><td>3</td></tr><tr><td>8</td><td>6</td></tr><tr><td>8</td><td>9</tr></table> <table style=\"display: inline-block;\"><tr><th>B</th><th>C</th></tr><tr><td>0</td><td>0</td></tr><tr><td>0</td><td>2</td></tr><tr><td>0</td><td>4</td></tr><tr><td>0</td><td>6</td></tr><tr><td>0</td><td>8</td></tr><tr><td>4</td><td>0</td></tr><tr><td>4</td><td>2</td></tr><tr><td>4</td><td>4</td></tr><tr><td>4</td><td>6</td></tr><tr><td>4</td><td>8</td></tr><tr><td>8</td><td>0</td></tr><tr><td>8</td><td>2</td></tr><tr><td>8</td><td>4</td></tr><tr><td>8</td><td>6</td></tr><tr><td>8</td><td>8</td></tr><tr><td>12</td><td>0</td></tr><tr><td>12</td><td>2</td></tr><tr><td>12</td><td>4</td></tr><tr><td>12</td><td>6</td></tr><tr><td>12</td><td>8</td></tr><tr><td>16</td><td>0</td></tr><tr><td>16</td><td>2</td></tr><tr><td>16</td><td>4</td></tr><tr><td>16</td><td>6</td></tr><tr><td>16</td><td>8</tr></table>"
            ]
          },
          "metadata": {}
        }
      ],
      "source": [
        "r = %sql SELECT * FROM R;\n",
        "s = %sql SELECT * FROM S;\n",
        "side_by_side(r,s)"
      ]
    },
    {
      "cell_type": "markdown",
      "metadata": {
        "id": "N0AXGd4vf0gX"
      },
      "source": [
        "**For each of the below queries, translate them from SQL into RA using the python RA toolkit!**"
      ]
    },
    {
      "cell_type": "markdown",
      "metadata": {
        "id": "_whjFlkCf0gX"
      },
      "source": [
        "### Task 1.a"
      ]
    },
    {
      "cell_type": "code",
      "execution_count": null,
      "metadata": {
        "colab": {
          "base_uri": "https://localhost:8080/",
          "height": 158
        },
        "id": "xhWPWBF6f0gY",
        "outputId": "c4bf6d31-fdd3-4ebf-be67-08d5990f079b"
      },
      "outputs": [
        {
          "output_type": "stream",
          "name": "stdout",
          "text": [
            " * sqlite://\n",
            "Done.\n"
          ]
        },
        {
          "output_type": "execute_result",
          "data": {
            "text/plain": [
              "[(0,), (3,), (6,), (9,)]"
            ],
            "text/html": [
              "<table>\n",
              "    <thead>\n",
              "        <tr>\n",
              "            <th>B</th>\n",
              "        </tr>\n",
              "    </thead>\n",
              "    <tbody>\n",
              "        <tr>\n",
              "            <td>0</td>\n",
              "        </tr>\n",
              "        <tr>\n",
              "            <td>3</td>\n",
              "        </tr>\n",
              "        <tr>\n",
              "            <td>6</td>\n",
              "        </tr>\n",
              "        <tr>\n",
              "            <td>9</td>\n",
              "        </tr>\n",
              "    </tbody>\n",
              "</table>"
            ]
          },
          "metadata": {},
          "execution_count": 11
        }
      ],
      "source": [
        "%%sql\n",
        "SELECT DISTINCT R.B\n",
        "FROM R\n",
        "WHERE R.A = 2;"
      ]
    },
    {
      "cell_type": "code",
      "execution_count": null,
      "metadata": {
        "id": "P8FO-9nKf0gY",
        "scrolled": true,
        "colab": {
          "base_uri": "https://localhost:8080/",
          "height": 103
        },
        "outputId": "58c3ab6d-954a-40f5-dda5-6497d2210126"
      },
      "outputs": [
        {
          "output_type": "stream",
          "name": "stdout",
          "text": [
            " * sqlite://\n",
            "Done.\n"
          ]
        },
        {
          "output_type": "display_data",
          "data": {
            "text/plain": [
              "<IPython.core.display.Markdown object>"
            ],
            "text/markdown": "<p>$\\sigma_{A=2}$(R(A,B))</p>"
          },
          "metadata": {}
        },
        {
          "output_type": "stream",
          "name": "stdout",
          "text": [
            "[(0,), (3,), (6,), (9,)]\n"
          ]
        }
      ],
      "source": [
        "# Transfering SQL statement to RA\n",
        "X = %sql SELECT DISTINCT R.B FROM R WHERE R.A = 2;\n",
        "x = BaseRelation(X)\n",
        "\n",
        "# Indicating select operation\n",
        "y = Select('A', 2, R)\n",
        "render_markdown(y)\n",
        "\n",
        "# Printing results\n",
        "print(get_result(x))\n",
        "\n",
        "# Result sets are same"
      ]
    },
    {
      "cell_type": "markdown",
      "metadata": {
        "id": "gvy2LiObf0gY"
      },
      "source": [
        "### Task 1.b (20 pts.)"
      ]
    },
    {
      "cell_type": "code",
      "execution_count": null,
      "metadata": {
        "colab": {
          "base_uri": "https://localhost:8080/",
          "height": 598
        },
        "id": "BNst6423f0gY",
        "outputId": "ede00c3d-598b-4a2c-ac5a-7ac83fc646ce",
        "scrolled": true
      },
      "outputs": [
        {
          "output_type": "stream",
          "name": "stdout",
          "text": [
            " * sqlite://\n",
            "Done.\n"
          ]
        },
        {
          "output_type": "execute_result",
          "data": {
            "text/plain": [
              "[(0, 0),\n",
              " (0, 2),\n",
              " (0, 4),\n",
              " (0, 6),\n",
              " (0, 8),\n",
              " (2, 0),\n",
              " (2, 2),\n",
              " (2, 4),\n",
              " (2, 6),\n",
              " (2, 8),\n",
              " (4, 0),\n",
              " (4, 2),\n",
              " (4, 4),\n",
              " (4, 6),\n",
              " (4, 8),\n",
              " (6, 0),\n",
              " (6, 2),\n",
              " (6, 4),\n",
              " (6, 6),\n",
              " (6, 8),\n",
              " (8, 0),\n",
              " (8, 2),\n",
              " (8, 4),\n",
              " (8, 6),\n",
              " (8, 8)]"
            ],
            "text/html": [
              "<table>\n",
              "    <thead>\n",
              "        <tr>\n",
              "            <th>A</th>\n",
              "            <th>C</th>\n",
              "        </tr>\n",
              "    </thead>\n",
              "    <tbody>\n",
              "        <tr>\n",
              "            <td>0</td>\n",
              "            <td>0</td>\n",
              "        </tr>\n",
              "        <tr>\n",
              "            <td>0</td>\n",
              "            <td>2</td>\n",
              "        </tr>\n",
              "        <tr>\n",
              "            <td>0</td>\n",
              "            <td>4</td>\n",
              "        </tr>\n",
              "        <tr>\n",
              "            <td>0</td>\n",
              "            <td>6</td>\n",
              "        </tr>\n",
              "        <tr>\n",
              "            <td>0</td>\n",
              "            <td>8</td>\n",
              "        </tr>\n",
              "        <tr>\n",
              "            <td>2</td>\n",
              "            <td>0</td>\n",
              "        </tr>\n",
              "        <tr>\n",
              "            <td>2</td>\n",
              "            <td>2</td>\n",
              "        </tr>\n",
              "        <tr>\n",
              "            <td>2</td>\n",
              "            <td>4</td>\n",
              "        </tr>\n",
              "        <tr>\n",
              "            <td>2</td>\n",
              "            <td>6</td>\n",
              "        </tr>\n",
              "        <tr>\n",
              "            <td>2</td>\n",
              "            <td>8</td>\n",
              "        </tr>\n",
              "        <tr>\n",
              "            <td>4</td>\n",
              "            <td>0</td>\n",
              "        </tr>\n",
              "        <tr>\n",
              "            <td>4</td>\n",
              "            <td>2</td>\n",
              "        </tr>\n",
              "        <tr>\n",
              "            <td>4</td>\n",
              "            <td>4</td>\n",
              "        </tr>\n",
              "        <tr>\n",
              "            <td>4</td>\n",
              "            <td>6</td>\n",
              "        </tr>\n",
              "        <tr>\n",
              "            <td>4</td>\n",
              "            <td>8</td>\n",
              "        </tr>\n",
              "        <tr>\n",
              "            <td>6</td>\n",
              "            <td>0</td>\n",
              "        </tr>\n",
              "        <tr>\n",
              "            <td>6</td>\n",
              "            <td>2</td>\n",
              "        </tr>\n",
              "        <tr>\n",
              "            <td>6</td>\n",
              "            <td>4</td>\n",
              "        </tr>\n",
              "        <tr>\n",
              "            <td>6</td>\n",
              "            <td>6</td>\n",
              "        </tr>\n",
              "        <tr>\n",
              "            <td>6</td>\n",
              "            <td>8</td>\n",
              "        </tr>\n",
              "        <tr>\n",
              "            <td>8</td>\n",
              "            <td>0</td>\n",
              "        </tr>\n",
              "        <tr>\n",
              "            <td>8</td>\n",
              "            <td>2</td>\n",
              "        </tr>\n",
              "        <tr>\n",
              "            <td>8</td>\n",
              "            <td>4</td>\n",
              "        </tr>\n",
              "        <tr>\n",
              "            <td>8</td>\n",
              "            <td>6</td>\n",
              "        </tr>\n",
              "        <tr>\n",
              "            <td>8</td>\n",
              "            <td>8</td>\n",
              "        </tr>\n",
              "    </tbody>\n",
              "</table>"
            ]
          },
          "metadata": {},
          "execution_count": 19
        }
      ],
      "source": [
        "%%sql\n",
        "SELECT DISTINCT R.A, S.C\n",
        "FROM R, S\n",
        "WHERE R.B = S.B;"
      ]
    },
    {
      "cell_type": "code",
      "execution_count": null,
      "metadata": {
        "id": "GRZBqQ0Uf0gY",
        "colab": {
          "base_uri": "https://localhost:8080/",
          "height": 122
        },
        "outputId": "768e5428-04d0-4d01-ee8f-fdd93083adbc"
      },
      "outputs": [
        {
          "output_type": "stream",
          "name": "stdout",
          "text": [
            " * sqlite://\n",
            "Done.\n"
          ]
        },
        {
          "output_type": "display_data",
          "data": {
            "text/plain": [
              "<IPython.core.display.Markdown object>"
            ],
            "text/markdown": "<p>$\\Pi_{A,C}$(( R(A,B) ) $\\Join_{B}$ ( S(B,C) ))</p>"
          },
          "metadata": {}
        },
        {
          "output_type": "stream",
          "name": "stdout",
          "text": [
            "[(0, 0), (0, 2), (0, 4), (0, 6), (0, 8), (2, 0), (2, 2), (2, 4), (2, 6), (2, 8), (4, 0), (4, 2), (4, 4), (4, 6), (4, 8), (6, 0), (6, 2), (6, 4), (6, 6), (6, 8), (8, 0), (8, 2), (8, 4), (8, 6), (8, 8)]\n"
          ]
        }
      ],
      "source": [
        "# Transfering SQL statement to RA\n",
        "X = %sql SELECT DISTINCT R.A, S.C FROM R, S WHERE R.B = S.B;\n",
        "x = BaseRelation(X)\n",
        "\n",
        "# Indicating project and natural join operations\n",
        "y = Project(['A', 'C'], NJoin(R, S))\n",
        "render_markdown(y)\n",
        "\n",
        "# Printing results\n",
        "print(get_result(x))\n",
        "\n",
        "# Result sets are same"
      ]
    },
    {
      "cell_type": "markdown",
      "metadata": {
        "id": "CncCF_L0f0gZ"
      },
      "source": [
        "### Task 1.c (30 pts.)"
      ]
    },
    {
      "cell_type": "code",
      "execution_count": null,
      "metadata": {
        "colab": {
          "base_uri": "https://localhost:8080/",
          "height": 179
        },
        "id": "38OOpcL9f0gZ",
        "outputId": "b8708f4d-96fd-4f84-a0ab-aa7563cea277"
      },
      "outputs": [
        {
          "output_type": "stream",
          "name": "stdout",
          "text": [
            " * sqlite://\n",
            "Done.\n"
          ]
        },
        {
          "output_type": "execute_result",
          "data": {
            "text/plain": [
              "[(2, 0), (2, 2), (2, 4), (2, 6), (2, 8)]"
            ],
            "text/html": [
              "<table>\n",
              "    <thead>\n",
              "        <tr>\n",
              "            <th>A</th>\n",
              "            <th>D</th>\n",
              "        </tr>\n",
              "    </thead>\n",
              "    <tbody>\n",
              "        <tr>\n",
              "            <td>2</td>\n",
              "            <td>0</td>\n",
              "        </tr>\n",
              "        <tr>\n",
              "            <td>2</td>\n",
              "            <td>2</td>\n",
              "        </tr>\n",
              "        <tr>\n",
              "            <td>2</td>\n",
              "            <td>4</td>\n",
              "        </tr>\n",
              "        <tr>\n",
              "            <td>2</td>\n",
              "            <td>6</td>\n",
              "        </tr>\n",
              "        <tr>\n",
              "            <td>2</td>\n",
              "            <td>8</td>\n",
              "        </tr>\n",
              "    </tbody>\n",
              "</table>"
            ]
          },
          "metadata": {},
          "execution_count": 20
        }
      ],
      "source": [
        "%%sql\n",
        "SELECT DISTINCT R.A, T.D\n",
        "FROM R, S, T\n",
        "WHERE R.B = S.B AND S.C = T.C AND R.A = 2;"
      ]
    },
    {
      "cell_type": "code",
      "execution_count": null,
      "metadata": {
        "colab": {
          "base_uri": "https://localhost:8080/",
          "height": 103
        },
        "id": "DNF7xF3OAuxz",
        "outputId": "85f236c2-cd68-439e-f861-a8ab338a8db4"
      },
      "outputs": [
        {
          "output_type": "stream",
          "name": "stdout",
          "text": [
            " * sqlite://\n",
            "Done.\n"
          ]
        },
        {
          "output_type": "display_data",
          "data": {
            "text/plain": [
              "<IPython.core.display.Markdown object>"
            ],
            "text/markdown": "<p>$\\Pi_{A,D}$(( ( $\\sigma_{A=2}$(R(A,B)) ) $\\Join_{B}$ ( $\\sigma_{B=0}$(S(B,C)) ) ) $\\Join_{C}$ ( T(C,D) ))</p>"
          },
          "metadata": {}
        },
        {
          "output_type": "stream",
          "name": "stdout",
          "text": [
            "[(2, 0), (2, 2), (2, 4), (2, 6), (2, 8)]\n"
          ]
        }
      ],
      "source": [
        "# Transfering SQL statement to RA\n",
        "X = %sql SELECT DISTINCT R.A, T.D FROM R, S, T WHERE R.B = S.B AND S.C = T.C AND R.A = 2;\n",
        "x = BaseRelation(X)\n",
        "\n",
        "# Indicating project, natural join and select operations\n",
        "y = Project(['A','D'], NJoin(NJoin(Select('A', 2, R), Select('B', 0, S)), T))\n",
        "render_markdown(y)\n",
        "\n",
        "# Printing results\n",
        "print(get_result(x))\n",
        "\n",
        "# Result sets are same"
      ]
    },
    {
      "cell_type": "markdown",
      "metadata": {
        "id": "qt5gHf68f0gZ"
      },
      "source": [
        "### Task 2: RA -> SQL\n",
        "\n",
        "Let's go through some examples where we'll translate Relational Algebra to SQL- note you can use the tools to debug / test your answers!\n",
        "\n",
        "**NOTE: The instances we use are randomly generated- feel free to re-generate above to get more useful test examples!**"
      ]
    },
    {
      "cell_type": "markdown",
      "metadata": {
        "id": "VvI1dbaff0gZ"
      },
      "source": [
        "### Task 2.a"
      ]
    },
    {
      "cell_type": "code",
      "execution_count": null,
      "metadata": {
        "colab": {
          "base_uri": "https://localhost:8080/",
          "height": 68
        },
        "id": "pFN434rbf0gZ",
        "outputId": "2247eda5-627a-4377-c87b-b02ed9cf0a98"
      },
      "outputs": [
        {
          "output_type": "display_data",
          "data": {
            "text/plain": [
              "<IPython.core.display.Markdown object>"
            ],
            "text/markdown": "<p>$\\sigma_{B=0}$($\\Pi_{B}$(S(B,C)))</p>"
          },
          "metadata": {}
        },
        {
          "output_type": "stream",
          "name": "stdout",
          "text": [
            "[(0,)]\n"
          ]
        }
      ],
      "source": [
        "x = Select(\"B\", 0, Project([\"B\"], BaseRelation(s, name=\"S\")))\n",
        "render_markdown(x)\n",
        "print(get_result(x))"
      ]
    },
    {
      "cell_type": "code",
      "execution_count": null,
      "metadata": {
        "colab": {
          "base_uri": "https://localhost:8080/",
          "height": 95
        },
        "id": "xjGmrkJBAux0",
        "outputId": "5d2b842c-9706-48a7-ca05-0978e3dc8a04"
      },
      "outputs": [
        {
          "output_type": "stream",
          "name": "stdout",
          "text": [
            " * sqlite://\n",
            "Done.\n"
          ]
        },
        {
          "output_type": "execute_result",
          "data": {
            "text/plain": [
              "[(0,)]"
            ],
            "text/html": [
              "<table>\n",
              "    <thead>\n",
              "        <tr>\n",
              "            <th>B</th>\n",
              "        </tr>\n",
              "    </thead>\n",
              "    <tbody>\n",
              "        <tr>\n",
              "            <td>0</td>\n",
              "        </tr>\n",
              "    </tbody>\n",
              "</table>"
            ]
          },
          "metadata": {},
          "execution_count": 54
        }
      ],
      "source": [
        "# Result sets are same\n",
        "%%sql\n",
        "SELECT DISTINCT S.B\n",
        "FROM S\n",
        "WHERE S.B = 0;"
      ]
    },
    {
      "cell_type": "markdown",
      "metadata": {
        "id": "ny67bVhvf0ga"
      },
      "source": [
        "### Task 2.b (20 pts.)"
      ]
    },
    {
      "cell_type": "code",
      "execution_count": null,
      "metadata": {
        "colab": {
          "base_uri": "https://localhost:8080/",
          "height": 68
        },
        "id": "Y5k2QdUOf0ga",
        "outputId": "94d1be29-b454-4047-e0a6-59f714462a05"
      },
      "outputs": [
        {
          "output_type": "display_data",
          "data": {
            "text/plain": [
              "<IPython.core.display.Markdown object>"
            ],
            "text/markdown": "<p>$\\Pi_{A,C}$(( ( $\\sigma_{B=0}$(R(A,B)) ) $\\Join_{B}$ ( S(B,C) ) ) $\\Join_{C}$ ( $\\sigma_{C=0}$(T(C,D)) ))</p>"
          },
          "metadata": {}
        },
        {
          "output_type": "stream",
          "name": "stdout",
          "text": [
            "[(0, 0), (8, 0), (6, 0), (2, 0), (4, 0)]\n"
          ]
        }
      ],
      "source": [
        "x = Project([\"A\",\"C\"],NJoin(NJoin(Select(\"B\", 0, BaseRelation(r, name=\"R\")), BaseRelation(s, name=\"S\")),Select(\"C\", 0, BaseRelation(t, name=\"T\"))))\n",
        "render_markdown(x)\n",
        "print (get_result(x))"
      ]
    },
    {
      "cell_type": "code",
      "execution_count": null,
      "metadata": {
        "colab": {
          "base_uri": "https://localhost:8080/",
          "height": 179
        },
        "id": "y5u_ZipHAux0",
        "outputId": "d7d5383f-28e5-4f93-b99a-2554c0944d8d"
      },
      "outputs": [
        {
          "output_type": "stream",
          "name": "stdout",
          "text": [
            " * sqlite://\n",
            "Done.\n"
          ]
        },
        {
          "output_type": "execute_result",
          "data": {
            "text/plain": [
              "[(0, 0), (2, 0), (4, 0), (6, 0), (8, 0)]"
            ],
            "text/html": [
              "<table>\n",
              "    <thead>\n",
              "        <tr>\n",
              "            <th>A</th>\n",
              "            <th>C</th>\n",
              "        </tr>\n",
              "    </thead>\n",
              "    <tbody>\n",
              "        <tr>\n",
              "            <td>0</td>\n",
              "            <td>0</td>\n",
              "        </tr>\n",
              "        <tr>\n",
              "            <td>2</td>\n",
              "            <td>0</td>\n",
              "        </tr>\n",
              "        <tr>\n",
              "            <td>4</td>\n",
              "            <td>0</td>\n",
              "        </tr>\n",
              "        <tr>\n",
              "            <td>6</td>\n",
              "            <td>0</td>\n",
              "        </tr>\n",
              "        <tr>\n",
              "            <td>8</td>\n",
              "            <td>0</td>\n",
              "        </tr>\n",
              "    </tbody>\n",
              "</table>"
            ]
          },
          "metadata": {},
          "execution_count": 62
        }
      ],
      "source": [
        "# Results are same (but in order there are some differences)\n",
        "# Also impossible to get same order with using order by keyword\n",
        "%%sql\n",
        "SELECT DISTINCT R.A, T.C\n",
        "FROM R, S, T\n",
        "WHERE R.B = S.B AND S.C = T.C AND T.C = 0 AND R.B = 0;"
      ]
    },
    {
      "cell_type": "markdown",
      "metadata": {
        "id": "OajvemUIf0ga"
      },
      "source": [
        "### Task 2.c (30 pts. + 10 pts. bonus)\n",
        "\n",
        "Turn the below into SQL!  Optionally, turn it into an RA expression in our toolkit first!\n"
      ]
    },
    {
      "cell_type": "markdown",
      "metadata": {
        "id": "a2tnb9iLAux1"
      },
      "source": [
        "<img alt=\"\" src=\"data:image/png;base64,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\" />"
      ]
    },
    {
      "cell_type": "code",
      "execution_count": null,
      "metadata": {
        "id": "dmDLaFM9f0gb",
        "colab": {
          "base_uri": "https://localhost:8080/",
          "height": 270
        },
        "outputId": "0dd4a65b-3860-4c4e-8c9a-8044d065a139"
      },
      "outputs": [
        {
          "output_type": "stream",
          "name": "stdout",
          "text": [
            " * sqlite://\n",
            "1 rows affected.\n",
            "1 rows affected.\n",
            "1 rows affected.\n",
            "1 rows affected.\n",
            "Done.\n"
          ]
        },
        {
          "output_type": "execute_result",
          "data": {
            "text/plain": [
              "[(0,), (2,), (4,), (6,), (8,), (1,)]"
            ],
            "text/html": [
              "<table>\n",
              "    <thead>\n",
              "        <tr>\n",
              "            <th>A</th>\n",
              "        </tr>\n",
              "    </thead>\n",
              "    <tbody>\n",
              "        <tr>\n",
              "            <td>0</td>\n",
              "        </tr>\n",
              "        <tr>\n",
              "            <td>2</td>\n",
              "        </tr>\n",
              "        <tr>\n",
              "            <td>4</td>\n",
              "        </tr>\n",
              "        <tr>\n",
              "            <td>6</td>\n",
              "        </tr>\n",
              "        <tr>\n",
              "            <td>8</td>\n",
              "        </tr>\n",
              "        <tr>\n",
              "            <td>1</td>\n",
              "        </tr>\n",
              "    </tbody>\n",
              "</table>"
            ]
          },
          "metadata": {},
          "execution_count": 80
        }
      ],
      "source": [
        "# Normally it returns a empty set. Therefore i added these values:\n",
        "# In returned values D's are 3, E's are 1.\n",
        "%%sql\n",
        "INSERT INTO R VALUES (1,1);\n",
        "INSERT INTO S VALUES (1,2);\n",
        "INSERT INTO T VALUES (2,3);\n",
        "INSERT INTO U VALUES (3,1);\n",
        "SELECT DISTINCT R.A FROM R, S, T, U\n",
        "WHERE T.D = 3 AND S.C = T.C AND U.E = 1 AND U.D = T.D AND S.B = R.B;\n"
      ]
    },
    {
      "cell_type": "code",
      "execution_count": null,
      "metadata": {
        "id": "nox2IAyJf0gb",
        "colab": {
          "base_uri": "https://localhost:8080/",
          "height": 103
        },
        "outputId": "e1360b37-0a2e-4fcd-eee2-e732554fcbad"
      },
      "outputs": [
        {
          "output_type": "stream",
          "name": "stdout",
          "text": [
            " * sqlite://\n",
            "Done.\n"
          ]
        },
        {
          "output_type": "display_data",
          "data": {
            "text/plain": [
              "<IPython.core.display.Markdown object>"
            ],
            "text/markdown": "<p>$\\Pi_{A}$(( ( ( $\\sigma_{D=3}$(T(C,D)) ) $\\Join_{D}$ ( $\\sigma_{E=1}$(U(D,E)) ) ) $\\Join_{C}$ ( S(B,C) ) ) $\\Join_{B}$ ( R(A,B) ))</p>"
          },
          "metadata": {}
        },
        {
          "output_type": "stream",
          "name": "stdout",
          "text": [
            "[(0,), (2,), (4,), (6,), (8,), (1,)]\n"
          ]
        }
      ],
      "source": [
        "# Transfering SQL statement to RA\n",
        "X = %sql SELECT DISTINCT R.A FROM R, S, T, U WHERE T.D = 3 AND S.C = T.C AND U.E = 1 AND U.D = T.D AND S.B = R.B;\n",
        "x = BaseRelation(X)\n",
        "\n",
        "# Indicating project, natural join and select operations\n",
        "y = Project(['A'], NJoin(NJoin(NJoin(Select('D', 3, T), Select('E', 1, U)), S), R))\n",
        "render_markdown(y)\n",
        "\n",
        "# Printing results\n",
        "print(get_result(x))\n",
        "\n",
        "# Result sets are same"
      ]
    }
  ],
  "metadata": {
    "colab": {
      "provenance": []
    },
    "interpreter": {
      "hash": "e174c37c39c4595c42d02857920fafbaeeb1f018e64aa4c6c9ba77ef2a7a6e7b"
    },
    "kernelspec": {
      "display_name": "Python 3 (ipykernel)",
      "language": "python",
      "name": "python3"
    },
    "language_info": {
      "codemirror_mode": {
        "name": "ipython",
        "version": 3
      },
      "file_extension": ".py",
      "mimetype": "text/x-python",
      "name": "python",
      "nbconvert_exporter": "python",
      "pygments_lexer": "ipython3",
      "version": "3.10.0"
    }
  },
  "nbformat": 4,
  "nbformat_minor": 0
}