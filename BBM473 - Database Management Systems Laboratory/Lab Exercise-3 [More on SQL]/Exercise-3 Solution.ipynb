{
  "cells": [
    {
      "cell_type": "markdown",
      "metadata": {
        "id": "SZURG39PQHbo"
      },
      "source": [
        "**BBM473 Database Laboratory (Spring 2022)**\n",
        "\n",
        "\n",
        "Exercise 3: More on SQL\n",
        "-----\n",
        "\n",
        "Please run the below cells first before proceeding- you'll need them soon!"
      ]
    },
    {
      "cell_type": "code",
      "execution_count": null,
      "metadata": {
        "id": "aBnxRGnOQHbt",
        "colab": {
          "base_uri": "https://localhost:8080/",
          "height": 35
        },
        "outputId": "e6829a44-0ff2-46c5-c070-6e71fb290f36"
      },
      "outputs": [
        {
          "output_type": "execute_result",
          "data": {
            "application/vnd.google.colaboratory.intrinsic+json": {
              "type": "string"
            },
            "text/plain": [
              "'Connected: @None'"
            ]
          },
          "metadata": {},
          "execution_count": 1
        }
      ],
      "source": [
        "%load_ext sql\n",
        "%sql sqlite://"
      ]
    },
    {
      "cell_type": "code",
      "execution_count": null,
      "metadata": {
        "id": "cYa_YlUDQHbv",
        "colab": {
          "base_uri": "https://localhost:8080/"
        },
        "outputId": "6e24b906-3e62-40f8-e01c-d580945928e4"
      },
      "outputs": [
        {
          "output_type": "stream",
          "name": "stdout",
          "text": [
            " * sqlite://\n",
            "Done.\n",
            "Done.\n",
            "1 rows affected.\n",
            "1 rows affected.\n",
            "1 rows affected.\n"
          ]
        },
        {
          "output_type": "execute_result",
          "data": {
            "text/plain": [
              "[]"
            ]
          },
          "metadata": {},
          "execution_count": 2
        }
      ],
      "source": [
        "%%sql \n",
        "DROP TABLE IF EXISTS Movies;\n",
        "CREATE TABLE Movies(title VARCHAR(50), year INT, director VARCHAR(50), length INT);\n",
        "INSERT INTO Movies VALUES('Database Wars', 1967, 'John Joe', 123);\n",
        "INSERT INTO Movies VALUES('The Databaser', 1992, 'John Bob', 190);\n",
        "INSERT INTO Movies VALUES('Database Wars', 1998, 'John Jim', 176);"
      ]
    },
    {
      "cell_type": "code",
      "execution_count": null,
      "metadata": {
        "id": "3tYa4xNQQHbw",
        "colab": {
          "base_uri": "https://localhost:8080/"
        },
        "outputId": "2f078983-d998-469f-aebb-b0df9e5785e0"
      },
      "outputs": [
        {
          "output_type": "stream",
          "name": "stdout",
          "text": [
            " * sqlite://\n",
            "Done.\n",
            "Done.\n",
            " * sqlite://\n",
            "Done.\n",
            "Done.\n",
            " * sqlite://\n",
            "1 rows affected.\n",
            " * sqlite://\n",
            "1 rows affected.\n",
            " * sqlite://\n",
            "1 rows affected.\n",
            " * sqlite://\n",
            "1 rows affected.\n",
            " * sqlite://\n",
            "1 rows affected.\n",
            " * sqlite://\n",
            "1 rows affected.\n",
            " * sqlite://\n",
            "1 rows affected.\n",
            " * sqlite://\n",
            "1 rows affected.\n",
            " * sqlite://\n",
            "1 rows affected.\n"
          ]
        }
      ],
      "source": [
        "%sql DROP TABLE IF EXISTS A; DROP TABLE IF EXISTS B;\n",
        "%sql CREATE TABLE A (x int, y int); CREATE TABLE B (x int, y int);\n",
        "for i in range(1,6):\n",
        "    %sql INSERT INTO A VALUES (:i, :i+1)\n",
        "for i in range(1,11,3):\n",
        "    %sql INSERT INTO B VALUES (:i, :i+2)"
      ]
    },
    {
      "cell_type": "markdown",
      "metadata": {
        "id": "uB6bFxLcQHbx"
      },
      "source": [
        "Activity 3-1:\n",
        "------------\n",
        "\n",
        "ORDER BY semantics, set operators & nested queries"
      ]
    },
    {
      "cell_type": "code",
      "execution_count": null,
      "metadata": {
        "id": "9u-bFrj3QHb0",
        "colab": {
          "base_uri": "https://localhost:8080/",
          "height": 154
        },
        "outputId": "9683a54c-e777-4351-8b81-6e5b23004316"
      },
      "outputs": [
        {
          "output_type": "stream",
          "name": "stdout",
          "text": [
            "   sqlite://\n",
            " * sqlite:///dataset_1.db\n",
            "Done.\n"
          ]
        },
        {
          "output_type": "execute_result",
          "data": {
            "text/html": [
              "<table>\n",
              "    <thead>\n",
              "        <tr>\n",
              "            <th>title</th>\n",
              "            <th>year</th>\n",
              "            <th>director</th>\n",
              "            <th>length</th>\n",
              "        </tr>\n",
              "    </thead>\n",
              "    <tbody>\n",
              "        <tr>\n",
              "            <td>Database Wars</td>\n",
              "            <td>1967</td>\n",
              "            <td>John Joe</td>\n",
              "            <td>123</td>\n",
              "        </tr>\n",
              "        <tr>\n",
              "            <td>The Databaser</td>\n",
              "            <td>1992</td>\n",
              "            <td>John Bob</td>\n",
              "            <td>190</td>\n",
              "        </tr>\n",
              "        <tr>\n",
              "            <td>Database Wars</td>\n",
              "            <td>1998</td>\n",
              "            <td>John Jim</td>\n",
              "            <td>176</td>\n",
              "        </tr>\n",
              "    </tbody>\n",
              "</table>"
            ],
            "text/plain": [
              "[('Database Wars', 1967, 'John Joe', 123),\n",
              " ('The Databaser', 1992, 'John Bob', 190),\n",
              " ('Database Wars', 1998, 'John Jim', 176)]"
            ]
          },
          "metadata": {},
          "execution_count": 59
        }
      ],
      "source": [
        "%sql SELECT * FROM movies"
      ]
    },
    {
      "cell_type": "markdown",
      "metadata": {
        "id": "x34kd4sCQHb1"
      },
      "source": [
        "Task #1 (15 pts.)\n",
        "-----------\n",
        "\n",
        "**Can you write the movie query below as a single SFW query?**\n",
        "\n",
        "Recall that we are trying to find **all movie titles that were used for more than one movie.** You may assume that no two movies in the same year have the same title. Our schema for the `movies` table is:\n",
        "\n",
        "> * title STRING\n",
        "> * year INT\n",
        "> * director STRING\n",
        "> * length INT\n",
        "\n",
        "Let's try to write the nested query that solves this:"
      ]
    },
    {
      "cell_type": "code",
      "execution_count": null,
      "metadata": {
        "id": "CINY3i4LQHb1",
        "colab": {
          "base_uri": "https://localhost:8080/"
        },
        "outputId": "b3780703-8896-4edc-f99a-f830b3288fe2"
      },
      "outputs": [
        {
          "output_type": "stream",
          "name": "stdout",
          "text": [
            " * sqlite://\n",
            "(sqlite3.OperationalError) near \"SELECT\": syntax error\n",
            "[SQL: SELECT m.title \n",
            "FROM Movies m\n",
            "WHERE m.year <> ANY(SELECT year FROM Movies WHERE title = m.title);]\n",
            "(Background on this error at: https://sqlalche.me/e/14/e3q8)\n"
          ]
        }
      ],
      "source": [
        "%%sql\n",
        "SELECT m.title \n",
        "FROM Movies m\n",
        "WHERE m.year <> ANY(SELECT year FROM Movies WHERE title = m.title);"
      ]
    },
    {
      "cell_type": "markdown",
      "metadata": {
        "id": "Jnz-2kEUQHb2"
      },
      "source": [
        "**What**?  This doesn't work?  Why?\n",
        "\n",
        "**ANY doesn't exist in SQLite!**  Can we do this query without nesting?  Write your query here:"
      ]
    },
    {
      "cell_type": "code",
      "execution_count": null,
      "metadata": {
        "id": "NF24XGo4QHb2",
        "colab": {
          "base_uri": "https://localhost:8080/",
          "height": 154
        },
        "outputId": "d84c4d08-5a77-4cff-da3b-4fcd453a3700"
      },
      "outputs": [
        {
          "output_type": "stream",
          "name": "stdout",
          "text": [
            "   sqlite://\n",
            " * sqlite:///dataset_1.db\n",
            "Done.\n"
          ]
        },
        {
          "output_type": "execute_result",
          "data": {
            "text/html": [
              "<table>\n",
              "    <thead>\n",
              "        <tr>\n",
              "            <th>title</th>\n",
              "        </tr>\n",
              "    </thead>\n",
              "    <tbody>\n",
              "        <tr>\n",
              "            <td>Database Wars</td>\n",
              "        </tr>\n",
              "        <tr>\n",
              "            <td>The Databaser</td>\n",
              "        </tr>\n",
              "        <tr>\n",
              "            <td>Database Wars</td>\n",
              "        </tr>\n",
              "    </tbody>\n",
              "</table>"
            ],
            "text/plain": [
              "[('Database Wars',), ('The Databaser',), ('Database Wars',)]"
            ]
          },
          "metadata": {},
          "execution_count": 70
        }
      ],
      "source": [
        "%%sql\n",
        "-- Note: It works but it's still a nested query, so solution NOT COMPLETED\n",
        "SELECT m.title \n",
        "FROM Movies m\n",
        "WHERE m.year in (SELECT year FROM Movies WHERE title = m.title);"
      ]
    },
    {
      "cell_type": "markdown",
      "metadata": {
        "id": "RHJuIiS_QHb2"
      },
      "source": [
        "Task #2 (15 pts.)\n",
        "--------------------\n",
        "\n",
        "Consider the two relations $A$ and $B$ below:"
      ]
    },
    {
      "cell_type": "code",
      "execution_count": null,
      "metadata": {
        "id": "A5LxPhGEQHb3",
        "colab": {
          "base_uri": "https://localhost:8080/",
          "height": 179
        },
        "outputId": "692f8045-ae52-48f7-a03c-a4f641dcac3d"
      },
      "outputs": [
        {
          "output_type": "stream",
          "name": "stdout",
          "text": [
            " * sqlite://\n",
            "Done.\n"
          ]
        },
        {
          "output_type": "execute_result",
          "data": {
            "text/html": [
              "<table>\n",
              "    <thead>\n",
              "        <tr>\n",
              "            <th>x</th>\n",
              "            <th>y</th>\n",
              "        </tr>\n",
              "    </thead>\n",
              "    <tbody>\n",
              "        <tr>\n",
              "            <td>1</td>\n",
              "            <td>2</td>\n",
              "        </tr>\n",
              "        <tr>\n",
              "            <td>2</td>\n",
              "            <td>3</td>\n",
              "        </tr>\n",
              "        <tr>\n",
              "            <td>3</td>\n",
              "            <td>4</td>\n",
              "        </tr>\n",
              "        <tr>\n",
              "            <td>4</td>\n",
              "            <td>5</td>\n",
              "        </tr>\n",
              "        <tr>\n",
              "            <td>5</td>\n",
              "            <td>6</td>\n",
              "        </tr>\n",
              "    </tbody>\n",
              "</table>"
            ],
            "text/plain": [
              "[(1, 2), (2, 3), (3, 4), (4, 5), (5, 6)]"
            ]
          },
          "metadata": {},
          "execution_count": 8
        }
      ],
      "source": [
        "%sql SELECT * FROM A;"
      ]
    },
    {
      "cell_type": "code",
      "execution_count": null,
      "metadata": {
        "id": "dueUNwOeQHb3",
        "colab": {
          "base_uri": "https://localhost:8080/",
          "height": 158
        },
        "outputId": "3ca6e7b2-eb04-48b0-fbd9-d95a8cca1d2e"
      },
      "outputs": [
        {
          "output_type": "stream",
          "name": "stdout",
          "text": [
            " * sqlite://\n",
            "Done.\n"
          ]
        },
        {
          "output_type": "execute_result",
          "data": {
            "text/html": [
              "<table>\n",
              "    <thead>\n",
              "        <tr>\n",
              "            <th>x</th>\n",
              "            <th>y</th>\n",
              "        </tr>\n",
              "    </thead>\n",
              "    <tbody>\n",
              "        <tr>\n",
              "            <td>1</td>\n",
              "            <td>3</td>\n",
              "        </tr>\n",
              "        <tr>\n",
              "            <td>4</td>\n",
              "            <td>6</td>\n",
              "        </tr>\n",
              "        <tr>\n",
              "            <td>7</td>\n",
              "            <td>9</td>\n",
              "        </tr>\n",
              "        <tr>\n",
              "            <td>10</td>\n",
              "            <td>12</td>\n",
              "        </tr>\n",
              "    </tbody>\n",
              "</table>"
            ],
            "text/plain": [
              "[(1, 3), (4, 6), (7, 9), (10, 12)]"
            ]
          },
          "metadata": {},
          "execution_count": 9
        }
      ],
      "source": [
        "%sql SELECT * FROM B;"
      ]
    },
    {
      "cell_type": "markdown",
      "metadata": {
        "id": "J8Jr1EovQHb4"
      },
      "source": [
        "Assuming no duplicates, can you write an `INTERSECT` query, **just over the $x$ attribute**, without using `INTERSECT` OR nested queries?  Write your query here:"
      ]
    },
    {
      "cell_type": "code",
      "execution_count": null,
      "metadata": {
        "id": "Mkx2iMT9QHb4",
        "colab": {
          "base_uri": "https://localhost:8080/",
          "height": 116
        },
        "outputId": "5bda9661-deb5-4a72-eb7a-126b8ed982f7"
      },
      "outputs": [
        {
          "output_type": "stream",
          "name": "stdout",
          "text": [
            " * sqlite://\n",
            "Done.\n"
          ]
        },
        {
          "output_type": "execute_result",
          "data": {
            "text/html": [
              "<table>\n",
              "    <thead>\n",
              "        <tr>\n",
              "            <th>x</th>\n",
              "            <th>y_of_a</th>\n",
              "            <th>y_of_b</th>\n",
              "        </tr>\n",
              "    </thead>\n",
              "    <tbody>\n",
              "        <tr>\n",
              "            <td>1</td>\n",
              "            <td>2</td>\n",
              "            <td>3</td>\n",
              "        </tr>\n",
              "        <tr>\n",
              "            <td>4</td>\n",
              "            <td>5</td>\n",
              "            <td>6</td>\n",
              "        </tr>\n",
              "    </tbody>\n",
              "</table>"
            ],
            "text/plain": [
              "[(1, 2, 3), (4, 5, 6)]"
            ]
          },
          "metadata": {},
          "execution_count": 40
        }
      ],
      "source": [
        "%%sql\n",
        "SELECT A.x as \"x\", A.y as \"y_of_a\", B.y as \"y_of_b\" FROM A JOIN B\n",
        "ON A.x = B.x"
      ]
    },
    {
      "cell_type": "markdown",
      "metadata": {
        "id": "bSxZp-31QHb4"
      },
      "source": [
        "What is this operation called?\n",
        "\n",
        "Next, using set operators again as well, can you return all the _full_ tuples in $A$ and $B$ that overlap in $x$ attributes?  Write your query here:"
      ]
    },
    {
      "cell_type": "code",
      "execution_count": null,
      "metadata": {
        "id": "PzoxxmjtQHb4",
        "colab": {
          "base_uri": "https://localhost:8080/"
        },
        "outputId": "d627c361-2f71-415d-cfb4-4f037a1e754b"
      },
      "outputs": [
        {
          "output_type": "stream",
          "name": "stdout",
          "text": [
            " * sqlite://\n",
            "(sqlite3.OperationalError) SELECTs to the left and right of INTERSECT do not have the same number of result columns\n",
            "[SQL: SELECT x, A.y FROM A INTERSECT SELECT x FROM B]\n",
            "(Background on this error at: https://sqlalche.me/e/14/e3q8)\n"
          ]
        }
      ],
      "source": [
        "%%sql\n",
        "SELECT x FROM A INTERSECT SELECT x FROM B\n",
        "-- Note: Not all tuples returned, so solution NOT COMPLETED"
      ]
    },
    {
      "cell_type": "markdown",
      "metadata": {
        "id": "TBj24jIQQHb4"
      },
      "source": [
        "Execute the code below:"
      ]
    },
    {
      "cell_type": "code",
      "execution_count": null,
      "metadata": {
        "id": "nM7MoK2-QHb5",
        "colab": {
          "base_uri": "https://localhost:8080/",
          "height": 35
        },
        "outputId": "4fd95d1f-4d86-4980-b770-9e6e10219817"
      },
      "outputs": [
        {
          "output_type": "execute_result",
          "data": {
            "application/vnd.google.colaboratory.intrinsic+json": {
              "type": "string"
            },
            "text/plain": [
              "'Connected: @dataset_1.db'"
            ]
          },
          "metadata": {},
          "execution_count": 50
        }
      ],
      "source": [
        "%sql sqlite:///dataset_1.db"
      ]
    },
    {
      "cell_type": "markdown",
      "metadata": {
        "id": "eX1TBs8lQHb5"
      },
      "source": [
        "Activity 3-2\n",
        "------------\n",
        "Aggregation operators, GROUP BY"
      ]
    },
    {
      "cell_type": "markdown",
      "metadata": {
        "id": "1-bHZlAPQHb5"
      },
      "source": [
        "Task #1 (20 pts.)\n",
        "-----------\n",
        "\n",
        "Consider a set of tables that describe the up-and-coming bagel startup industry; for now let's just look at two tables here, `bagel`, which describes types of bagels made by the different bagel companies:\n",
        "> * name STRING\n",
        "> * price FLOAT\n",
        "> * made_by STRING\n",
        "\n",
        "And `purchase`:\n",
        "> * bagel_name STRING\n",
        "> * franchise STRING\n",
        "> * date INT\n",
        "> * quantity INT\n",
        "> * purchaser_age INT\n",
        "\n",
        "Where `purchase.bagel_name` references `bagel.name` and `purchase.franchise` references `bagel.made_by`:"
      ]
    },
    {
      "cell_type": "code",
      "execution_count": null,
      "metadata": {
        "id": "xW73d3qOQHb6",
        "colab": {
          "base_uri": "https://localhost:8080/",
          "height": 154
        },
        "outputId": "c474aa5a-6cd1-47df-d1a6-8f4e5754df34"
      },
      "outputs": [
        {
          "output_type": "stream",
          "name": "stdout",
          "text": [
            "   sqlite://\n",
            " * sqlite:///dataset_1.db\n",
            "Done.\n"
          ]
        },
        {
          "output_type": "execute_result",
          "data": {
            "text/html": [
              "<table>\n",
              "    <thead>\n",
              "        <tr>\n",
              "            <th>name</th>\n",
              "            <th>price</th>\n",
              "            <th>made_by</th>\n",
              "        </tr>\n",
              "    </thead>\n",
              "    <tbody>\n",
              "        <tr>\n",
              "            <td>Plain with shmear</td>\n",
              "            <td>1.99</td>\n",
              "            <td>Bobs Bagels</td>\n",
              "        </tr>\n",
              "        <tr>\n",
              "            <td>Egg with shmear</td>\n",
              "            <td>2.39</td>\n",
              "            <td>Bobs Bagels</td>\n",
              "        </tr>\n",
              "        <tr>\n",
              "            <td>eBagel Drinkable Bagel</td>\n",
              "            <td>27.99</td>\n",
              "            <td>eBagel</td>\n",
              "        </tr>\n",
              "    </tbody>\n",
              "</table>"
            ],
            "text/plain": [
              "[('Plain with shmear', 1.99, 'Bobs Bagels'),\n",
              " ('Egg with shmear', 2.39, 'Bobs Bagels'),\n",
              " ('eBagel Drinkable Bagel', 27.99, 'eBagel')]"
            ]
          },
          "metadata": {},
          "execution_count": 71
        }
      ],
      "source": [
        "%sql SELECT * FROM bagel LIMIT 3;"
      ]
    },
    {
      "cell_type": "code",
      "execution_count": null,
      "metadata": {
        "colab": {
          "base_uri": "https://localhost:8080/",
          "height": 154
        },
        "id": "haKx0b-NQHb6",
        "outputId": "04198a49-c9df-46b4-afa0-d0cf5ecedb09"
      },
      "outputs": [
        {
          "output_type": "stream",
          "name": "stdout",
          "text": [
            "   sqlite://\n",
            " * sqlite:///dataset_1.db\n",
            "Done.\n"
          ]
        },
        {
          "output_type": "execute_result",
          "data": {
            "text/html": [
              "<table>\n",
              "    <thead>\n",
              "        <tr>\n",
              "            <th>bagel_name</th>\n",
              "            <th>franchise</th>\n",
              "            <th>date</th>\n",
              "            <th>quantity</th>\n",
              "            <th>purchaser_age</th>\n",
              "        </tr>\n",
              "    </thead>\n",
              "    <tbody>\n",
              "        <tr>\n",
              "            <td>Plain with shmear</td>\n",
              "            <td>Bobs Bagels</td>\n",
              "            <td>1</td>\n",
              "            <td>12</td>\n",
              "            <td>28</td>\n",
              "        </tr>\n",
              "        <tr>\n",
              "            <td>Egg with shmear</td>\n",
              "            <td>Bobs Bagels</td>\n",
              "            <td>2</td>\n",
              "            <td>6</td>\n",
              "            <td>47</td>\n",
              "        </tr>\n",
              "        <tr>\n",
              "            <td>Plain with shmear</td>\n",
              "            <td>BAGEL CORP</td>\n",
              "            <td>2</td>\n",
              "            <td>12</td>\n",
              "            <td>24</td>\n",
              "        </tr>\n",
              "    </tbody>\n",
              "</table>"
            ],
            "text/plain": [
              "[('Plain with shmear', 'Bobs Bagels', 1, 12, 28),\n",
              " ('Egg with shmear', 'Bobs Bagels', 2, 6, 47),\n",
              " ('Plain with shmear', 'BAGEL CORP', 2, 12, 24)]"
            ]
          },
          "metadata": {},
          "execution_count": 72
        }
      ],
      "source": [
        "%sql SELECT * FROM purchase LIMIT 3;"
      ]
    },
    {
      "cell_type": "markdown",
      "metadata": {
        "id": "C2am6p9eQHb6"
      },
      "source": [
        "Can you write a query to get the _total revenue_ for each bagel type **which had an average purchaser age over 18**?  Type your query below:"
      ]
    },
    {
      "cell_type": "code",
      "execution_count": null,
      "metadata": {
        "id": "oT1eK_YrQHb6",
        "colab": {
          "base_uri": "https://localhost:8080/",
          "height": 134
        },
        "outputId": "f2383d77-350a-429a-beca-70955a212dba"
      },
      "outputs": [
        {
          "output_type": "stream",
          "name": "stdout",
          "text": [
            "   sqlite://\n",
            " * sqlite:///dataset_1.db\n",
            "Done.\n"
          ]
        },
        {
          "output_type": "execute_result",
          "data": {
            "text/html": [
              "<table>\n",
              "    <thead>\n",
              "        <tr>\n",
              "            <th>total_revenue</th>\n",
              "            <th>name</th>\n",
              "            <th>avg_age</th>\n",
              "        </tr>\n",
              "    </thead>\n",
              "    <tbody>\n",
              "        <tr>\n",
              "            <td>14.34</td>\n",
              "            <td>Egg with shmear</td>\n",
              "            <td>47.0</td>\n",
              "        </tr>\n",
              "        <tr>\n",
              "            <td>23.759999999999998</td>\n",
              "            <td>Plain with shmear</td>\n",
              "            <td>23.0</td>\n",
              "        </tr>\n",
              "    </tbody>\n",
              "</table>"
            ],
            "text/plain": [
              "[(14.34, 'Egg with shmear', 47.0),\n",
              " (23.759999999999998, 'Plain with shmear', 23.0)]"
            ]
          },
          "metadata": {},
          "execution_count": 73
        }
      ],
      "source": [
        "%%sql\n",
        "-- Missing values in the database, may cause problems there\n",
        "SELECT (quantity*price) as \"total_revenue\", name as \"name\", AVG(purchaser_age) as \"avg_age\" FROM bagel JOIN purchase\n",
        "ON bagel.name = purchase.bagel_name\n",
        "GROUP BY name\n",
        "HAVING AVG(purchaser_age) > 18"
      ]
    },
    {
      "cell_type": "markdown",
      "metadata": {
        "id": "fXVkVKclQHb7"
      },
      "source": [
        "Task #2 (20 pts.)\n",
        "-----------\n",
        "\n",
        "Here we'll use a simplified version of the `precipitation_full` table, which just has _daily_ rainfall _in CA only_, and has the following schema:\n",
        "\n",
        "> * station_id\n",
        "> * day\n",
        "> * precipitation"
      ]
    },
    {
      "cell_type": "code",
      "execution_count": null,
      "metadata": {
        "id": "w35Rp4eKQHb7",
        "colab": {
          "base_uri": "https://localhost:8080/",
          "height": 196
        },
        "outputId": "abb0276f-b2d7-4ecc-a68f-696802fbe93d"
      },
      "outputs": [
        {
          "output_type": "stream",
          "name": "stdout",
          "text": [
            "   sqlite://\n",
            " * sqlite:///dataset_1.db\n",
            "Done.\n"
          ]
        },
        {
          "output_type": "execute_result",
          "data": {
            "text/html": [
              "<table>\n",
              "    <thead>\n",
              "        <tr>\n",
              "            <th>station_id</th>\n",
              "            <th>day</th>\n",
              "            <th>precipitation</th>\n",
              "        </tr>\n",
              "    </thead>\n",
              "    <tbody>\n",
              "        <tr>\n",
              "            <td>16102</td>\n",
              "            <td>1</td>\n",
              "            <td>10</td>\n",
              "        </tr>\n",
              "        <tr>\n",
              "            <td>16102</td>\n",
              "            <td>4</td>\n",
              "            <td>10</td>\n",
              "        </tr>\n",
              "        <tr>\n",
              "            <td>16102</td>\n",
              "            <td>24</td>\n",
              "            <td>30</td>\n",
              "        </tr>\n",
              "        <tr>\n",
              "            <td>21201</td>\n",
              "            <td>1</td>\n",
              "            <td>0</td>\n",
              "        </tr>\n",
              "        <tr>\n",
              "            <td>21201</td>\n",
              "            <td>20</td>\n",
              "            <td>10</td>\n",
              "        </tr>\n",
              "    </tbody>\n",
              "</table>"
            ],
            "text/plain": [
              "[(16102, 1, 10),\n",
              " (16102, 4, 10),\n",
              " (16102, 24, 30),\n",
              " (21201, 1, 0),\n",
              " (21201, 20, 10)]"
            ]
          },
          "metadata": {},
          "execution_count": 74
        }
      ],
      "source": [
        "%sql SELECT * FROM precipitation LIMIT 5;"
      ]
    },
    {
      "cell_type": "markdown",
      "metadata": {
        "id": "nkY_k1gKQHb7"
      },
      "source": [
        "We want to get station_ids which have average precipitations > 75.  Try doing this first as a nested query:"
      ]
    },
    {
      "cell_type": "code",
      "execution_count": null,
      "metadata": {
        "id": "mD3RfcJIQHb8",
        "colab": {
          "base_uri": "https://localhost:8080/",
          "height": 196
        },
        "outputId": "fd2614de-5e5d-4311-a9b9-68cd1f0c7471"
      },
      "outputs": [
        {
          "output_type": "stream",
          "name": "stdout",
          "text": [
            "   sqlite://\n",
            " * sqlite:///dataset_1.db\n",
            "Done.\n"
          ]
        },
        {
          "output_type": "execute_result",
          "data": {
            "text/html": [
              "<table>\n",
              "    <thead>\n",
              "        <tr>\n",
              "            <th>station_id</th>\n",
              "        </tr>\n",
              "    </thead>\n",
              "    <tbody>\n",
              "        <tr>\n",
              "            <td>88302</td>\n",
              "        </tr>\n",
              "        <tr>\n",
              "            <td>250002</td>\n",
              "        </tr>\n",
              "        <tr>\n",
              "            <td>335701</td>\n",
              "        </tr>\n",
              "        <tr>\n",
              "            <td>357302</td>\n",
              "        </tr>\n",
              "        <tr>\n",
              "            <td>488301</td>\n",
              "        </tr>\n",
              "    </tbody>\n",
              "</table>"
            ],
            "text/plain": [
              "[(88302,), (250002,), (335701,), (357302,), (488301,)]"
            ]
          },
          "metadata": {},
          "execution_count": 75
        }
      ],
      "source": [
        "%%sql \n",
        "SELECT DISTINCT p.station_id FROM precipitation p \n",
        "WHERE (\n",
        "  SELECT AVG(precipitation) FROM precipitation WHERE station_id = p.station_id\n",
        ") > 75;"
      ]
    },
    {
      "cell_type": "markdown",
      "metadata": {
        "id": "PQly5cEzQHb8"
      },
      "source": [
        "Now, try re-writing as a GROUP BY:"
      ]
    },
    {
      "cell_type": "code",
      "execution_count": null,
      "metadata": {
        "id": "HmrLaJDyQHb8",
        "colab": {
          "base_uri": "https://localhost:8080/",
          "height": 196
        },
        "outputId": "323d71b4-c0ea-4e04-826c-6f17ea10f23f"
      },
      "outputs": [
        {
          "output_type": "stream",
          "name": "stdout",
          "text": [
            "   sqlite://\n",
            " * sqlite:///dataset_1.db\n",
            "Done.\n"
          ]
        },
        {
          "output_type": "execute_result",
          "data": {
            "text/html": [
              "<table>\n",
              "    <thead>\n",
              "        <tr>\n",
              "            <th>station_id</th>\n",
              "        </tr>\n",
              "    </thead>\n",
              "    <tbody>\n",
              "        <tr>\n",
              "            <td>88302</td>\n",
              "        </tr>\n",
              "        <tr>\n",
              "            <td>250002</td>\n",
              "        </tr>\n",
              "        <tr>\n",
              "            <td>335701</td>\n",
              "        </tr>\n",
              "        <tr>\n",
              "            <td>357302</td>\n",
              "        </tr>\n",
              "        <tr>\n",
              "            <td>488301</td>\n",
              "        </tr>\n",
              "    </tbody>\n",
              "</table>"
            ],
            "text/plain": [
              "[(88302,), (250002,), (335701,), (357302,), (488301,)]"
            ]
          },
          "metadata": {},
          "execution_count": 76
        }
      ],
      "source": [
        "%%sql \n",
        "SELECT station_id FROM precipitation\n",
        "GROUP BY station_id\n",
        "HAVING AVG(precipitation)>75\n"
      ]
    },
    {
      "cell_type": "markdown",
      "metadata": {
        "id": "WLfPV8l5QHb8"
      },
      "source": [
        "Now time it by using `%time` followed by single-line versions of your queries above (clunky, but will work) to see how they compare!\n",
        "\n",
        "**Note:** Yes, currently the answers are filled in below for convenience... but you should still try getting them on your own above!"
      ]
    },
    {
      "cell_type": "code",
      "execution_count": null,
      "metadata": {
        "id": "mFQyuspPQHb8",
        "colab": {
          "base_uri": "https://localhost:8080/",
          "height": 231
        },
        "outputId": "abdd4356-1654-4646-ee6b-ee20c068f2f0"
      },
      "outputs": [
        {
          "output_type": "stream",
          "name": "stdout",
          "text": [
            "   sqlite://\n",
            " * sqlite:///dataset_1.db\n",
            "Done.\n",
            "CPU times: user 25.5 ms, sys: 0 ns, total: 25.5 ms\n",
            "Wall time: 24.9 ms\n"
          ]
        },
        {
          "output_type": "execute_result",
          "data": {
            "text/html": [
              "<table>\n",
              "    <thead>\n",
              "        <tr>\n",
              "            <th>station_id</th>\n",
              "        </tr>\n",
              "    </thead>\n",
              "    <tbody>\n",
              "        <tr>\n",
              "            <td>88302</td>\n",
              "        </tr>\n",
              "        <tr>\n",
              "            <td>250002</td>\n",
              "        </tr>\n",
              "        <tr>\n",
              "            <td>335701</td>\n",
              "        </tr>\n",
              "        <tr>\n",
              "            <td>357302</td>\n",
              "        </tr>\n",
              "        <tr>\n",
              "            <td>488301</td>\n",
              "        </tr>\n",
              "    </tbody>\n",
              "</table>"
            ],
            "text/plain": [
              "[(88302,), (250002,), (335701,), (357302,), (488301,)]"
            ]
          },
          "metadata": {},
          "execution_count": 77
        }
      ],
      "source": [
        "%%time \n",
        "%%sql \n",
        "SELECT DISTINCT p.station_id \n",
        "FROM precipitation p \n",
        "WHERE (SELECT AVG(precipitation) FROM precipitation WHERE station_id = p.station_id) > 75;"
      ]
    },
    {
      "cell_type": "code",
      "execution_count": null,
      "metadata": {
        "id": "yHZU9m1dQHb8",
        "colab": {
          "base_uri": "https://localhost:8080/",
          "height": 231
        },
        "outputId": "bd01a047-55b9-4dd8-eecb-25eec23cd7c2"
      },
      "outputs": [
        {
          "output_type": "stream",
          "name": "stdout",
          "text": [
            "   sqlite://\n",
            " * sqlite:///dataset_1.db\n",
            "Done.\n",
            "CPU times: user 4.49 ms, sys: 0 ns, total: 4.49 ms\n",
            "Wall time: 4.56 ms\n"
          ]
        },
        {
          "output_type": "execute_result",
          "data": {
            "text/html": [
              "<table>\n",
              "    <thead>\n",
              "        <tr>\n",
              "            <th>station_id</th>\n",
              "        </tr>\n",
              "    </thead>\n",
              "    <tbody>\n",
              "        <tr>\n",
              "            <td>88302</td>\n",
              "        </tr>\n",
              "        <tr>\n",
              "            <td>250002</td>\n",
              "        </tr>\n",
              "        <tr>\n",
              "            <td>335701</td>\n",
              "        </tr>\n",
              "        <tr>\n",
              "            <td>357302</td>\n",
              "        </tr>\n",
              "        <tr>\n",
              "            <td>488301</td>\n",
              "        </tr>\n",
              "    </tbody>\n",
              "</table>"
            ],
            "text/plain": [
              "[(88302,), (250002,), (335701,), (357302,), (488301,)]"
            ]
          },
          "metadata": {},
          "execution_count": 78
        }
      ],
      "source": [
        "%time %sql SELECT p.station_id FROM precipitation p GROUP BY p.station_id HAVING AVG(p.precipitation) > 75;"
      ]
    },
    {
      "cell_type": "markdown",
      "metadata": {
        "id": "ZpNAfaNOQHb8"
      },
      "source": [
        "**An ~ 10-20x difference in execution time!!**"
      ]
    },
    {
      "cell_type": "markdown",
      "metadata": {
        "id": "nK17rZBzQHb9"
      },
      "source": [
        "Activity 3-3\n",
        "------------\n",
        "Quantifiers, NULLs, and Outer Joins"
      ]
    },
    {
      "cell_type": "markdown",
      "metadata": {
        "collapsed": true,
        "id": "riDfv-mbQHb9"
      },
      "source": [
        "Task #1 (40 pts.)\n",
        "-----------\n",
        "\n",
        "Recall that the tables we just looked at:\n",
        "\n",
        "`bagel`, which describes types of bagels made by the different bagel companies:\n",
        "> * name STRING\n",
        "> * price FLOAT\n",
        "> * made_by STRING\n",
        "\n",
        "And `purchase`:\n",
        "> * bagel_name STRING\n",
        "> * franchise STRING\n",
        "> * date INT\n",
        "> * quantity INT\n",
        "> * purchaser_age INT\n",
        "\n",
        "Where `purchase.bagel_name` references `bagel.name` and `purchase.franchise` references `bagel.made_by`.\n",
        "\n",
        "**Can you find out if there were any purchases of products not on one of the company's official lists (i.e. the `bagel` table), using a single SQL query?**\n",
        "\n",
        "Write your query here:"
      ]
    },
    {
      "cell_type": "code",
      "execution_count": null,
      "metadata": {
        "id": "ZhiYYnNlQHb9",
        "colab": {
          "base_uri": "https://localhost:8080/",
          "height": 113
        },
        "outputId": "2e50f432-1639-486b-fe80-fa297517ac4b"
      },
      "outputs": [
        {
          "output_type": "stream",
          "name": "stdout",
          "text": [
            "   sqlite://\n",
            " * sqlite:///dataset_1.db\n",
            "Done.\n"
          ]
        },
        {
          "output_type": "execute_result",
          "data": {
            "text/html": [
              "<table>\n",
              "    <thead>\n",
              "        <tr>\n",
              "            <th>bagel_name</th>\n",
              "            <th>franchise</th>\n",
              "            <th>date</th>\n",
              "            <th>quantity</th>\n",
              "            <th>purchaser_age</th>\n",
              "        </tr>\n",
              "    </thead>\n",
              "    <tbody>\n",
              "        <tr>\n",
              "            <td>Moonshine</td>\n",
              "            <td>BAGEL CORP</td>\n",
              "            <td>7</td>\n",
              "            <td>1000</td>\n",
              "            <td>37</td>\n",
              "        </tr>\n",
              "    </tbody>\n",
              "</table>"
            ],
            "text/plain": [
              "[('Moonshine', 'BAGEL CORP', 7, 1000, 37)]"
            ]
          },
          "metadata": {},
          "execution_count": 79
        }
      ],
      "source": [
        "%%sql\n",
        "SELECT bagel_name, franchise, date, quantity, purchaser_age\n",
        "FROM purchase p LEFT OUTER JOIN bagel b\n",
        "ON b.name = p.bagel_name AND b.made_by = p.franchise\n",
        "WHERE b.name IS NULL;"
      ]
    }
  ],
  "metadata": {
    "colab": {
      "provenance": []
    },
    "kernelspec": {
      "display_name": "Python 3 (ipykernel)",
      "language": "python",
      "name": "python3"
    },
    "language_info": {
      "codemirror_mode": {
        "name": "ipython",
        "version": 3
      },
      "file_extension": ".py",
      "mimetype": "text/x-python",
      "name": "python",
      "nbconvert_exporter": "python",
      "pygments_lexer": "ipython3",
      "version": "3.7.11"
    }
  },
  "nbformat": 4,
  "nbformat_minor": 0
}