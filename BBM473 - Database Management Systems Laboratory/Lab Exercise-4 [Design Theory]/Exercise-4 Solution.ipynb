{
  "cells": [
    {
      "cell_type": "markdown",
      "metadata": {
        "id": "Eo8-f9FB0WD7"
      },
      "source": [
        "Exercise 4: Design Theory\n",
        "------------\n",
        "\n"
      ]
    },
    {
      "cell_type": "markdown",
      "metadata": {
        "id": "H-u0P57m0WD-"
      },
      "source": [
        "## Activity 4.1: FDs & Closures\n",
        "------\n",
        "\n",
        "Recall that given a set of attributes  $\\{A_1, \\dots, A_n\\}$ and a set of FDs $\\Gamma$\n",
        "\n",
        "The closure, denoted $\\{A_1, \\dots, A_n\\}^+$, is defined to be the largest set of attributes B s.t. $$A_1,\\dots,A_n \\rightarrow B \\text{ using } \\Gamma.$$\n",
        "\n",
        "We've built some functions to compute the closure of a set of attributes and other such operations (_feel free to look at the code- it's pretty simple and clean, if we say so ourselves..._):"
      ]
    },
    {
      "cell_type": "code",
      "execution_count": null,
      "metadata": {
        "id": "uCC7djPP0WD_"
      },
      "outputs": [],
      "source": [
        "from closure import compute_closure"
      ]
    },
    {
      "cell_type": "markdown",
      "metadata": {
        "id": "Zl42ofIA0WEA"
      },
      "source": [
        "### Task 1 (25 pts)\n",
        "\n",
        "Consider a schema with attributes $X=\\{A,B,C,D,E,F,G,H\\}$.\n",
        "\n",
        "In this exercise, you are given a set of attributes $A\\subset X$ and a set of FDs $F$.  Find **one FD** to add to $F$ so that the closure $A^+=X$\n",
        "\n",
        "**Note: you can add FDs to the below set $F$ using e.g. `F.append((set([...]), set([...])))` and then check how you're doing using the `compute_closure` function from above!**\n",
        "\n",
        "(As we'll find out immediately after this activity, this equivalent to saying: _Find one FD to add such that $A$ becomes a superkey for $X$_)"
      ]
    },
    {
      "cell_type": "code",
      "execution_count": null,
      "metadata": {
        "id": "FScSNgnb0WEA"
      },
      "outputs": [],
      "source": [
        "A = set(['A', 'B','F'])\n",
        "F = [(set(['A', 'C']), 'D'),\n",
        "     (set(['D','H', 'G']), 'E'),\n",
        "     (set(['A', 'B']), 'G'),\n",
        "     (set(['F', 'B', 'G']), 'C')]"
      ]
    },
    {
      "cell_type": "code",
      "execution_count": null,
      "metadata": {
        "colab": {
          "base_uri": "https://localhost:8080/"
        },
        "id": "tpQ_MKef0WEA",
        "outputId": "2081ddc2-a26b-40dc-9ce2-8e7dc66b5d4b"
      },
      "outputs": [
        {
          "output_type": "execute_result",
          "data": {
            "text/plain": [
              "{'A', 'B', 'C', 'D', 'F', 'G'}"
            ]
          },
          "metadata": {},
          "execution_count": 81
        }
      ],
      "source": [
        "compute_closure(A,F)"
      ]
    },
    {
      "cell_type": "code",
      "execution_count": null,
      "metadata": {
        "id": "GTW5zFcO0WEB",
        "colab": {
          "base_uri": "https://localhost:8080/"
        },
        "outputId": "136409cc-cd70-4fa5-aa26-919b47516eef"
      },
      "outputs": [
        {
          "output_type": "execute_result",
          "data": {
            "text/plain": [
              "{'A', 'B', 'C', 'D', 'E', 'F', 'G', 'H'}"
            ]
          },
          "metadata": {},
          "execution_count": 113
        }
      ],
      "source": [
        "F.append((set(['A']),'H'))\n",
        "compute_closure(A, F)\n",
        "# Explanation:\n",
        "# At the first, we can't reach E and H.\n",
        "# With the rule which we add, we can reach H.\n",
        "# Also with using (set(['D','H', 'G']), 'E') dependency, we can reach E since we reached H with our new dependency.\n",
        "# So, we can reach all of these there and A becomes superkey of X with that simple functional dependency."
      ]
    },
    {
      "cell_type": "markdown",
      "metadata": {
        "id": "07CLWUBA0WEB"
      },
      "source": [
        "## Activitity 4.2: Superkeys & Keys\n",
        "\n",
        "Next, we'll add some new functions now for finding superkeys and keys.  Recall:\n",
        "* A _superkey_ for a relation $R(B_1,\\dots,B_m)$ is a set of attributes $\\{A_1,\\dots,A_n\\}$ s.t.\n",
        "$$ \\{A_1,\\dots,A_n\\} \\rightarrow B_{j} \\text{ for all } j=1,\\dots m$$\n",
        "* A _key_ is a minimal (setwise) _superkey_\n",
        "\n",
        "The algorithm to determine if a set of attributes $A$ is a superkey for $X$ is actually very simple- we just see if the $A^+=X$:"
      ]
    },
    {
      "cell_type": "code",
      "execution_count": null,
      "metadata": {
        "id": "VJCAbqXi0WEC"
      },
      "outputs": [],
      "source": [
        "def is_superkey_for(A, X, fds, verbose=False): \n",
        "    return X.issubset(compute_closure(A, fds, verbose=verbose))"
      ]
    },
    {
      "cell_type": "markdown",
      "metadata": {
        "id": "9bdDJia40WEC"
      },
      "source": [
        "Then, to check if $A$ is a key for $X$, we just confirm that:\n",
        "* (a) it is a superkey\n",
        "* (b) there are no smaller superkeys (_Note that we only need to check for superkeys of one size smaller- think about why!_)"
      ]
    },
    {
      "cell_type": "code",
      "execution_count": null,
      "metadata": {
        "id": "gs0BjS7W0WED"
      },
      "outputs": [],
      "source": [
        "import itertools\n",
        "def is_key_for(A, X, fds, verbose=False):\n",
        "    subsets = set(itertools.combinations(A, len(A)-1))\n",
        "    return is_superkey_for(A, X, fds) and \\\n",
        "        all([not is_superkey_for(set(SA), X, fds) for SA in subsets])"
      ]
    },
    {
      "cell_type": "markdown",
      "metadata": {
        "id": "QLxKdXxO0WED"
      },
      "source": [
        "### Task 1 (10 pts)\n",
        "\n",
        "Given the schema $R=\\{A,B,C\\}$, define a set of FDs such that there are **two- _and only two_- keys**, and check using the above functions!"
      ]
    },
    {
      "cell_type": "code",
      "execution_count": null,
      "metadata": {
        "id": "CkQkhyFw0WEE"
      },
      "outputs": [],
      "source": [
        "R = set(['A','B','C'])"
      ]
    },
    {
      "cell_type": "code",
      "execution_count": null,
      "metadata": {
        "id": "8LHzoWZC0WEE",
        "colab": {
          "base_uri": "https://localhost:8080/"
        },
        "outputId": "7b2c7677-cd59-4d63-de63-af59f4acae17"
      },
      "outputs": [
        {
          "output_type": "stream",
          "name": "stdout",
          "text": [
            "True\n",
            "True\n",
            "False\n"
          ]
        }
      ],
      "source": [
        "F = [(set(['A','B']), 'C'),\n",
        "     (set(['A','C']), 'B')]\n",
        "\n",
        "print(is_key_for(set(['A','B']), R, F)) # Key\n",
        "print(is_key_for(set(['A','C']), R, F)) # Key\n",
        "print(is_key_for(set(['B','C']), R, F)) # Not Key"
      ]
    },
    {
      "cell_type": "markdown",
      "metadata": {
        "id": "iW9n8oF_0WEE"
      },
      "source": [
        "### Task 2 (15 pts)\n",
        "\n",
        "Now, given the below relation $R$, and the above tools, define a set of FDs to result in the most keys possible.  How many keys can you make?  Largest number wins it all!\n",
        "\n",
        "_Bonus question: how many different sets of FDs will result in this maximum number of keys?_"
      ]
    },
    {
      "cell_type": "code",
      "execution_count": null,
      "metadata": {
        "id": "Adj_hHgQ0WEE"
      },
      "outputs": [],
      "source": [
        "R = set(['A','B','C','D','E'])"
      ]
    },
    {
      "cell_type": "code",
      "execution_count": null,
      "metadata": {
        "colab": {
          "base_uri": "https://localhost:8080/"
        },
        "id": "VTIEYfQe0WEF",
        "outputId": "157639da-3d55-4fe7-c181-baf6ed9e8791"
      },
      "outputs": [
        {
          "output_type": "stream",
          "name": "stdout",
          "text": [
            "True\n",
            "True\n",
            "True\n",
            "True\n",
            "True\n",
            "True\n",
            "True\n",
            "True\n",
            "True\n",
            "True\n"
          ]
        }
      ],
      "source": [
        "F = [(set(['A','B','C']), set(['D','E'])),\n",
        "     (set(['A','B','D']), set(['C','E'])),\n",
        "     (set(['A','B','E']), set(['C','D'])),\n",
        "     (set(['A','C','D']), set(['B','E'])),\n",
        "     (set(['A','C','E']), set(['B','D'])),\n",
        "     (set(['A','D','E']), set(['B','C'])),\n",
        "     (set(['B','C','D']), set(['A','E'])),\n",
        "     (set(['B','C','E']), set(['A','D'])),\n",
        "     (set(['B','D','E']), set(['A','C'])),\n",
        "     (set(['C','D','E']), set(['A','B']))]\n",
        "     \n",
        "print(is_key_for(set(['A','B','C']), R, F))\n",
        "print(is_key_for(set(['A','B','D']), R, F))\n",
        "print(is_key_for(set(['A','B','E']), R, F))\n",
        "print(is_key_for(set(['A','C','D']), R, F))\n",
        "print(is_key_for(set(['A','C','E']), R, F))\n",
        "print(is_key_for(set(['A','D','E']), R, F))\n",
        "print(is_key_for(set(['B','C','D']), R, F))\n",
        "print(is_key_for(set(['B','C','E']), R, F))\n",
        "print(is_key_for(set(['B','D','E']), R, F))\n",
        "print(is_key_for(set(['C','D','E']), R, F))\n",
        "\n",
        "# Bonus question: How many different sets of FDs will result in this maximum number of keys?\n",
        "# Answer: \n",
        "# C(5,0) = 1\n",
        "# C(5,1) = 5\n",
        "# C(5,2) = 10\n",
        "# C(5,3) = 10\n",
        "# C(5,4) = 5\n",
        "# C(5,5) = 1\n",
        "# C(5,2) = C(5,3) = 10. They will return maximum number of keys, so answer 2."
      ]
    },
    {
      "cell_type": "markdown",
      "metadata": {
        "id": "bnfs37hP0WEF"
      },
      "source": [
        "## Activity 4.3: BCNF Decompositions\n",
        "\n",
        "The goal for this activity will be to compute some BCNF decompositions, using the tools from last lecture\n",
        "\n",
        "First we'll load those tools, and some sample data:"
      ]
    },
    {
      "cell_type": "code",
      "execution_count": null,
      "metadata": {
        "id": "4lowcOB20WEF"
      },
      "outputs": [],
      "source": [
        "from closure import compute_closure, display_side_by_side, print_setup"
      ]
    },
    {
      "cell_type": "code",
      "execution_count": null,
      "metadata": {
        "colab": {
          "base_uri": "https://localhost:8080/",
          "height": 70
        },
        "id": "cElAe58P0WEF",
        "outputId": "c76934f0-2eb9-4b49-9228-c9ce5e7e93ba"
      },
      "outputs": [
        {
          "output_type": "stream",
          "name": "stdout",
          "text": [
            "The sql extension is already loaded. To reload it, use:\n",
            "  %reload_ext sql\n"
          ]
        },
        {
          "output_type": "execute_result",
          "data": {
            "text/plain": [
              "'Connected: @None'"
            ],
            "application/vnd.google.colaboratory.intrinsic+json": {
              "type": "string"
            }
          },
          "metadata": {},
          "execution_count": 40
        }
      ],
      "source": [
        "# make sure that sql is installed: pip install ipython-sql\n",
        "%load_ext sql\n",
        "%sql sqlite://"
      ]
    },
    {
      "cell_type": "code",
      "execution_count": null,
      "metadata": {
        "colab": {
          "base_uri": "https://localhost:8080/"
        },
        "id": "K2YnQY3X0WEG",
        "outputId": "ffa72fc0-f26c-4fbc-e5b1-a2ebd8bb9f06"
      },
      "outputs": [
        {
          "output_type": "stream",
          "name": "stdout",
          "text": [
            " * sqlite://\n",
            "Done.\n",
            "Done.\n",
            "1 rows affected.\n",
            "1 rows affected.\n",
            "1 rows affected.\n"
          ]
        },
        {
          "output_type": "execute_result",
          "data": {
            "text/plain": [
              "[]"
            ]
          },
          "metadata": {},
          "execution_count": 118
        }
      ],
      "source": [
        "%%sql DROP TABLE IF EXISTS T;\n",
        "CREATE TABLE T(course VARCHAR, classroom INT, time INT);\n",
        "INSERT INTO T VALUES ('CS 364', 132, 900);\n",
        "INSERT INTO T VALUES ('CS 245', 140, 1000);\n",
        "INSERT INTO T VALUES ('EE 101', 210, 900);"
      ]
    },
    {
      "cell_type": "markdown",
      "metadata": {
        "id": "bZS0xCwq0WEG"
      },
      "source": [
        "### Task 1 (10 pts)\n",
        "\n",
        "First, let's decompose `T` into BCNF!  Explicitly go through the steps of the BCNF algorithm using the `compute_closure` function, then decompose the following table (i.e. by creating new SQL tables) into BCNF:\n",
        "\n",
        "We've also made a function, `display_side_by_side`, for nicer display!"
      ]
    },
    {
      "cell_type": "code",
      "execution_count": null,
      "metadata": {
        "colab": {
          "base_uri": "https://localhost:8080/",
          "height": 137
        },
        "id": "JLMjOv3Q0WEG",
        "outputId": "c1d74acd-5785-4321-8c12-c9f0418165c1"
      },
      "outputs": [
        {
          "output_type": "stream",
          "name": "stdout",
          "text": [
            " * sqlite://\n",
            "Done.\n"
          ]
        },
        {
          "output_type": "execute_result",
          "data": {
            "text/plain": [
              "[('CS 364', 132, 900), ('CS 245', 140, 1000), ('EE 101', 210, 900)]"
            ],
            "text/html": [
              "<table>\n",
              "    <thead>\n",
              "        <tr>\n",
              "            <th>course</th>\n",
              "            <th>classroom</th>\n",
              "            <th>time</th>\n",
              "        </tr>\n",
              "    </thead>\n",
              "    <tbody>\n",
              "        <tr>\n",
              "            <td>CS 364</td>\n",
              "            <td>132</td>\n",
              "            <td>900</td>\n",
              "        </tr>\n",
              "        <tr>\n",
              "            <td>CS 245</td>\n",
              "            <td>140</td>\n",
              "            <td>1000</td>\n",
              "        </tr>\n",
              "        <tr>\n",
              "            <td>EE 101</td>\n",
              "            <td>210</td>\n",
              "            <td>900</td>\n",
              "        </tr>\n",
              "    </tbody>\n",
              "</table>"
            ]
          },
          "metadata": {},
          "execution_count": 119
        }
      ],
      "source": [
        "%sql SELECT * FROM T;"
      ]
    },
    {
      "cell_type": "markdown",
      "metadata": {
        "id": "M__PfkJ10WEG"
      },
      "source": [
        "We are given the following FDs:"
      ]
    },
    {
      "cell_type": "code",
      "execution_count": null,
      "metadata": {
        "colab": {
          "base_uri": "https://localhost:8080/"
        },
        "id": "50PKOcUd0WEG",
        "outputId": "6ca63aa9-a008-498c-9bfd-ed7c2232830f"
      },
      "outputs": [
        {
          "output_type": "stream",
          "name": "stdout",
          "text": [
            "Attributes = {course,classroom,time}\n",
            "FDs:\n",
            "\n",
            "=> \tcourse -> classroom\n",
            "\n",
            "=> \tclassroom,time -> course\n"
          ]
        }
      ],
      "source": [
        "A = set(['course', 'classroom', 'time'])\n",
        "F = [('course', 'classroom'), (set(['classroom', 'time']), 'course')]\n",
        "print_setup(A, F)"
      ]
    },
    {
      "cell_type": "markdown",
      "metadata": {
        "id": "fmiqMWRT0WEH"
      },
      "source": [
        "**Q:** What real-world constraints do these FDs express?\n",
        "\n",
        "Now, use the `compute_closure` function to help decompose this table to BCNF:"
      ]
    },
    {
      "cell_type": "code",
      "execution_count": null,
      "metadata": {
        "id": "doi3ApVR0WEH",
        "colab": {
          "base_uri": "https://localhost:8080/"
        },
        "outputId": "75802dfb-fbed-4890-fb7f-ca91af9ea01c"
      },
      "outputs": [
        {
          "output_type": "execute_result",
          "data": {
            "text/plain": [
              "{'classroom', 'course'}"
            ]
          },
          "metadata": {},
          "execution_count": 121
        }
      ],
      "source": [
        "X = set(['course'])\n",
        "compute_closure(X, F)"
      ]
    },
    {
      "cell_type": "markdown",
      "metadata": {
        "id": "pQgbyAHT0WEH"
      },
      "source": [
        "Compose into two tables, $T_1$ and $T_2$:"
      ]
    },
    {
      "cell_type": "code",
      "execution_count": null,
      "metadata": {
        "id": "-ne2i1rG0WEH",
        "colab": {
          "base_uri": "https://localhost:8080/"
        },
        "outputId": "56b04082-6cb7-4238-8151-9f3a9931d92f"
      },
      "outputs": [
        {
          "output_type": "stream",
          "name": "stdout",
          "text": [
            " * sqlite://\n",
            "Done.\n",
            "Done.\n"
          ]
        },
        {
          "output_type": "execute_result",
          "data": {
            "text/plain": [
              "[]"
            ]
          },
          "metadata": {},
          "execution_count": 122
        }
      ],
      "source": [
        "%%sql\n",
        "DROP TABLE IF EXISTS T1;\n",
        "CREATE TABLE T1 AS SELECT DISTINCT * FROM (\n",
        "  SELECT course, classroom FROM T\n",
        ");"
      ]
    },
    {
      "cell_type": "code",
      "execution_count": null,
      "metadata": {
        "id": "ssAbWMvH0WEH",
        "colab": {
          "base_uri": "https://localhost:8080/"
        },
        "outputId": "d3d1c246-4187-42c7-d71f-08c016a27dab"
      },
      "outputs": [
        {
          "output_type": "stream",
          "name": "stdout",
          "text": [
            " * sqlite://\n",
            "Done.\n",
            "Done.\n"
          ]
        },
        {
          "output_type": "execute_result",
          "data": {
            "text/plain": [
              "[]"
            ]
          },
          "metadata": {},
          "execution_count": 123
        }
      ],
      "source": [
        "%%sql\n",
        "DROP TABLE IF EXISTS T2;\n",
        "CREATE TABLE T2 AS SELECT DISTINCT * FROM (\n",
        "  SELECT course, time FROM T\n",
        ");"
      ]
    },
    {
      "cell_type": "markdown",
      "metadata": {
        "id": "clgEghZ90WEH"
      },
      "source": [
        "Now run the below to display the decomposed tables side-by-side:"
      ]
    },
    {
      "cell_type": "code",
      "execution_count": null,
      "metadata": {
        "id": "rjrtdUM30WEH",
        "colab": {
          "base_uri": "https://localhost:8080/",
          "height": 176
        },
        "outputId": "81ef69dc-ca57-480c-c73b-feeaf7c5f366"
      },
      "outputs": [
        {
          "output_type": "stream",
          "name": "stdout",
          "text": [
            " * sqlite://\n",
            "Done.\n",
            " * sqlite://\n",
            "Done.\n"
          ]
        },
        {
          "output_type": "display_data",
          "data": {
            "text/html": [
              "<table style=\"display: inline-block;\"><tr><th>course</th><th>classroom</th></tr><tr><td>CS 364</td><td>132</td></tr><tr><td>CS 245</td><td>140</td></tr><tr><td>EE 101</td><td>210</tr></table> <table style=\"display: inline-block;\"><tr><th>course</th><th>time</th></tr><tr><td>CS 364</td><td>900</td></tr><tr><td>CS 245</td><td>1000</td></tr><tr><td>EE 101</td><td>900</tr></table>"
            ]
          },
          "metadata": {}
        }
      ],
      "source": [
        "l = %sql SELECT * FROM T1;\n",
        "r = %sql SELECT * FROM T2;\n",
        "display_side_by_side(l,r)\n",
        "\n",
        "# Answer 0f The Question Below:\n",
        "# There are two conditions to be BCNF.\n",
        "# 1) course → classroom (classroom ⊆ course)\n",
        "# 2) Also course is superkey.\n",
        "# It satisfies both of conditions, so yes it's a BCNF."
      ]
    },
    {
      "cell_type": "markdown",
      "metadata": {
        "id": "uqVBbA4m0WEI"
      },
      "source": [
        "**Q:** Is this now in BCNF?"
      ]
    },
    {
      "cell_type": "markdown",
      "metadata": {
        "id": "GtIX1O860WEI"
      },
      "source": [
        "-- Answer"
      ]
    },
    {
      "cell_type": "markdown",
      "metadata": {
        "id": "CeJPZZ1D0WEI"
      },
      "source": [
        "### Task 2 (15 pts)\n",
        "\n",
        "See if you can insert rows into $T_1$ and/or $T_2$ _which respect the local FDs that still hold_, such that **when $T_1$ and $T_2$ are now recomposed, the original FDs do not hold!**"
      ]
    },
    {
      "cell_type": "code",
      "execution_count": null,
      "metadata": {
        "id": "bWKrBxip0WEI",
        "colab": {
          "base_uri": "https://localhost:8080/"
        },
        "outputId": "a4449734-be7f-4110-c3b9-b35e6b157ec4"
      },
      "outputs": [
        {
          "output_type": "stream",
          "name": "stdout",
          "text": [
            " * sqlite://\n",
            "1 rows affected.\n",
            "1 rows affected.\n"
          ]
        },
        {
          "output_type": "execute_result",
          "data": {
            "text/plain": [
              "[]"
            ]
          },
          "metadata": {},
          "execution_count": 125
        }
      ],
      "source": [
        "%%sql\n",
        "INSERT INTO T1 VALUES ('CS 145', 132);\n",
        "INSERT INTO T2 VALUES ('CS 145', 900);"
      ]
    },
    {
      "cell_type": "markdown",
      "metadata": {
        "id": "ZxaW1YWu0WEI"
      },
      "source": [
        "Now, reconstruct and print the re-composed table using a SQL query:"
      ]
    },
    {
      "cell_type": "code",
      "execution_count": null,
      "metadata": {
        "id": "lDMJniib0WEJ",
        "colab": {
          "base_uri": "https://localhost:8080/",
          "height": 158
        },
        "outputId": "d2352954-f59f-4fa5-854f-42ec022604ac"
      },
      "outputs": [
        {
          "output_type": "stream",
          "name": "stdout",
          "text": [
            " * sqlite://\n",
            "Done.\n"
          ]
        },
        {
          "output_type": "execute_result",
          "data": {
            "text/plain": [
              "[('CS 364', 132, 900),\n",
              " ('CS 245', 140, 1000),\n",
              " ('EE 101', 210, 900),\n",
              " ('CS 145', 132, 900)]"
            ],
            "text/html": [
              "<table>\n",
              "    <thead>\n",
              "        <tr>\n",
              "            <th>course</th>\n",
              "            <th>classroom</th>\n",
              "            <th>time</th>\n",
              "        </tr>\n",
              "    </thead>\n",
              "    <tbody>\n",
              "        <tr>\n",
              "            <td>CS 364</td>\n",
              "            <td>132</td>\n",
              "            <td>900</td>\n",
              "        </tr>\n",
              "        <tr>\n",
              "            <td>CS 245</td>\n",
              "            <td>140</td>\n",
              "            <td>1000</td>\n",
              "        </tr>\n",
              "        <tr>\n",
              "            <td>EE 101</td>\n",
              "            <td>210</td>\n",
              "            <td>900</td>\n",
              "        </tr>\n",
              "        <tr>\n",
              "            <td>CS 145</td>\n",
              "            <td>132</td>\n",
              "            <td>900</td>\n",
              "        </tr>\n",
              "    </tbody>\n",
              "</table>"
            ]
          },
          "metadata": {},
          "execution_count": 78
        }
      ],
      "source": [
        "# Fill _____\n",
        "%%sql\n",
        "SELECT T1.course, T1.classroom, T2.time\n",
        "FROM T1, T2\n",
        "WHERE T1.course = T2.course;\n",
        "\n",
        "# Answer of The Question Below\n",
        "# When tables are recomposed original functional dependencies don't hold!\n",
        "# For example CS364 and CS145 have same classroom."
      ]
    },
    {
      "cell_type": "markdown",
      "metadata": {
        "id": "l-6fuXiN0WEJ"
      },
      "source": [
        "**Q:** What went wrong?"
      ]
    },
    {
      "cell_type": "markdown",
      "metadata": {
        "id": "D6F3X1z70WEJ"
      },
      "source": [
        "-- Answer"
      ]
    },
    {
      "cell_type": "markdown",
      "metadata": {
        "id": "Lzx7l0Ig0WEJ"
      },
      "source": [
        "## Activity 4.4 : MVDs"
      ]
    },
    {
      "cell_type": "markdown",
      "metadata": {
        "id": "Izgzw7zD0WEJ"
      },
      "source": [
        "## Formal definition\n",
        "\n",
        "Given a relation $R$ having attributes $A$, and two sets of attributes $X,Y\\subseteq A$, the **_multi-value dependency (MVD)_** $X\\twoheadrightarrow Y$ holds on $R$ if, for **any** tuples $t_1,t_2\\in R$ s.t. $t_1[X] = t_2[X]$, there exists a tuple $t_3\\in R$ s.t.:\n",
        "\n",
        "* $t_3[X] = t_1[X] = t_2[X]$\n",
        "* $t_3[Y] = t_1[Y]$\n",
        "* $t_3[A\\setminus Y] = t_2[A\\setminus Y]$\n",
        "\n",
        "where $A\\setminus B$ = all elements of $A$ not in $B$.\n",
        "\n",
        "So let's consider a toy example at this point:"
      ]
    },
    {
      "cell_type": "code",
      "execution_count": null,
      "metadata": {
        "id": "2SZBAv4x0WEJ",
        "colab": {
          "base_uri": "https://localhost:8080/",
          "height": 186
        },
        "outputId": "6e2a5b44-726e-423e-d4d4-e0e251ba87a0"
      },
      "outputs": [
        {
          "output_type": "stream",
          "name": "stdout",
          "text": [
            " * sqlite://\n",
            "Done.\n",
            "Done.\n",
            "1 rows affected.\n",
            "1 rows affected.\n",
            "Done.\n"
          ]
        },
        {
          "output_type": "execute_result",
          "data": {
            "text/plain": [
              "[(1, 1, 0), (1, 0, 1)]"
            ],
            "text/html": [
              "<table>\n",
              "    <thead>\n",
              "        <tr>\n",
              "            <th>A</th>\n",
              "            <th>B</th>\n",
              "            <th>C</th>\n",
              "        </tr>\n",
              "    </thead>\n",
              "    <tbody>\n",
              "        <tr>\n",
              "            <td>1</td>\n",
              "            <td>1</td>\n",
              "            <td>0</td>\n",
              "        </tr>\n",
              "        <tr>\n",
              "            <td>1</td>\n",
              "            <td>0</td>\n",
              "            <td>1</td>\n",
              "        </tr>\n",
              "    </tbody>\n",
              "</table>"
            ]
          },
          "metadata": {},
          "execution_count": 90
        }
      ],
      "source": [
        "%%sql\n",
        "DROP TABLE IF EXISTS R; CREATE TABLE R (A INT, B INT, C INT);\n",
        "INSERT INTO R VALUES (1, 1, 0);\n",
        "INSERT INTO R VALUES (1, 0, 1);\n",
        "SELECT * FROM R;"
      ]
    },
    {
      "cell_type": "markdown",
      "metadata": {
        "id": "K2Ncbzkh0WEJ"
      },
      "source": [
        "Let's consider the first two rows as $t_1$ and $t_2$ respectively; what is the $t_3$ that the definition tells us we must add if we want the MVD $\\{A\\}\\twoheadrightarrow\\{B\\}$ to hold?  Let's add it in:"
      ]
    },
    {
      "cell_type": "code",
      "execution_count": null,
      "metadata": {
        "id": "DSS69fiQ0WEJ",
        "colab": {
          "base_uri": "https://localhost:8080/",
          "height": 154
        },
        "outputId": "0f403cad-0cc2-49bb-f7b2-6f589b838810"
      },
      "outputs": [
        {
          "output_type": "stream",
          "name": "stdout",
          "text": [
            " * sqlite://\n",
            "1 rows affected.\n",
            "Done.\n"
          ]
        },
        {
          "output_type": "execute_result",
          "data": {
            "text/plain": [
              "[(1, 1, 0), (1, 0, 1), (1, 1, 1)]"
            ],
            "text/html": [
              "<table>\n",
              "    <thead>\n",
              "        <tr>\n",
              "            <th>A</th>\n",
              "            <th>B</th>\n",
              "            <th>C</th>\n",
              "        </tr>\n",
              "    </thead>\n",
              "    <tbody>\n",
              "        <tr>\n",
              "            <td>1</td>\n",
              "            <td>1</td>\n",
              "            <td>0</td>\n",
              "        </tr>\n",
              "        <tr>\n",
              "            <td>1</td>\n",
              "            <td>0</td>\n",
              "            <td>1</td>\n",
              "        </tr>\n",
              "        <tr>\n",
              "            <td>1</td>\n",
              "            <td>1</td>\n",
              "            <td>1</td>\n",
              "        </tr>\n",
              "    </tbody>\n",
              "</table>"
            ]
          },
          "metadata": {},
          "execution_count": 91
        }
      ],
      "source": [
        "%sql INSERT INTO R VALUES (1,1,1); SELECT * FROM R;"
      ]
    },
    {
      "cell_type": "markdown",
      "metadata": {
        "id": "xLr71Eu50WEJ"
      },
      "source": [
        "However what about if we consider the first two rows as $t_2$ and $t_1$ respectively?  What row would the definition tell us we'd have to add in?"
      ]
    },
    {
      "cell_type": "code",
      "execution_count": null,
      "metadata": {
        "id": "8s5UaubC0WEK",
        "colab": {
          "base_uri": "https://localhost:8080/",
          "height": 175
        },
        "outputId": "0db2aa98-7c92-4bd8-f1e7-81c87d911c4d"
      },
      "outputs": [
        {
          "output_type": "stream",
          "name": "stdout",
          "text": [
            " * sqlite://\n",
            "1 rows affected.\n",
            "Done.\n"
          ]
        },
        {
          "output_type": "execute_result",
          "data": {
            "text/plain": [
              "[(1, 1, 0), (1, 0, 1), (1, 1, 1), (1, 0, 0)]"
            ],
            "text/html": [
              "<table>\n",
              "    <thead>\n",
              "        <tr>\n",
              "            <th>A</th>\n",
              "            <th>B</th>\n",
              "            <th>C</th>\n",
              "        </tr>\n",
              "    </thead>\n",
              "    <tbody>\n",
              "        <tr>\n",
              "            <td>1</td>\n",
              "            <td>1</td>\n",
              "            <td>0</td>\n",
              "        </tr>\n",
              "        <tr>\n",
              "            <td>1</td>\n",
              "            <td>0</td>\n",
              "            <td>1</td>\n",
              "        </tr>\n",
              "        <tr>\n",
              "            <td>1</td>\n",
              "            <td>1</td>\n",
              "            <td>1</td>\n",
              "        </tr>\n",
              "        <tr>\n",
              "            <td>1</td>\n",
              "            <td>0</td>\n",
              "            <td>0</td>\n",
              "        </tr>\n",
              "    </tbody>\n",
              "</table>"
            ]
          },
          "metadata": {},
          "execution_count": 92
        }
      ],
      "source": [
        "%sql INSERT INTO R VALUES (1,0,0); SELECT * FROM R;"
      ]
    },
    {
      "cell_type": "markdown",
      "metadata": {
        "id": "lcZH3ueZ0WEK"
      },
      "source": [
        "Now, if we checked every other pair like this, we'd see that we are done- the MVD $\\{A\\}\\twoheadrightarrow\\{B\\}$ holds!\n",
        "\n",
        "## A second definition\n",
        "\n",
        "We see that this suggests another (equivalent) definition, which we'll phrase slightly less formally:\n",
        "\n",
        "**For an MVD $\\{A\\}\\twoheadrightarrow\\{B\\}$ to hold, for any pair of tuples that agree on attributes $A$, we also must find the corresponding _\"swapped\"_ pair: a pair of tuples that also have the same value of $A$ but have their $B$ and $(A\\cup B)^C$ attributes swapped.**\n",
        "\n",
        "(*where $(A\\cup B)^C$ just means the attributes not in $A$ or $B$*)\n",
        "\n",
        "This definition should make sense, and might even feel more intuitive, given the toy example above!"
      ]
    },
    {
      "cell_type": "markdown",
      "metadata": {
        "id": "6xF8WAWi0WEK"
      },
      "source": [
        "### Addressing one point of confusion:\n",
        "\n",
        "Remember, an MVD holds over a **relation** (not a single tuple, not a single pair of tuples $t_1,t_2$...).  Again, look at the definition- an MVD, say $\\{X\\}\\twoheadrightarrow\\{Y\\}$, holds over a relation $R$ if **_for any possible_** pair of tuples $t_1,t_2$ in $R$ such that $t_1[A]=t_2[A]$, the condition in the definition holds...\n",
        "\n",
        "\n",
        "### Another clarification of terminology:\n",
        "So how can we ever _test_ if an MVD holds over a relation $R$, based just on one _instance_ of $R$?  Couldn't someone always add in more tuples and violate it?  Aren't we being a little sloppy when we say an MVD 'holds' on an _instance_ of a relation just based on checking the instance..?\n",
        "\n",
        "This is correct.  Recall that we have the same situation with FDs- we need to have _external information_ (such as a set of functional dependencies) to _prove_ that an MVD holds in general over a relation.  We **can** prove that it is violated or not violated by an instance of $R$, and that it thus could or could not potentially hold in general.\n",
        "\n",
        "So when we say an MVD (or an FD) _holds_ on an instance, based only on checking the instance, we implictly mean the above- that based on the instance we see, it _could_ hold in general."
      ]
    },
    {
      "cell_type": "markdown",
      "metadata": {
        "id": "L-foUTmB0WEK"
      },
      "source": [
        "### A third definition...\n",
        "\n",
        "At this point (especially if you're still reading) you may suspect a connection to cross-products and joins.  Consider decomposing our toy example in its **original state (before we added in the two rows to make the MVD hold)**.  Let's decompose it into two tables, split by the attribute sets of the MVD (recall it was $\\{A\\}\\twoheadrightarrow\\{B\\}$):"
      ]
    },
    {
      "cell_type": "code",
      "execution_count": null,
      "metadata": {
        "id": "EjXp920R0WEK",
        "colab": {
          "base_uri": "https://localhost:8080/",
          "height": 186
        },
        "outputId": "e85c22b3-52c3-4be9-ad5b-88ef2090bb93"
      },
      "outputs": [
        {
          "output_type": "stream",
          "name": "stdout",
          "text": [
            " * sqlite://\n",
            "Done.\n",
            "Done.\n",
            "1 rows affected.\n",
            "1 rows affected.\n",
            "Done.\n"
          ]
        },
        {
          "output_type": "execute_result",
          "data": {
            "text/plain": [
              "[(1, 1, 0), (1, 0, 1)]"
            ],
            "text/html": [
              "<table>\n",
              "    <thead>\n",
              "        <tr>\n",
              "            <th>A</th>\n",
              "            <th>B</th>\n",
              "            <th>C</th>\n",
              "        </tr>\n",
              "    </thead>\n",
              "    <tbody>\n",
              "        <tr>\n",
              "            <td>1</td>\n",
              "            <td>1</td>\n",
              "            <td>0</td>\n",
              "        </tr>\n",
              "        <tr>\n",
              "            <td>1</td>\n",
              "            <td>0</td>\n",
              "            <td>1</td>\n",
              "        </tr>\n",
              "    </tbody>\n",
              "</table>"
            ]
          },
          "metadata": {},
          "execution_count": 93
        }
      ],
      "source": [
        "%%sql\n",
        "DROP TABLE IF EXISTS R; CREATE TABLE R (A INT, B INT, C INT);\n",
        "INSERT INTO R VALUES (1, 1, 0);\n",
        "INSERT INTO R VALUES (1, 0, 1);\n",
        "SELECT * FROM R;"
      ]
    },
    {
      "cell_type": "code",
      "execution_count": null,
      "metadata": {
        "id": "jAWPlmZy0WEK",
        "colab": {
          "base_uri": "https://localhost:8080/",
          "height": 259
        },
        "outputId": "c2360bfc-185b-43cc-e8b3-257223b01f01"
      },
      "outputs": [
        {
          "output_type": "stream",
          "name": "stdout",
          "text": [
            " * sqlite://\n",
            "Done.\n",
            "Done.\n",
            " * sqlite://\n",
            "Done.\n",
            "Done.\n",
            " * sqlite://\n",
            "Done.\n",
            " * sqlite://\n",
            "Done.\n"
          ]
        },
        {
          "output_type": "display_data",
          "data": {
            "text/html": [
              "<table style=\"display: inline-block;\"><tr><th>A</th><th>B</th></tr><tr><td>1</td><td>0</td></tr><tr><td>1</td><td>1</tr></table> <table style=\"display: inline-block;\"><tr><th>A</th><th>C</th></tr><tr><td>1</td><td>0</td></tr><tr><td>1</td><td>1</tr></table>"
            ]
          },
          "metadata": {}
        }
      ],
      "source": [
        "%sql DROP TABLE IF EXISTS R1; CREATE TABLE R1 AS SELECT A,B FROM R GROUP BY A,B;\n",
        "%sql DROP TABLE IF EXISTS R2; CREATE TABLE R2 AS SELECT A,C FROM R GROUP BY A,C;\n",
        "r1 = %sql SELECT * FROM R1;\n",
        "r2 = %sql SELECT * FROM R2;\n",
        "display_side_by_side(r1,r2)"
      ]
    },
    {
      "cell_type": "markdown",
      "metadata": {
        "id": "30BYujb00WEL"
      },
      "source": [
        "Now let's take the join to recompose:"
      ]
    },
    {
      "cell_type": "code",
      "execution_count": null,
      "metadata": {
        "id": "LdFLwDD10WEL",
        "colab": {
          "base_uri": "https://localhost:8080/",
          "height": 158
        },
        "outputId": "a6d8c0d0-71a1-4f42-95b2-22d0d27d4a9d"
      },
      "outputs": [
        {
          "output_type": "stream",
          "name": "stdout",
          "text": [
            " * sqlite://\n",
            "Done.\n"
          ]
        },
        {
          "output_type": "execute_result",
          "data": {
            "text/plain": [
              "[(1, 0, 0), (1, 0, 1), (1, 1, 0), (1, 1, 1)]"
            ],
            "text/html": [
              "<table>\n",
              "    <thead>\n",
              "        <tr>\n",
              "            <th>A</th>\n",
              "            <th>B</th>\n",
              "            <th>C</th>\n",
              "        </tr>\n",
              "    </thead>\n",
              "    <tbody>\n",
              "        <tr>\n",
              "            <td>1</td>\n",
              "            <td>0</td>\n",
              "            <td>0</td>\n",
              "        </tr>\n",
              "        <tr>\n",
              "            <td>1</td>\n",
              "            <td>0</td>\n",
              "            <td>1</td>\n",
              "        </tr>\n",
              "        <tr>\n",
              "            <td>1</td>\n",
              "            <td>1</td>\n",
              "            <td>0</td>\n",
              "        </tr>\n",
              "        <tr>\n",
              "            <td>1</td>\n",
              "            <td>1</td>\n",
              "            <td>1</td>\n",
              "        </tr>\n",
              "    </tbody>\n",
              "</table>"
            ]
          },
          "metadata": {},
          "execution_count": 95
        }
      ],
      "source": [
        "%%sql\n",
        "SELECT r1.A AS A, r1.B AS B, r2.C AS C\n",
        "FROM R1 r1, R2 r2\n",
        "WHERE r1.A = r2.A;"
      ]
    },
    {
      "cell_type": "markdown",
      "metadata": {
        "id": "brEBrzLd0WEL"
      },
      "source": [
        "Woah!  The MVD that we decomposed along holds for the join of the decomposition!  We see that this is another definition for an MVD, in terms of the _'local joins'_: an MVD $\\{A\\}\\twoheadrightarrow\\{B\\}$ holds if whenever we take a block of rows with the same value for the $A$ attributes, decompose it into $R_1(A,B)$ and $R_2(A,(A\\cup B)^C)$, and then take the join of these tables, we end up with the same rows we had before!"
      ]
    },
    {
      "cell_type": "markdown",
      "metadata": {
        "id": "Y6smpD1d0WEL"
      },
      "source": [
        "### Task 1 (25 pts)\n",
        "\n",
        "First load the following table:"
      ]
    },
    {
      "cell_type": "code",
      "execution_count": null,
      "metadata": {
        "id": "EpgxLK0m0WEL",
        "colab": {
          "base_uri": "https://localhost:8080/"
        },
        "outputId": "5a14b11f-23bd-41e7-8abf-7b2dbf32718c"
      },
      "outputs": [
        {
          "output_type": "stream",
          "name": "stdout",
          "text": [
            " * sqlite://\n",
            "Done.\n",
            "Done.\n",
            "1 rows affected.\n",
            "1 rows affected.\n",
            "1 rows affected.\n",
            "1 rows affected.\n",
            "Done.\n"
          ]
        },
        {
          "output_type": "execute_result",
          "data": {
            "text/plain": [
              "[]"
            ]
          },
          "metadata": {},
          "execution_count": 108
        }
      ],
      "source": [
        "%%sql\n",
        "DROP TABLE IF EXISTS courses;\n",
        "CREATE TABLE courses (course TEXT, staff TEXT, student TEXT);\n",
        "INSERT INTO courses VALUES ('CS949','Amy','Bob');\n",
        "INSERT INTO courses VALUES ('CS145','Chris','Deb');\n",
        "INSERT INTO courses VALUES ('CS145','Chris','Eli');\n",
        "INSERT INTO courses VALUES ('CS145','Firas','Deb');\n",
        "-- INSERT INTO courses VALUES ('CS145','Firas','Bob');\n",
        "-- Firas Bob -> Firas (Firas Deb) + Bob (Amy Bob) -> MVD\n",
        "INSERT INTO courses VALUES ('CS145','Firas','Eli');"
      ]
    },
    {
      "cell_type": "markdown",
      "metadata": {
        "id": "b1IS9kYJ0WEL"
      },
      "source": [
        "We developed some appealingly simple python tools for this lecture & last, but let's switch back to SQL quickly- write a query which returns **no values _only if_** the MVD course to staff holds\n",
        "\n",
        "Then, comment out the insert statement(s) above so that the MVD does hold (do you remember how to comment out lines in SQL from earlier activities?  It's super useful!)"
      ]
    },
    {
      "cell_type": "code",
      "execution_count": null,
      "metadata": {
        "id": "qQ_tvz9_0WEL",
        "colab": {
          "base_uri": "https://localhost:8080/",
          "height": 74
        },
        "outputId": "752bd43f-290a-4292-9084-d1a9207a96c3"
      },
      "outputs": [
        {
          "output_type": "stream",
          "name": "stdout",
          "text": [
            " * sqlite://\n",
            "Done.\n"
          ]
        },
        {
          "output_type": "execute_result",
          "data": {
            "text/plain": [
              "[]"
            ],
            "text/html": [
              "<table>\n",
              "    <thead>\n",
              "        <tr>\n",
              "            <th>course</th>\n",
              "            <th>staff</th>\n",
              "            <th>student</th>\n",
              "            <th>course_1</th>\n",
              "            <th>staff_1</th>\n",
              "            <th>student_1</th>\n",
              "        </tr>\n",
              "    </thead>\n",
              "    <tbody>\n",
              "    </tbody>\n",
              "</table>"
            ]
          },
          "metadata": {},
          "execution_count": 114
        }
      ],
      "source": [
        "%%sql\n",
        "SELECT * FROM courses AS x, courses AS y\n",
        "WHERE x.course = y.course AND NOT EXISTS (\n",
        "    SELECT * FROM courses AS z\n",
        "    WHERE z.course = x.course AND z.student = y.student AND z.staff = x.staff);"
      ]
    }
  ],
  "metadata": {
    "kernelspec": {
      "display_name": "Python 3 (ipykernel)",
      "language": "python",
      "name": "python3"
    },
    "language_info": {
      "codemirror_mode": {
        "name": "ipython",
        "version": 3
      },
      "file_extension": ".py",
      "mimetype": "text/x-python",
      "name": "python",
      "nbconvert_exporter": "python",
      "pygments_lexer": "ipython3",
      "version": "3.10.0"
    },
    "colab": {
      "provenance": []
    }
  },
  "nbformat": 4,
  "nbformat_minor": 0
}